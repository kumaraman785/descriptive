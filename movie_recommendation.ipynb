{
  "nbformat": 4,
  "nbformat_minor": 0,
  "metadata": {
    "colab": {
      "provenance": []
    },
    "kernelspec": {
      "name": "python3",
      "display_name": "Python 3"
    },
    "language_info": {
      "name": "python"
    }
  },
  "cells": [
    {
      "cell_type": "markdown",
      "source": [
        "#Import Library"
      ],
      "metadata": {
        "id": "cyQAD3aSelma"
      }
    },
    {
      "cell_type": "code",
      "execution_count": 12,
      "metadata": {
        "id": "7OZfgzpsGALQ"
      },
      "outputs": [],
      "source": [
        "import pandas as pd\n",
        "import numpy as np"
      ]
    },
    {
      "cell_type": "markdown",
      "source": [
        "#Import Dataset\n"
      ],
      "metadata": {
        "id": "deEZFRxie5Pw"
      }
    },
    {
      "cell_type": "code",
      "source": [
        "movie_df=pd.read_csv('https://raw.githubusercontent.com/YBI-Foundation/Dataset/main/Movies%20Recommendation.csv')"
      ],
      "metadata": {
        "id": "bZld9uunG4Au"
      },
      "execution_count": 73,
      "outputs": []
    },
    {
      "cell_type": "code",
      "source": [
        "movie_df.info()"
      ],
      "metadata": {
        "colab": {
          "base_uri": "https://localhost:8080/"
        },
        "id": "XYfLK0eaG4QF",
        "outputId": "2a0cb54d-0afe-4deb-9576-dd456c8c2455"
      },
      "execution_count": 74,
      "outputs": [
        {
          "output_type": "stream",
          "name": "stdout",
          "text": [
            "<class 'pandas.core.frame.DataFrame'>\n",
            "RangeIndex: 4760 entries, 0 to 4759\n",
            "Data columns (total 21 columns):\n",
            " #   Column                    Non-Null Count  Dtype  \n",
            "---  ------                    --------------  -----  \n",
            " 0   Movie_ID                  4760 non-null   int64  \n",
            " 1   Movie_Title               4760 non-null   object \n",
            " 2   Movie_Genre               4760 non-null   object \n",
            " 3   Movie_Language            4760 non-null   object \n",
            " 4   Movie_Budget              4760 non-null   int64  \n",
            " 5   Movie_Popularity          4760 non-null   float64\n",
            " 6   Movie_Release_Date        4760 non-null   object \n",
            " 7   Movie_Revenue             4760 non-null   int64  \n",
            " 8   Movie_Runtime             4758 non-null   float64\n",
            " 9   Movie_Vote                4760 non-null   float64\n",
            " 10  Movie_Vote_Count          4760 non-null   int64  \n",
            " 11  Movie_Homepage            1699 non-null   object \n",
            " 12  Movie_Keywords            4373 non-null   object \n",
            " 13  Movie_Overview            4757 non-null   object \n",
            " 14  Movie_Production_House    4760 non-null   object \n",
            " 15  Movie_Production_Country  4760 non-null   object \n",
            " 16  Movie_Spoken_Language     4760 non-null   object \n",
            " 17  Movie_Tagline             3942 non-null   object \n",
            " 18  Movie_Cast                4733 non-null   object \n",
            " 19  Movie_Crew                4760 non-null   object \n",
            " 20  Movie_Director            4738 non-null   object \n",
            "dtypes: float64(3), int64(4), object(14)\n",
            "memory usage: 781.1+ KB\n"
          ]
        }
      ]
    },
    {
      "cell_type": "code",
      "source": [
        "movie_df.head()"
      ],
      "metadata": {
        "colab": {
          "base_uri": "https://localhost:8080/",
          "height": 672
        },
        "id": "Y1GnCIglG4TT",
        "outputId": "512cfade-a012-4d67-c205-adf209b32e9e"
      },
      "execution_count": 75,
      "outputs": [
        {
          "output_type": "execute_result",
          "data": {
            "text/plain": [
              "   Movie_ID      Movie_Title                       Movie_Genre Movie_Language  \\\n",
              "0         1       Four Rooms                      Crime Comedy             en   \n",
              "1         2        Star Wars  Adventure Action Science Fiction             en   \n",
              "2         3     Finding Nemo                  Animation Family             en   \n",
              "3         4     Forrest Gump              Comedy Drama Romance             en   \n",
              "4         5  American Beauty                             Drama             en   \n",
              "\n",
              "   Movie_Budget  Movie_Popularity Movie_Release_Date  Movie_Revenue  \\\n",
              "0       4000000         22.876230         09-12-1995        4300000   \n",
              "1      11000000        126.393695         25-05-1977      775398007   \n",
              "2      94000000         85.688789         30-05-2003      940335536   \n",
              "3      55000000        138.133331         06-07-1994      677945399   \n",
              "4      15000000         80.878605         15-09-1999      356296601   \n",
              "\n",
              "   Movie_Runtime  Movie_Vote  ...  \\\n",
              "0           98.0         6.5  ...   \n",
              "1          121.0         8.1  ...   \n",
              "2          100.0         7.6  ...   \n",
              "3          142.0         8.2  ...   \n",
              "4          122.0         7.9  ...   \n",
              "\n",
              "                                      Movie_Homepage  \\\n",
              "0                                                NaN   \n",
              "1  http://www.starwars.com/films/star-wars-episod...   \n",
              "2              http://movies.disney.com/finding-nemo   \n",
              "3                                                NaN   \n",
              "4                      http://www.dreamworks.com/ab/   \n",
              "\n",
              "                                      Movie_Keywords  \\\n",
              "0          hotel new year's eve witch bet hotel room   \n",
              "1        android galaxy hermit death star lightsaber   \n",
              "2  father son relationship harbor underwater fish...   \n",
              "3  vietnam veteran hippie mentally disabled runni...   \n",
              "4  male nudity female nudity adultery midlife cri...   \n",
              "\n",
              "                                      Movie_Overview  \\\n",
              "0  It's Ted the Bellhop's first night on the job....   \n",
              "1  Princess Leia is captured and held hostage by ...   \n",
              "2  Nemo, an adventurous young clownfish, is unexp...   \n",
              "3  A man with a low IQ has accomplished great thi...   \n",
              "4  Lester Burnham, a depressed suburban father in...   \n",
              "\n",
              "                              Movie_Production_House  \\\n",
              "0  [{\"name\": \"Miramax Films\", \"id\": 14}, {\"name\":...   \n",
              "1  [{\"name\": \"Lucasfilm\", \"id\": 1}, {\"name\": \"Twe...   \n",
              "2     [{\"name\": \"Pixar Animation Studios\", \"id\": 3}]   \n",
              "3          [{\"name\": \"Paramount Pictures\", \"id\": 4}]   \n",
              "4  [{\"name\": \"DreamWorks SKG\", \"id\": 27}, {\"name\"...   \n",
              "\n",
              "                            Movie_Production_Country  \\\n",
              "0  [{\"iso_3166_1\": \"US\", \"name\": \"United States o...   \n",
              "1  [{\"iso_3166_1\": \"US\", \"name\": \"United States o...   \n",
              "2  [{\"iso_3166_1\": \"US\", \"name\": \"United States o...   \n",
              "3  [{\"iso_3166_1\": \"US\", \"name\": \"United States o...   \n",
              "4  [{\"iso_3166_1\": \"US\", \"name\": \"United States o...   \n",
              "\n",
              "                      Movie_Spoken_Language  \\\n",
              "0  [{\"iso_639_1\": \"en\", \"name\": \"English\"}]   \n",
              "1  [{\"iso_639_1\": \"en\", \"name\": \"English\"}]   \n",
              "2  [{\"iso_639_1\": \"en\", \"name\": \"English\"}]   \n",
              "3  [{\"iso_639_1\": \"en\", \"name\": \"English\"}]   \n",
              "4  [{\"iso_639_1\": \"en\", \"name\": \"English\"}]   \n",
              "\n",
              "                                       Movie_Tagline  \\\n",
              "0  Twelve outrageous guests. Four scandalous requ...   \n",
              "1       A long time ago in a galaxy far, far away...   \n",
              "2  There are 3.7 trillion fish in the ocean, they...   \n",
              "3  The world will never be the same, once you've ...   \n",
              "4                                       Look closer.   \n",
              "\n",
              "                                          Movie_Cast  \\\n",
              "0  Tim Roth Antonio Banderas Jennifer Beals Madon...   \n",
              "1  Mark Hamill Harrison Ford Carrie Fisher Peter ...   \n",
              "2  Albert Brooks Ellen DeGeneres Alexander Gould ...   \n",
              "3  Tom Hanks Robin Wright Gary Sinise Mykelti Wil...   \n",
              "4  Kevin Spacey Annette Bening Thora Birch Wes Be...   \n",
              "\n",
              "                                          Movie_Crew   Movie_Director  \n",
              "0  [{'name': 'Allison Anders', 'gender': 1, 'depa...   Allison Anders  \n",
              "1  [{'name': 'George Lucas', 'gender': 2, 'depart...     George Lucas  \n",
              "2  [{'name': 'Andrew Stanton', 'gender': 2, 'depa...   Andrew Stanton  \n",
              "3  [{'name': 'Alan Silvestri', 'gender': 2, 'depa...  Robert Zemeckis  \n",
              "4  [{'name': 'Thomas Newman', 'gender': 2, 'depar...       Sam Mendes  \n",
              "\n",
              "[5 rows x 21 columns]"
            ],
            "text/html": [
              "\n",
              "  <div id=\"df-e73337ae-55bb-41a9-a6f6-1a75793e86dd\" class=\"colab-df-container\">\n",
              "    <div>\n",
              "<style scoped>\n",
              "    .dataframe tbody tr th:only-of-type {\n",
              "        vertical-align: middle;\n",
              "    }\n",
              "\n",
              "    .dataframe tbody tr th {\n",
              "        vertical-align: top;\n",
              "    }\n",
              "\n",
              "    .dataframe thead th {\n",
              "        text-align: right;\n",
              "    }\n",
              "</style>\n",
              "<table border=\"1\" class=\"dataframe\">\n",
              "  <thead>\n",
              "    <tr style=\"text-align: right;\">\n",
              "      <th></th>\n",
              "      <th>Movie_ID</th>\n",
              "      <th>Movie_Title</th>\n",
              "      <th>Movie_Genre</th>\n",
              "      <th>Movie_Language</th>\n",
              "      <th>Movie_Budget</th>\n",
              "      <th>Movie_Popularity</th>\n",
              "      <th>Movie_Release_Date</th>\n",
              "      <th>Movie_Revenue</th>\n",
              "      <th>Movie_Runtime</th>\n",
              "      <th>Movie_Vote</th>\n",
              "      <th>...</th>\n",
              "      <th>Movie_Homepage</th>\n",
              "      <th>Movie_Keywords</th>\n",
              "      <th>Movie_Overview</th>\n",
              "      <th>Movie_Production_House</th>\n",
              "      <th>Movie_Production_Country</th>\n",
              "      <th>Movie_Spoken_Language</th>\n",
              "      <th>Movie_Tagline</th>\n",
              "      <th>Movie_Cast</th>\n",
              "      <th>Movie_Crew</th>\n",
              "      <th>Movie_Director</th>\n",
              "    </tr>\n",
              "  </thead>\n",
              "  <tbody>\n",
              "    <tr>\n",
              "      <th>0</th>\n",
              "      <td>1</td>\n",
              "      <td>Four Rooms</td>\n",
              "      <td>Crime Comedy</td>\n",
              "      <td>en</td>\n",
              "      <td>4000000</td>\n",
              "      <td>22.876230</td>\n",
              "      <td>09-12-1995</td>\n",
              "      <td>4300000</td>\n",
              "      <td>98.0</td>\n",
              "      <td>6.5</td>\n",
              "      <td>...</td>\n",
              "      <td>NaN</td>\n",
              "      <td>hotel new year's eve witch bet hotel room</td>\n",
              "      <td>It's Ted the Bellhop's first night on the job....</td>\n",
              "      <td>[{\"name\": \"Miramax Films\", \"id\": 14}, {\"name\":...</td>\n",
              "      <td>[{\"iso_3166_1\": \"US\", \"name\": \"United States o...</td>\n",
              "      <td>[{\"iso_639_1\": \"en\", \"name\": \"English\"}]</td>\n",
              "      <td>Twelve outrageous guests. Four scandalous requ...</td>\n",
              "      <td>Tim Roth Antonio Banderas Jennifer Beals Madon...</td>\n",
              "      <td>[{'name': 'Allison Anders', 'gender': 1, 'depa...</td>\n",
              "      <td>Allison Anders</td>\n",
              "    </tr>\n",
              "    <tr>\n",
              "      <th>1</th>\n",
              "      <td>2</td>\n",
              "      <td>Star Wars</td>\n",
              "      <td>Adventure Action Science Fiction</td>\n",
              "      <td>en</td>\n",
              "      <td>11000000</td>\n",
              "      <td>126.393695</td>\n",
              "      <td>25-05-1977</td>\n",
              "      <td>775398007</td>\n",
              "      <td>121.0</td>\n",
              "      <td>8.1</td>\n",
              "      <td>...</td>\n",
              "      <td>http://www.starwars.com/films/star-wars-episod...</td>\n",
              "      <td>android galaxy hermit death star lightsaber</td>\n",
              "      <td>Princess Leia is captured and held hostage by ...</td>\n",
              "      <td>[{\"name\": \"Lucasfilm\", \"id\": 1}, {\"name\": \"Twe...</td>\n",
              "      <td>[{\"iso_3166_1\": \"US\", \"name\": \"United States o...</td>\n",
              "      <td>[{\"iso_639_1\": \"en\", \"name\": \"English\"}]</td>\n",
              "      <td>A long time ago in a galaxy far, far away...</td>\n",
              "      <td>Mark Hamill Harrison Ford Carrie Fisher Peter ...</td>\n",
              "      <td>[{'name': 'George Lucas', 'gender': 2, 'depart...</td>\n",
              "      <td>George Lucas</td>\n",
              "    </tr>\n",
              "    <tr>\n",
              "      <th>2</th>\n",
              "      <td>3</td>\n",
              "      <td>Finding Nemo</td>\n",
              "      <td>Animation Family</td>\n",
              "      <td>en</td>\n",
              "      <td>94000000</td>\n",
              "      <td>85.688789</td>\n",
              "      <td>30-05-2003</td>\n",
              "      <td>940335536</td>\n",
              "      <td>100.0</td>\n",
              "      <td>7.6</td>\n",
              "      <td>...</td>\n",
              "      <td>http://movies.disney.com/finding-nemo</td>\n",
              "      <td>father son relationship harbor underwater fish...</td>\n",
              "      <td>Nemo, an adventurous young clownfish, is unexp...</td>\n",
              "      <td>[{\"name\": \"Pixar Animation Studios\", \"id\": 3}]</td>\n",
              "      <td>[{\"iso_3166_1\": \"US\", \"name\": \"United States o...</td>\n",
              "      <td>[{\"iso_639_1\": \"en\", \"name\": \"English\"}]</td>\n",
              "      <td>There are 3.7 trillion fish in the ocean, they...</td>\n",
              "      <td>Albert Brooks Ellen DeGeneres Alexander Gould ...</td>\n",
              "      <td>[{'name': 'Andrew Stanton', 'gender': 2, 'depa...</td>\n",
              "      <td>Andrew Stanton</td>\n",
              "    </tr>\n",
              "    <tr>\n",
              "      <th>3</th>\n",
              "      <td>4</td>\n",
              "      <td>Forrest Gump</td>\n",
              "      <td>Comedy Drama Romance</td>\n",
              "      <td>en</td>\n",
              "      <td>55000000</td>\n",
              "      <td>138.133331</td>\n",
              "      <td>06-07-1994</td>\n",
              "      <td>677945399</td>\n",
              "      <td>142.0</td>\n",
              "      <td>8.2</td>\n",
              "      <td>...</td>\n",
              "      <td>NaN</td>\n",
              "      <td>vietnam veteran hippie mentally disabled runni...</td>\n",
              "      <td>A man with a low IQ has accomplished great thi...</td>\n",
              "      <td>[{\"name\": \"Paramount Pictures\", \"id\": 4}]</td>\n",
              "      <td>[{\"iso_3166_1\": \"US\", \"name\": \"United States o...</td>\n",
              "      <td>[{\"iso_639_1\": \"en\", \"name\": \"English\"}]</td>\n",
              "      <td>The world will never be the same, once you've ...</td>\n",
              "      <td>Tom Hanks Robin Wright Gary Sinise Mykelti Wil...</td>\n",
              "      <td>[{'name': 'Alan Silvestri', 'gender': 2, 'depa...</td>\n",
              "      <td>Robert Zemeckis</td>\n",
              "    </tr>\n",
              "    <tr>\n",
              "      <th>4</th>\n",
              "      <td>5</td>\n",
              "      <td>American Beauty</td>\n",
              "      <td>Drama</td>\n",
              "      <td>en</td>\n",
              "      <td>15000000</td>\n",
              "      <td>80.878605</td>\n",
              "      <td>15-09-1999</td>\n",
              "      <td>356296601</td>\n",
              "      <td>122.0</td>\n",
              "      <td>7.9</td>\n",
              "      <td>...</td>\n",
              "      <td>http://www.dreamworks.com/ab/</td>\n",
              "      <td>male nudity female nudity adultery midlife cri...</td>\n",
              "      <td>Lester Burnham, a depressed suburban father in...</td>\n",
              "      <td>[{\"name\": \"DreamWorks SKG\", \"id\": 27}, {\"name\"...</td>\n",
              "      <td>[{\"iso_3166_1\": \"US\", \"name\": \"United States o...</td>\n",
              "      <td>[{\"iso_639_1\": \"en\", \"name\": \"English\"}]</td>\n",
              "      <td>Look closer.</td>\n",
              "      <td>Kevin Spacey Annette Bening Thora Birch Wes Be...</td>\n",
              "      <td>[{'name': 'Thomas Newman', 'gender': 2, 'depar...</td>\n",
              "      <td>Sam Mendes</td>\n",
              "    </tr>\n",
              "  </tbody>\n",
              "</table>\n",
              "<p>5 rows × 21 columns</p>\n",
              "</div>\n",
              "    <div class=\"colab-df-buttons\">\n",
              "\n",
              "  <div class=\"colab-df-container\">\n",
              "    <button class=\"colab-df-convert\" onclick=\"convertToInteractive('df-e73337ae-55bb-41a9-a6f6-1a75793e86dd')\"\n",
              "            title=\"Convert this dataframe to an interactive table.\"\n",
              "            style=\"display:none;\">\n",
              "\n",
              "  <svg xmlns=\"http://www.w3.org/2000/svg\" height=\"24px\" viewBox=\"0 -960 960 960\">\n",
              "    <path d=\"M120-120v-720h720v720H120Zm60-500h600v-160H180v160Zm220 220h160v-160H400v160Zm0 220h160v-160H400v160ZM180-400h160v-160H180v160Zm440 0h160v-160H620v160ZM180-180h160v-160H180v160Zm440 0h160v-160H620v160Z\"/>\n",
              "  </svg>\n",
              "    </button>\n",
              "\n",
              "  <style>\n",
              "    .colab-df-container {\n",
              "      display:flex;\n",
              "      gap: 12px;\n",
              "    }\n",
              "\n",
              "    .colab-df-convert {\n",
              "      background-color: #E8F0FE;\n",
              "      border: none;\n",
              "      border-radius: 50%;\n",
              "      cursor: pointer;\n",
              "      display: none;\n",
              "      fill: #1967D2;\n",
              "      height: 32px;\n",
              "      padding: 0 0 0 0;\n",
              "      width: 32px;\n",
              "    }\n",
              "\n",
              "    .colab-df-convert:hover {\n",
              "      background-color: #E2EBFA;\n",
              "      box-shadow: 0px 1px 2px rgba(60, 64, 67, 0.3), 0px 1px 3px 1px rgba(60, 64, 67, 0.15);\n",
              "      fill: #174EA6;\n",
              "    }\n",
              "\n",
              "    .colab-df-buttons div {\n",
              "      margin-bottom: 4px;\n",
              "    }\n",
              "\n",
              "    [theme=dark] .colab-df-convert {\n",
              "      background-color: #3B4455;\n",
              "      fill: #D2E3FC;\n",
              "    }\n",
              "\n",
              "    [theme=dark] .colab-df-convert:hover {\n",
              "      background-color: #434B5C;\n",
              "      box-shadow: 0px 1px 3px 1px rgba(0, 0, 0, 0.15);\n",
              "      filter: drop-shadow(0px 1px 2px rgba(0, 0, 0, 0.3));\n",
              "      fill: #FFFFFF;\n",
              "    }\n",
              "  </style>\n",
              "\n",
              "    <script>\n",
              "      const buttonEl =\n",
              "        document.querySelector('#df-e73337ae-55bb-41a9-a6f6-1a75793e86dd button.colab-df-convert');\n",
              "      buttonEl.style.display =\n",
              "        google.colab.kernel.accessAllowed ? 'block' : 'none';\n",
              "\n",
              "      async function convertToInteractive(key) {\n",
              "        const element = document.querySelector('#df-e73337ae-55bb-41a9-a6f6-1a75793e86dd');\n",
              "        const dataTable =\n",
              "          await google.colab.kernel.invokeFunction('convertToInteractive',\n",
              "                                                    [key], {});\n",
              "        if (!dataTable) return;\n",
              "\n",
              "        const docLinkHtml = 'Like what you see? Visit the ' +\n",
              "          '<a target=\"_blank\" href=https://colab.research.google.com/notebooks/data_table.ipynb>data table notebook</a>'\n",
              "          + ' to learn more about interactive tables.';\n",
              "        element.innerHTML = '';\n",
              "        dataTable['output_type'] = 'display_data';\n",
              "        await google.colab.output.renderOutput(dataTable, element);\n",
              "        const docLink = document.createElement('div');\n",
              "        docLink.innerHTML = docLinkHtml;\n",
              "        element.appendChild(docLink);\n",
              "      }\n",
              "    </script>\n",
              "  </div>\n",
              "\n",
              "\n",
              "<div id=\"df-d03f8403-cb70-4b40-b57e-7e59e5874d5d\">\n",
              "  <button class=\"colab-df-quickchart\" onclick=\"quickchart('df-d03f8403-cb70-4b40-b57e-7e59e5874d5d')\"\n",
              "            title=\"Suggest charts\"\n",
              "            style=\"display:none;\">\n",
              "\n",
              "<svg xmlns=\"http://www.w3.org/2000/svg\" height=\"24px\"viewBox=\"0 0 24 24\"\n",
              "     width=\"24px\">\n",
              "    <g>\n",
              "        <path d=\"M19 3H5c-1.1 0-2 .9-2 2v14c0 1.1.9 2 2 2h14c1.1 0 2-.9 2-2V5c0-1.1-.9-2-2-2zM9 17H7v-7h2v7zm4 0h-2V7h2v10zm4 0h-2v-4h2v4z\"/>\n",
              "    </g>\n",
              "</svg>\n",
              "  </button>\n",
              "\n",
              "<style>\n",
              "  .colab-df-quickchart {\n",
              "      --bg-color: #E8F0FE;\n",
              "      --fill-color: #1967D2;\n",
              "      --hover-bg-color: #E2EBFA;\n",
              "      --hover-fill-color: #174EA6;\n",
              "      --disabled-fill-color: #AAA;\n",
              "      --disabled-bg-color: #DDD;\n",
              "  }\n",
              "\n",
              "  [theme=dark] .colab-df-quickchart {\n",
              "      --bg-color: #3B4455;\n",
              "      --fill-color: #D2E3FC;\n",
              "      --hover-bg-color: #434B5C;\n",
              "      --hover-fill-color: #FFFFFF;\n",
              "      --disabled-bg-color: #3B4455;\n",
              "      --disabled-fill-color: #666;\n",
              "  }\n",
              "\n",
              "  .colab-df-quickchart {\n",
              "    background-color: var(--bg-color);\n",
              "    border: none;\n",
              "    border-radius: 50%;\n",
              "    cursor: pointer;\n",
              "    display: none;\n",
              "    fill: var(--fill-color);\n",
              "    height: 32px;\n",
              "    padding: 0;\n",
              "    width: 32px;\n",
              "  }\n",
              "\n",
              "  .colab-df-quickchart:hover {\n",
              "    background-color: var(--hover-bg-color);\n",
              "    box-shadow: 0 1px 2px rgba(60, 64, 67, 0.3), 0 1px 3px 1px rgba(60, 64, 67, 0.15);\n",
              "    fill: var(--button-hover-fill-color);\n",
              "  }\n",
              "\n",
              "  .colab-df-quickchart-complete:disabled,\n",
              "  .colab-df-quickchart-complete:disabled:hover {\n",
              "    background-color: var(--disabled-bg-color);\n",
              "    fill: var(--disabled-fill-color);\n",
              "    box-shadow: none;\n",
              "  }\n",
              "\n",
              "  .colab-df-spinner {\n",
              "    border: 2px solid var(--fill-color);\n",
              "    border-color: transparent;\n",
              "    border-bottom-color: var(--fill-color);\n",
              "    animation:\n",
              "      spin 1s steps(1) infinite;\n",
              "  }\n",
              "\n",
              "  @keyframes spin {\n",
              "    0% {\n",
              "      border-color: transparent;\n",
              "      border-bottom-color: var(--fill-color);\n",
              "      border-left-color: var(--fill-color);\n",
              "    }\n",
              "    20% {\n",
              "      border-color: transparent;\n",
              "      border-left-color: var(--fill-color);\n",
              "      border-top-color: var(--fill-color);\n",
              "    }\n",
              "    30% {\n",
              "      border-color: transparent;\n",
              "      border-left-color: var(--fill-color);\n",
              "      border-top-color: var(--fill-color);\n",
              "      border-right-color: var(--fill-color);\n",
              "    }\n",
              "    40% {\n",
              "      border-color: transparent;\n",
              "      border-right-color: var(--fill-color);\n",
              "      border-top-color: var(--fill-color);\n",
              "    }\n",
              "    60% {\n",
              "      border-color: transparent;\n",
              "      border-right-color: var(--fill-color);\n",
              "    }\n",
              "    80% {\n",
              "      border-color: transparent;\n",
              "      border-right-color: var(--fill-color);\n",
              "      border-bottom-color: var(--fill-color);\n",
              "    }\n",
              "    90% {\n",
              "      border-color: transparent;\n",
              "      border-bottom-color: var(--fill-color);\n",
              "    }\n",
              "  }\n",
              "</style>\n",
              "\n",
              "  <script>\n",
              "    async function quickchart(key) {\n",
              "      const quickchartButtonEl =\n",
              "        document.querySelector('#' + key + ' button');\n",
              "      quickchartButtonEl.disabled = true;  // To prevent multiple clicks.\n",
              "      quickchartButtonEl.classList.add('colab-df-spinner');\n",
              "      try {\n",
              "        const charts = await google.colab.kernel.invokeFunction(\n",
              "            'suggestCharts', [key], {});\n",
              "      } catch (error) {\n",
              "        console.error('Error during call to suggestCharts:', error);\n",
              "      }\n",
              "      quickchartButtonEl.classList.remove('colab-df-spinner');\n",
              "      quickchartButtonEl.classList.add('colab-df-quickchart-complete');\n",
              "    }\n",
              "    (() => {\n",
              "      let quickchartButtonEl =\n",
              "        document.querySelector('#df-d03f8403-cb70-4b40-b57e-7e59e5874d5d button');\n",
              "      quickchartButtonEl.style.display =\n",
              "        google.colab.kernel.accessAllowed ? 'block' : 'none';\n",
              "    })();\n",
              "  </script>\n",
              "</div>\n",
              "\n",
              "    </div>\n",
              "  </div>\n"
            ],
            "application/vnd.google.colaboratory.intrinsic+json": {
              "type": "dataframe",
              "variable_name": "movie_df"
            }
          },
          "metadata": {},
          "execution_count": 75
        }
      ]
    },
    {
      "cell_type": "code",
      "source": [
        "movie_df.describe()"
      ],
      "metadata": {
        "colab": {
          "base_uri": "https://localhost:8080/",
          "height": 300
        },
        "id": "dLavsJzwG4V0",
        "outputId": "e285a675-6bbe-4938-8b1b-c0f80b2259a0"
      },
      "execution_count": 76,
      "outputs": [
        {
          "output_type": "execute_result",
          "data": {
            "text/plain": [
              "          Movie_ID  Movie_Budget  Movie_Popularity  Movie_Revenue  \\\n",
              "count  4760.000000  4.760000e+03       4760.000000   4.760000e+03   \n",
              "mean   2382.566387  2.920129e+07         21.599510   8.263743e+07   \n",
              "std    1377.270159  4.075620e+07         31.887919   1.630554e+08   \n",
              "min       1.000000  0.000000e+00          0.000372   0.000000e+00   \n",
              "25%    1190.750000  9.257500e+05          4.807074   0.000000e+00   \n",
              "50%    2380.500000  1.500000e+07         13.119058   1.944716e+07   \n",
              "75%    3572.250000  4.000000e+07         28.411929   9.341276e+07   \n",
              "max    4788.000000  3.800000e+08        875.581305   2.787965e+09   \n",
              "\n",
              "       Movie_Runtime   Movie_Vote  Movie_Vote_Count  \n",
              "count    4758.000000  4760.000000       4760.000000  \n",
              "mean      107.184111     6.113866        692.508403  \n",
              "std        21.960332     1.141294       1235.007337  \n",
              "min         0.000000     0.000000          0.000000  \n",
              "25%        94.000000     5.600000         55.000000  \n",
              "50%       104.000000     6.200000        238.000000  \n",
              "75%       118.000000     6.800000        740.250000  \n",
              "max       338.000000    10.000000      13752.000000  "
            ],
            "text/html": [
              "\n",
              "  <div id=\"df-a40e6756-bf59-4179-8a04-052c679c6bd7\" class=\"colab-df-container\">\n",
              "    <div>\n",
              "<style scoped>\n",
              "    .dataframe tbody tr th:only-of-type {\n",
              "        vertical-align: middle;\n",
              "    }\n",
              "\n",
              "    .dataframe tbody tr th {\n",
              "        vertical-align: top;\n",
              "    }\n",
              "\n",
              "    .dataframe thead th {\n",
              "        text-align: right;\n",
              "    }\n",
              "</style>\n",
              "<table border=\"1\" class=\"dataframe\">\n",
              "  <thead>\n",
              "    <tr style=\"text-align: right;\">\n",
              "      <th></th>\n",
              "      <th>Movie_ID</th>\n",
              "      <th>Movie_Budget</th>\n",
              "      <th>Movie_Popularity</th>\n",
              "      <th>Movie_Revenue</th>\n",
              "      <th>Movie_Runtime</th>\n",
              "      <th>Movie_Vote</th>\n",
              "      <th>Movie_Vote_Count</th>\n",
              "    </tr>\n",
              "  </thead>\n",
              "  <tbody>\n",
              "    <tr>\n",
              "      <th>count</th>\n",
              "      <td>4760.000000</td>\n",
              "      <td>4.760000e+03</td>\n",
              "      <td>4760.000000</td>\n",
              "      <td>4.760000e+03</td>\n",
              "      <td>4758.000000</td>\n",
              "      <td>4760.000000</td>\n",
              "      <td>4760.000000</td>\n",
              "    </tr>\n",
              "    <tr>\n",
              "      <th>mean</th>\n",
              "      <td>2382.566387</td>\n",
              "      <td>2.920129e+07</td>\n",
              "      <td>21.599510</td>\n",
              "      <td>8.263743e+07</td>\n",
              "      <td>107.184111</td>\n",
              "      <td>6.113866</td>\n",
              "      <td>692.508403</td>\n",
              "    </tr>\n",
              "    <tr>\n",
              "      <th>std</th>\n",
              "      <td>1377.270159</td>\n",
              "      <td>4.075620e+07</td>\n",
              "      <td>31.887919</td>\n",
              "      <td>1.630554e+08</td>\n",
              "      <td>21.960332</td>\n",
              "      <td>1.141294</td>\n",
              "      <td>1235.007337</td>\n",
              "    </tr>\n",
              "    <tr>\n",
              "      <th>min</th>\n",
              "      <td>1.000000</td>\n",
              "      <td>0.000000e+00</td>\n",
              "      <td>0.000372</td>\n",
              "      <td>0.000000e+00</td>\n",
              "      <td>0.000000</td>\n",
              "      <td>0.000000</td>\n",
              "      <td>0.000000</td>\n",
              "    </tr>\n",
              "    <tr>\n",
              "      <th>25%</th>\n",
              "      <td>1190.750000</td>\n",
              "      <td>9.257500e+05</td>\n",
              "      <td>4.807074</td>\n",
              "      <td>0.000000e+00</td>\n",
              "      <td>94.000000</td>\n",
              "      <td>5.600000</td>\n",
              "      <td>55.000000</td>\n",
              "    </tr>\n",
              "    <tr>\n",
              "      <th>50%</th>\n",
              "      <td>2380.500000</td>\n",
              "      <td>1.500000e+07</td>\n",
              "      <td>13.119058</td>\n",
              "      <td>1.944716e+07</td>\n",
              "      <td>104.000000</td>\n",
              "      <td>6.200000</td>\n",
              "      <td>238.000000</td>\n",
              "    </tr>\n",
              "    <tr>\n",
              "      <th>75%</th>\n",
              "      <td>3572.250000</td>\n",
              "      <td>4.000000e+07</td>\n",
              "      <td>28.411929</td>\n",
              "      <td>9.341276e+07</td>\n",
              "      <td>118.000000</td>\n",
              "      <td>6.800000</td>\n",
              "      <td>740.250000</td>\n",
              "    </tr>\n",
              "    <tr>\n",
              "      <th>max</th>\n",
              "      <td>4788.000000</td>\n",
              "      <td>3.800000e+08</td>\n",
              "      <td>875.581305</td>\n",
              "      <td>2.787965e+09</td>\n",
              "      <td>338.000000</td>\n",
              "      <td>10.000000</td>\n",
              "      <td>13752.000000</td>\n",
              "    </tr>\n",
              "  </tbody>\n",
              "</table>\n",
              "</div>\n",
              "    <div class=\"colab-df-buttons\">\n",
              "\n",
              "  <div class=\"colab-df-container\">\n",
              "    <button class=\"colab-df-convert\" onclick=\"convertToInteractive('df-a40e6756-bf59-4179-8a04-052c679c6bd7')\"\n",
              "            title=\"Convert this dataframe to an interactive table.\"\n",
              "            style=\"display:none;\">\n",
              "\n",
              "  <svg xmlns=\"http://www.w3.org/2000/svg\" height=\"24px\" viewBox=\"0 -960 960 960\">\n",
              "    <path d=\"M120-120v-720h720v720H120Zm60-500h600v-160H180v160Zm220 220h160v-160H400v160Zm0 220h160v-160H400v160ZM180-400h160v-160H180v160Zm440 0h160v-160H620v160ZM180-180h160v-160H180v160Zm440 0h160v-160H620v160Z\"/>\n",
              "  </svg>\n",
              "    </button>\n",
              "\n",
              "  <style>\n",
              "    .colab-df-container {\n",
              "      display:flex;\n",
              "      gap: 12px;\n",
              "    }\n",
              "\n",
              "    .colab-df-convert {\n",
              "      background-color: #E8F0FE;\n",
              "      border: none;\n",
              "      border-radius: 50%;\n",
              "      cursor: pointer;\n",
              "      display: none;\n",
              "      fill: #1967D2;\n",
              "      height: 32px;\n",
              "      padding: 0 0 0 0;\n",
              "      width: 32px;\n",
              "    }\n",
              "\n",
              "    .colab-df-convert:hover {\n",
              "      background-color: #E2EBFA;\n",
              "      box-shadow: 0px 1px 2px rgba(60, 64, 67, 0.3), 0px 1px 3px 1px rgba(60, 64, 67, 0.15);\n",
              "      fill: #174EA6;\n",
              "    }\n",
              "\n",
              "    .colab-df-buttons div {\n",
              "      margin-bottom: 4px;\n",
              "    }\n",
              "\n",
              "    [theme=dark] .colab-df-convert {\n",
              "      background-color: #3B4455;\n",
              "      fill: #D2E3FC;\n",
              "    }\n",
              "\n",
              "    [theme=dark] .colab-df-convert:hover {\n",
              "      background-color: #434B5C;\n",
              "      box-shadow: 0px 1px 3px 1px rgba(0, 0, 0, 0.15);\n",
              "      filter: drop-shadow(0px 1px 2px rgba(0, 0, 0, 0.3));\n",
              "      fill: #FFFFFF;\n",
              "    }\n",
              "  </style>\n",
              "\n",
              "    <script>\n",
              "      const buttonEl =\n",
              "        document.querySelector('#df-a40e6756-bf59-4179-8a04-052c679c6bd7 button.colab-df-convert');\n",
              "      buttonEl.style.display =\n",
              "        google.colab.kernel.accessAllowed ? 'block' : 'none';\n",
              "\n",
              "      async function convertToInteractive(key) {\n",
              "        const element = document.querySelector('#df-a40e6756-bf59-4179-8a04-052c679c6bd7');\n",
              "        const dataTable =\n",
              "          await google.colab.kernel.invokeFunction('convertToInteractive',\n",
              "                                                    [key], {});\n",
              "        if (!dataTable) return;\n",
              "\n",
              "        const docLinkHtml = 'Like what you see? Visit the ' +\n",
              "          '<a target=\"_blank\" href=https://colab.research.google.com/notebooks/data_table.ipynb>data table notebook</a>'\n",
              "          + ' to learn more about interactive tables.';\n",
              "        element.innerHTML = '';\n",
              "        dataTable['output_type'] = 'display_data';\n",
              "        await google.colab.output.renderOutput(dataTable, element);\n",
              "        const docLink = document.createElement('div');\n",
              "        docLink.innerHTML = docLinkHtml;\n",
              "        element.appendChild(docLink);\n",
              "      }\n",
              "    </script>\n",
              "  </div>\n",
              "\n",
              "\n",
              "<div id=\"df-a715f4e8-021a-4ae5-86c2-a8c74d791a29\">\n",
              "  <button class=\"colab-df-quickchart\" onclick=\"quickchart('df-a715f4e8-021a-4ae5-86c2-a8c74d791a29')\"\n",
              "            title=\"Suggest charts\"\n",
              "            style=\"display:none;\">\n",
              "\n",
              "<svg xmlns=\"http://www.w3.org/2000/svg\" height=\"24px\"viewBox=\"0 0 24 24\"\n",
              "     width=\"24px\">\n",
              "    <g>\n",
              "        <path d=\"M19 3H5c-1.1 0-2 .9-2 2v14c0 1.1.9 2 2 2h14c1.1 0 2-.9 2-2V5c0-1.1-.9-2-2-2zM9 17H7v-7h2v7zm4 0h-2V7h2v10zm4 0h-2v-4h2v4z\"/>\n",
              "    </g>\n",
              "</svg>\n",
              "  </button>\n",
              "\n",
              "<style>\n",
              "  .colab-df-quickchart {\n",
              "      --bg-color: #E8F0FE;\n",
              "      --fill-color: #1967D2;\n",
              "      --hover-bg-color: #E2EBFA;\n",
              "      --hover-fill-color: #174EA6;\n",
              "      --disabled-fill-color: #AAA;\n",
              "      --disabled-bg-color: #DDD;\n",
              "  }\n",
              "\n",
              "  [theme=dark] .colab-df-quickchart {\n",
              "      --bg-color: #3B4455;\n",
              "      --fill-color: #D2E3FC;\n",
              "      --hover-bg-color: #434B5C;\n",
              "      --hover-fill-color: #FFFFFF;\n",
              "      --disabled-bg-color: #3B4455;\n",
              "      --disabled-fill-color: #666;\n",
              "  }\n",
              "\n",
              "  .colab-df-quickchart {\n",
              "    background-color: var(--bg-color);\n",
              "    border: none;\n",
              "    border-radius: 50%;\n",
              "    cursor: pointer;\n",
              "    display: none;\n",
              "    fill: var(--fill-color);\n",
              "    height: 32px;\n",
              "    padding: 0;\n",
              "    width: 32px;\n",
              "  }\n",
              "\n",
              "  .colab-df-quickchart:hover {\n",
              "    background-color: var(--hover-bg-color);\n",
              "    box-shadow: 0 1px 2px rgba(60, 64, 67, 0.3), 0 1px 3px 1px rgba(60, 64, 67, 0.15);\n",
              "    fill: var(--button-hover-fill-color);\n",
              "  }\n",
              "\n",
              "  .colab-df-quickchart-complete:disabled,\n",
              "  .colab-df-quickchart-complete:disabled:hover {\n",
              "    background-color: var(--disabled-bg-color);\n",
              "    fill: var(--disabled-fill-color);\n",
              "    box-shadow: none;\n",
              "  }\n",
              "\n",
              "  .colab-df-spinner {\n",
              "    border: 2px solid var(--fill-color);\n",
              "    border-color: transparent;\n",
              "    border-bottom-color: var(--fill-color);\n",
              "    animation:\n",
              "      spin 1s steps(1) infinite;\n",
              "  }\n",
              "\n",
              "  @keyframes spin {\n",
              "    0% {\n",
              "      border-color: transparent;\n",
              "      border-bottom-color: var(--fill-color);\n",
              "      border-left-color: var(--fill-color);\n",
              "    }\n",
              "    20% {\n",
              "      border-color: transparent;\n",
              "      border-left-color: var(--fill-color);\n",
              "      border-top-color: var(--fill-color);\n",
              "    }\n",
              "    30% {\n",
              "      border-color: transparent;\n",
              "      border-left-color: var(--fill-color);\n",
              "      border-top-color: var(--fill-color);\n",
              "      border-right-color: var(--fill-color);\n",
              "    }\n",
              "    40% {\n",
              "      border-color: transparent;\n",
              "      border-right-color: var(--fill-color);\n",
              "      border-top-color: var(--fill-color);\n",
              "    }\n",
              "    60% {\n",
              "      border-color: transparent;\n",
              "      border-right-color: var(--fill-color);\n",
              "    }\n",
              "    80% {\n",
              "      border-color: transparent;\n",
              "      border-right-color: var(--fill-color);\n",
              "      border-bottom-color: var(--fill-color);\n",
              "    }\n",
              "    90% {\n",
              "      border-color: transparent;\n",
              "      border-bottom-color: var(--fill-color);\n",
              "    }\n",
              "  }\n",
              "</style>\n",
              "\n",
              "  <script>\n",
              "    async function quickchart(key) {\n",
              "      const quickchartButtonEl =\n",
              "        document.querySelector('#' + key + ' button');\n",
              "      quickchartButtonEl.disabled = true;  // To prevent multiple clicks.\n",
              "      quickchartButtonEl.classList.add('colab-df-spinner');\n",
              "      try {\n",
              "        const charts = await google.colab.kernel.invokeFunction(\n",
              "            'suggestCharts', [key], {});\n",
              "      } catch (error) {\n",
              "        console.error('Error during call to suggestCharts:', error);\n",
              "      }\n",
              "      quickchartButtonEl.classList.remove('colab-df-spinner');\n",
              "      quickchartButtonEl.classList.add('colab-df-quickchart-complete');\n",
              "    }\n",
              "    (() => {\n",
              "      let quickchartButtonEl =\n",
              "        document.querySelector('#df-a715f4e8-021a-4ae5-86c2-a8c74d791a29 button');\n",
              "      quickchartButtonEl.style.display =\n",
              "        google.colab.kernel.accessAllowed ? 'block' : 'none';\n",
              "    })();\n",
              "  </script>\n",
              "</div>\n",
              "\n",
              "    </div>\n",
              "  </div>\n"
            ],
            "application/vnd.google.colaboratory.intrinsic+json": {
              "type": "dataframe",
              "summary": "{\n  \"name\": \"movie_df\",\n  \"rows\": 8,\n  \"fields\": [\n    {\n      \"column\": \"Movie_ID\",\n      \"properties\": {\n        \"dtype\": \"number\",\n        \"std\": 1720.2332807214548,\n        \"min\": 1.0,\n        \"max\": 4788.0,\n        \"num_unique_values\": 8,\n        \"samples\": [\n          2382.5663865546217,\n          2380.5,\n          4760.0\n        ],\n        \"semantic_type\": \"\",\n        \"description\": \"\"\n      }\n    },\n    {\n      \"column\": \"Movie_Budget\",\n      \"properties\": {\n        \"dtype\": \"number\",\n        \"std\": 129145160.11869688,\n        \"min\": 0.0,\n        \"max\": 380000000.0,\n        \"num_unique_values\": 8,\n        \"samples\": [\n          29201287.084033612,\n          15000000.0,\n          4760.0\n        ],\n        \"semantic_type\": \"\",\n        \"description\": \"\"\n      }\n    },\n    {\n      \"column\": \"Movie_Popularity\",\n      \"properties\": {\n        \"dtype\": \"number\",\n        \"std\": 1661.1040447605237,\n        \"min\": 0.000372,\n        \"max\": 4760.0,\n        \"num_unique_values\": 8,\n        \"samples\": [\n          21.599509934663867,\n          13.119057999999999,\n          4760.0\n        ],\n        \"semantic_type\": \"\",\n        \"description\": \"\"\n      }\n    },\n    {\n      \"column\": \"Movie_Revenue\",\n      \"properties\": {\n        \"dtype\": \"number\",\n        \"std\": 969366059.9423022,\n        \"min\": 0.0,\n        \"max\": 2787965087.0,\n        \"num_unique_values\": 7,\n        \"samples\": [\n          4760.0,\n          82637425.44285715,\n          93412759.75\n        ],\n        \"semantic_type\": \"\",\n        \"description\": \"\"\n      }\n    },\n    {\n      \"column\": \"Movie_Runtime\",\n      \"properties\": {\n        \"dtype\": \"number\",\n        \"std\": 1645.7876738678387,\n        \"min\": 0.0,\n        \"max\": 4758.0,\n        \"num_unique_values\": 8,\n        \"samples\": [\n          107.18411097099622,\n          104.0,\n          4758.0\n        ],\n        \"semantic_type\": \"\",\n        \"description\": \"\"\n      }\n    },\n    {\n      \"column\": \"Movie_Vote\",\n      \"properties\": {\n        \"dtype\": \"number\",\n        \"std\": 1681.106199712945,\n        \"min\": 0.0,\n        \"max\": 4760.0,\n        \"num_unique_values\": 8,\n        \"samples\": [\n          6.113865546218487,\n          6.2,\n          4760.0\n        ],\n        \"semantic_type\": \"\",\n        \"description\": \"\"\n      }\n    },\n    {\n      \"column\": \"Movie_Vote_Count\",\n      \"properties\": {\n        \"dtype\": \"number\",\n        \"std\": 4732.148341860835,\n        \"min\": 0.0,\n        \"max\": 13752.0,\n        \"num_unique_values\": 8,\n        \"samples\": [\n          692.5084033613446,\n          238.0,\n          4760.0\n        ],\n        \"semantic_type\": \"\",\n        \"description\": \"\"\n      }\n    }\n  ]\n}"
            }
          },
          "metadata": {},
          "execution_count": 76
        }
      ]
    },
    {
      "cell_type": "code",
      "source": [
        "movie_df.shape"
      ],
      "metadata": {
        "colab": {
          "base_uri": "https://localhost:8080/"
        },
        "id": "IRRBeohzG4Y4",
        "outputId": "c316d49a-ad59-443f-a836-2475093ce57b"
      },
      "execution_count": 77,
      "outputs": [
        {
          "output_type": "execute_result",
          "data": {
            "text/plain": [
              "(4760, 21)"
            ]
          },
          "metadata": {},
          "execution_count": 77
        }
      ]
    },
    {
      "cell_type": "code",
      "source": [
        "movie_df.columns"
      ],
      "metadata": {
        "colab": {
          "base_uri": "https://localhost:8080/"
        },
        "id": "cBrNa9bnG4bk",
        "outputId": "de734823-f424-45a3-e20a-9b3e650ba06f"
      },
      "execution_count": 79,
      "outputs": [
        {
          "output_type": "execute_result",
          "data": {
            "text/plain": [
              "Index(['Movie_ID', 'Movie_Title', 'Movie_Genre', 'Movie_Language',\n",
              "       'Movie_Budget', 'Movie_Popularity', 'Movie_Release_Date',\n",
              "       'Movie_Revenue', 'Movie_Runtime', 'Movie_Vote', 'Movie_Vote_Count',\n",
              "       'Movie_Homepage', 'Movie_Keywords', 'Movie_Overview',\n",
              "       'Movie_Production_House', 'Movie_Production_Country',\n",
              "       'Movie_Spoken_Language', 'Movie_Tagline', 'Movie_Cast', 'Movie_Crew',\n",
              "       'Movie_Director'],\n",
              "      dtype='object')"
            ]
          },
          "metadata": {},
          "execution_count": 79
        }
      ]
    },
    {
      "cell_type": "markdown",
      "source": [
        "#Get Feature Selection"
      ],
      "metadata": {
        "id": "2RX29blgfHED"
      }
    },
    {
      "cell_type": "code",
      "source": [
        "movie_feature=movie_df[['Movie_Genre','Movie_Keywords','Movie_Tagline','Movie_Cast','Movie_Director']].fillna('')"
      ],
      "metadata": {
        "id": "EjLLuHQBG4e3"
      },
      "execution_count": 81,
      "outputs": []
    },
    {
      "cell_type": "code",
      "source": [
        "movie_feature.shape"
      ],
      "metadata": {
        "colab": {
          "base_uri": "https://localhost:8080/"
        },
        "id": "PSj2Gc1aG4hr",
        "outputId": "d8efa575-833e-46ad-fb18-d4e1878d8375"
      },
      "execution_count": 83,
      "outputs": [
        {
          "output_type": "execute_result",
          "data": {
            "text/plain": [
              "(4760, 5)"
            ]
          },
          "metadata": {},
          "execution_count": 83
        }
      ]
    },
    {
      "cell_type": "code",
      "source": [
        "movie_feature"
      ],
      "metadata": {
        "colab": {
          "base_uri": "https://localhost:8080/",
          "height": 579
        },
        "id": "uTlFdJC5G4ke",
        "outputId": "4325428d-6762-42c2-e266-0d9de87ec1d4"
      },
      "execution_count": 21,
      "outputs": [
        {
          "output_type": "execute_result",
          "data": {
            "text/plain": [
              "                           Movie_Genre  \\\n",
              "0                         Crime Comedy   \n",
              "1     Adventure Action Science Fiction   \n",
              "2                     Animation Family   \n",
              "3                 Comedy Drama Romance   \n",
              "4                                Drama   \n",
              "...                                ...   \n",
              "4755                            Horror   \n",
              "4756               Comedy Family Drama   \n",
              "4757                    Thriller Drama   \n",
              "4758                            Family   \n",
              "4759                       Documentary   \n",
              "\n",
              "                                         Movie_Keywords  \\\n",
              "0             hotel new year's eve witch bet hotel room   \n",
              "1           android galaxy hermit death star lightsaber   \n",
              "2     father son relationship harbor underwater fish...   \n",
              "3     vietnam veteran hippie mentally disabled runni...   \n",
              "4     male nudity female nudity adultery midlife cri...   \n",
              "...                                                 ...   \n",
              "4755                                                      \n",
              "4756                                                      \n",
              "4757                     christian film sex trafficking   \n",
              "4758                                                      \n",
              "4759  music actors legendary perfomer classic hollyw...   \n",
              "\n",
              "                                          Movie_Tagline  \\\n",
              "0     Twelve outrageous guests. Four scandalous requ...   \n",
              "1          A long time ago in a galaxy far, far away...   \n",
              "2     There are 3.7 trillion fish in the ocean, they...   \n",
              "3     The world will never be the same, once you've ...   \n",
              "4                                          Look closer.   \n",
              "...                                                 ...   \n",
              "4755                The hot spot where Satan's waitin'.   \n",
              "4756           It’s better to stand out than to fit in.   \n",
              "4757           She never knew it could happen to her...   \n",
              "4758                                                      \n",
              "4759                                                      \n",
              "\n",
              "                                             Movie_Cast     Movie_Director  \n",
              "0     Tim Roth Antonio Banderas Jennifer Beals Madon...     Allison Anders  \n",
              "1     Mark Hamill Harrison Ford Carrie Fisher Peter ...       George Lucas  \n",
              "2     Albert Brooks Ellen DeGeneres Alexander Gould ...     Andrew Stanton  \n",
              "3     Tom Hanks Robin Wright Gary Sinise Mykelti Wil...    Robert Zemeckis  \n",
              "4     Kevin Spacey Annette Bening Thora Birch Wes Be...         Sam Mendes  \n",
              "...                                                 ...                ...  \n",
              "4755  Lisa Hart Carroll Michael Des Barres Paul Drak...         Pece Dingo  \n",
              "4756  Roni Akurati Brighton Sharbino Jason Lee Anjul...       Frank Lotito  \n",
              "4757  Nicole Smolen Kim Baldwin Ariana Stephens Brys...       Jaco Booyens  \n",
              "4758                                                                        \n",
              "4759                                    Tony Oppedisano  Simon Napier-Bell  \n",
              "\n",
              "[4760 rows x 5 columns]"
            ],
            "text/html": [
              "\n",
              "  <div id=\"df-c2cad953-ed93-424c-903d-37672853658e\" class=\"colab-df-container\">\n",
              "    <div>\n",
              "<style scoped>\n",
              "    .dataframe tbody tr th:only-of-type {\n",
              "        vertical-align: middle;\n",
              "    }\n",
              "\n",
              "    .dataframe tbody tr th {\n",
              "        vertical-align: top;\n",
              "    }\n",
              "\n",
              "    .dataframe thead th {\n",
              "        text-align: right;\n",
              "    }\n",
              "</style>\n",
              "<table border=\"1\" class=\"dataframe\">\n",
              "  <thead>\n",
              "    <tr style=\"text-align: right;\">\n",
              "      <th></th>\n",
              "      <th>Movie_Genre</th>\n",
              "      <th>Movie_Keywords</th>\n",
              "      <th>Movie_Tagline</th>\n",
              "      <th>Movie_Cast</th>\n",
              "      <th>Movie_Director</th>\n",
              "    </tr>\n",
              "  </thead>\n",
              "  <tbody>\n",
              "    <tr>\n",
              "      <th>0</th>\n",
              "      <td>Crime Comedy</td>\n",
              "      <td>hotel new year's eve witch bet hotel room</td>\n",
              "      <td>Twelve outrageous guests. Four scandalous requ...</td>\n",
              "      <td>Tim Roth Antonio Banderas Jennifer Beals Madon...</td>\n",
              "      <td>Allison Anders</td>\n",
              "    </tr>\n",
              "    <tr>\n",
              "      <th>1</th>\n",
              "      <td>Adventure Action Science Fiction</td>\n",
              "      <td>android galaxy hermit death star lightsaber</td>\n",
              "      <td>A long time ago in a galaxy far, far away...</td>\n",
              "      <td>Mark Hamill Harrison Ford Carrie Fisher Peter ...</td>\n",
              "      <td>George Lucas</td>\n",
              "    </tr>\n",
              "    <tr>\n",
              "      <th>2</th>\n",
              "      <td>Animation Family</td>\n",
              "      <td>father son relationship harbor underwater fish...</td>\n",
              "      <td>There are 3.7 trillion fish in the ocean, they...</td>\n",
              "      <td>Albert Brooks Ellen DeGeneres Alexander Gould ...</td>\n",
              "      <td>Andrew Stanton</td>\n",
              "    </tr>\n",
              "    <tr>\n",
              "      <th>3</th>\n",
              "      <td>Comedy Drama Romance</td>\n",
              "      <td>vietnam veteran hippie mentally disabled runni...</td>\n",
              "      <td>The world will never be the same, once you've ...</td>\n",
              "      <td>Tom Hanks Robin Wright Gary Sinise Mykelti Wil...</td>\n",
              "      <td>Robert Zemeckis</td>\n",
              "    </tr>\n",
              "    <tr>\n",
              "      <th>4</th>\n",
              "      <td>Drama</td>\n",
              "      <td>male nudity female nudity adultery midlife cri...</td>\n",
              "      <td>Look closer.</td>\n",
              "      <td>Kevin Spacey Annette Bening Thora Birch Wes Be...</td>\n",
              "      <td>Sam Mendes</td>\n",
              "    </tr>\n",
              "    <tr>\n",
              "      <th>...</th>\n",
              "      <td>...</td>\n",
              "      <td>...</td>\n",
              "      <td>...</td>\n",
              "      <td>...</td>\n",
              "      <td>...</td>\n",
              "    </tr>\n",
              "    <tr>\n",
              "      <th>4755</th>\n",
              "      <td>Horror</td>\n",
              "      <td></td>\n",
              "      <td>The hot spot where Satan's waitin'.</td>\n",
              "      <td>Lisa Hart Carroll Michael Des Barres Paul Drak...</td>\n",
              "      <td>Pece Dingo</td>\n",
              "    </tr>\n",
              "    <tr>\n",
              "      <th>4756</th>\n",
              "      <td>Comedy Family Drama</td>\n",
              "      <td></td>\n",
              "      <td>It’s better to stand out than to fit in.</td>\n",
              "      <td>Roni Akurati Brighton Sharbino Jason Lee Anjul...</td>\n",
              "      <td>Frank Lotito</td>\n",
              "    </tr>\n",
              "    <tr>\n",
              "      <th>4757</th>\n",
              "      <td>Thriller Drama</td>\n",
              "      <td>christian film sex trafficking</td>\n",
              "      <td>She never knew it could happen to her...</td>\n",
              "      <td>Nicole Smolen Kim Baldwin Ariana Stephens Brys...</td>\n",
              "      <td>Jaco Booyens</td>\n",
              "    </tr>\n",
              "    <tr>\n",
              "      <th>4758</th>\n",
              "      <td>Family</td>\n",
              "      <td></td>\n",
              "      <td></td>\n",
              "      <td></td>\n",
              "      <td></td>\n",
              "    </tr>\n",
              "    <tr>\n",
              "      <th>4759</th>\n",
              "      <td>Documentary</td>\n",
              "      <td>music actors legendary perfomer classic hollyw...</td>\n",
              "      <td></td>\n",
              "      <td>Tony Oppedisano</td>\n",
              "      <td>Simon Napier-Bell</td>\n",
              "    </tr>\n",
              "  </tbody>\n",
              "</table>\n",
              "<p>4760 rows × 5 columns</p>\n",
              "</div>\n",
              "    <div class=\"colab-df-buttons\">\n",
              "\n",
              "  <div class=\"colab-df-container\">\n",
              "    <button class=\"colab-df-convert\" onclick=\"convertToInteractive('df-c2cad953-ed93-424c-903d-37672853658e')\"\n",
              "            title=\"Convert this dataframe to an interactive table.\"\n",
              "            style=\"display:none;\">\n",
              "\n",
              "  <svg xmlns=\"http://www.w3.org/2000/svg\" height=\"24px\" viewBox=\"0 -960 960 960\">\n",
              "    <path d=\"M120-120v-720h720v720H120Zm60-500h600v-160H180v160Zm220 220h160v-160H400v160Zm0 220h160v-160H400v160ZM180-400h160v-160H180v160Zm440 0h160v-160H620v160ZM180-180h160v-160H180v160Zm440 0h160v-160H620v160Z\"/>\n",
              "  </svg>\n",
              "    </button>\n",
              "\n",
              "  <style>\n",
              "    .colab-df-container {\n",
              "      display:flex;\n",
              "      gap: 12px;\n",
              "    }\n",
              "\n",
              "    .colab-df-convert {\n",
              "      background-color: #E8F0FE;\n",
              "      border: none;\n",
              "      border-radius: 50%;\n",
              "      cursor: pointer;\n",
              "      display: none;\n",
              "      fill: #1967D2;\n",
              "      height: 32px;\n",
              "      padding: 0 0 0 0;\n",
              "      width: 32px;\n",
              "    }\n",
              "\n",
              "    .colab-df-convert:hover {\n",
              "      background-color: #E2EBFA;\n",
              "      box-shadow: 0px 1px 2px rgba(60, 64, 67, 0.3), 0px 1px 3px 1px rgba(60, 64, 67, 0.15);\n",
              "      fill: #174EA6;\n",
              "    }\n",
              "\n",
              "    .colab-df-buttons div {\n",
              "      margin-bottom: 4px;\n",
              "    }\n",
              "\n",
              "    [theme=dark] .colab-df-convert {\n",
              "      background-color: #3B4455;\n",
              "      fill: #D2E3FC;\n",
              "    }\n",
              "\n",
              "    [theme=dark] .colab-df-convert:hover {\n",
              "      background-color: #434B5C;\n",
              "      box-shadow: 0px 1px 3px 1px rgba(0, 0, 0, 0.15);\n",
              "      filter: drop-shadow(0px 1px 2px rgba(0, 0, 0, 0.3));\n",
              "      fill: #FFFFFF;\n",
              "    }\n",
              "  </style>\n",
              "\n",
              "    <script>\n",
              "      const buttonEl =\n",
              "        document.querySelector('#df-c2cad953-ed93-424c-903d-37672853658e button.colab-df-convert');\n",
              "      buttonEl.style.display =\n",
              "        google.colab.kernel.accessAllowed ? 'block' : 'none';\n",
              "\n",
              "      async function convertToInteractive(key) {\n",
              "        const element = document.querySelector('#df-c2cad953-ed93-424c-903d-37672853658e');\n",
              "        const dataTable =\n",
              "          await google.colab.kernel.invokeFunction('convertToInteractive',\n",
              "                                                    [key], {});\n",
              "        if (!dataTable) return;\n",
              "\n",
              "        const docLinkHtml = 'Like what you see? Visit the ' +\n",
              "          '<a target=\"_blank\" href=https://colab.research.google.com/notebooks/data_table.ipynb>data table notebook</a>'\n",
              "          + ' to learn more about interactive tables.';\n",
              "        element.innerHTML = '';\n",
              "        dataTable['output_type'] = 'display_data';\n",
              "        await google.colab.output.renderOutput(dataTable, element);\n",
              "        const docLink = document.createElement('div');\n",
              "        docLink.innerHTML = docLinkHtml;\n",
              "        element.appendChild(docLink);\n",
              "      }\n",
              "    </script>\n",
              "  </div>\n",
              "\n",
              "\n",
              "<div id=\"df-c1db9bda-5b36-4534-8e9d-fd3b2e68234a\">\n",
              "  <button class=\"colab-df-quickchart\" onclick=\"quickchart('df-c1db9bda-5b36-4534-8e9d-fd3b2e68234a')\"\n",
              "            title=\"Suggest charts\"\n",
              "            style=\"display:none;\">\n",
              "\n",
              "<svg xmlns=\"http://www.w3.org/2000/svg\" height=\"24px\"viewBox=\"0 0 24 24\"\n",
              "     width=\"24px\">\n",
              "    <g>\n",
              "        <path d=\"M19 3H5c-1.1 0-2 .9-2 2v14c0 1.1.9 2 2 2h14c1.1 0 2-.9 2-2V5c0-1.1-.9-2-2-2zM9 17H7v-7h2v7zm4 0h-2V7h2v10zm4 0h-2v-4h2v4z\"/>\n",
              "    </g>\n",
              "</svg>\n",
              "  </button>\n",
              "\n",
              "<style>\n",
              "  .colab-df-quickchart {\n",
              "      --bg-color: #E8F0FE;\n",
              "      --fill-color: #1967D2;\n",
              "      --hover-bg-color: #E2EBFA;\n",
              "      --hover-fill-color: #174EA6;\n",
              "      --disabled-fill-color: #AAA;\n",
              "      --disabled-bg-color: #DDD;\n",
              "  }\n",
              "\n",
              "  [theme=dark] .colab-df-quickchart {\n",
              "      --bg-color: #3B4455;\n",
              "      --fill-color: #D2E3FC;\n",
              "      --hover-bg-color: #434B5C;\n",
              "      --hover-fill-color: #FFFFFF;\n",
              "      --disabled-bg-color: #3B4455;\n",
              "      --disabled-fill-color: #666;\n",
              "  }\n",
              "\n",
              "  .colab-df-quickchart {\n",
              "    background-color: var(--bg-color);\n",
              "    border: none;\n",
              "    border-radius: 50%;\n",
              "    cursor: pointer;\n",
              "    display: none;\n",
              "    fill: var(--fill-color);\n",
              "    height: 32px;\n",
              "    padding: 0;\n",
              "    width: 32px;\n",
              "  }\n",
              "\n",
              "  .colab-df-quickchart:hover {\n",
              "    background-color: var(--hover-bg-color);\n",
              "    box-shadow: 0 1px 2px rgba(60, 64, 67, 0.3), 0 1px 3px 1px rgba(60, 64, 67, 0.15);\n",
              "    fill: var(--button-hover-fill-color);\n",
              "  }\n",
              "\n",
              "  .colab-df-quickchart-complete:disabled,\n",
              "  .colab-df-quickchart-complete:disabled:hover {\n",
              "    background-color: var(--disabled-bg-color);\n",
              "    fill: var(--disabled-fill-color);\n",
              "    box-shadow: none;\n",
              "  }\n",
              "\n",
              "  .colab-df-spinner {\n",
              "    border: 2px solid var(--fill-color);\n",
              "    border-color: transparent;\n",
              "    border-bottom-color: var(--fill-color);\n",
              "    animation:\n",
              "      spin 1s steps(1) infinite;\n",
              "  }\n",
              "\n",
              "  @keyframes spin {\n",
              "    0% {\n",
              "      border-color: transparent;\n",
              "      border-bottom-color: var(--fill-color);\n",
              "      border-left-color: var(--fill-color);\n",
              "    }\n",
              "    20% {\n",
              "      border-color: transparent;\n",
              "      border-left-color: var(--fill-color);\n",
              "      border-top-color: var(--fill-color);\n",
              "    }\n",
              "    30% {\n",
              "      border-color: transparent;\n",
              "      border-left-color: var(--fill-color);\n",
              "      border-top-color: var(--fill-color);\n",
              "      border-right-color: var(--fill-color);\n",
              "    }\n",
              "    40% {\n",
              "      border-color: transparent;\n",
              "      border-right-color: var(--fill-color);\n",
              "      border-top-color: var(--fill-color);\n",
              "    }\n",
              "    60% {\n",
              "      border-color: transparent;\n",
              "      border-right-color: var(--fill-color);\n",
              "    }\n",
              "    80% {\n",
              "      border-color: transparent;\n",
              "      border-right-color: var(--fill-color);\n",
              "      border-bottom-color: var(--fill-color);\n",
              "    }\n",
              "    90% {\n",
              "      border-color: transparent;\n",
              "      border-bottom-color: var(--fill-color);\n",
              "    }\n",
              "  }\n",
              "</style>\n",
              "\n",
              "  <script>\n",
              "    async function quickchart(key) {\n",
              "      const quickchartButtonEl =\n",
              "        document.querySelector('#' + key + ' button');\n",
              "      quickchartButtonEl.disabled = true;  // To prevent multiple clicks.\n",
              "      quickchartButtonEl.classList.add('colab-df-spinner');\n",
              "      try {\n",
              "        const charts = await google.colab.kernel.invokeFunction(\n",
              "            'suggestCharts', [key], {});\n",
              "      } catch (error) {\n",
              "        console.error('Error during call to suggestCharts:', error);\n",
              "      }\n",
              "      quickchartButtonEl.classList.remove('colab-df-spinner');\n",
              "      quickchartButtonEl.classList.add('colab-df-quickchart-complete');\n",
              "    }\n",
              "    (() => {\n",
              "      let quickchartButtonEl =\n",
              "        document.querySelector('#df-c1db9bda-5b36-4534-8e9d-fd3b2e68234a button');\n",
              "      quickchartButtonEl.style.display =\n",
              "        google.colab.kernel.accessAllowed ? 'block' : 'none';\n",
              "    })();\n",
              "  </script>\n",
              "</div>\n",
              "\n",
              "  <div id=\"id_00ca5747-15e4-4a27-8478-77e1dbb4b567\">\n",
              "    <style>\n",
              "      .colab-df-generate {\n",
              "        background-color: #E8F0FE;\n",
              "        border: none;\n",
              "        border-radius: 50%;\n",
              "        cursor: pointer;\n",
              "        display: none;\n",
              "        fill: #1967D2;\n",
              "        height: 32px;\n",
              "        padding: 0 0 0 0;\n",
              "        width: 32px;\n",
              "      }\n",
              "\n",
              "      .colab-df-generate:hover {\n",
              "        background-color: #E2EBFA;\n",
              "        box-shadow: 0px 1px 2px rgba(60, 64, 67, 0.3), 0px 1px 3px 1px rgba(60, 64, 67, 0.15);\n",
              "        fill: #174EA6;\n",
              "      }\n",
              "\n",
              "      [theme=dark] .colab-df-generate {\n",
              "        background-color: #3B4455;\n",
              "        fill: #D2E3FC;\n",
              "      }\n",
              "\n",
              "      [theme=dark] .colab-df-generate:hover {\n",
              "        background-color: #434B5C;\n",
              "        box-shadow: 0px 1px 3px 1px rgba(0, 0, 0, 0.15);\n",
              "        filter: drop-shadow(0px 1px 2px rgba(0, 0, 0, 0.3));\n",
              "        fill: #FFFFFF;\n",
              "      }\n",
              "    </style>\n",
              "    <button class=\"colab-df-generate\" onclick=\"generateWithVariable('movie_feature')\"\n",
              "            title=\"Generate code using this dataframe.\"\n",
              "            style=\"display:none;\">\n",
              "\n",
              "  <svg xmlns=\"http://www.w3.org/2000/svg\" height=\"24px\"viewBox=\"0 0 24 24\"\n",
              "       width=\"24px\">\n",
              "    <path d=\"M7,19H8.4L18.45,9,17,7.55,7,17.6ZM5,21V16.75L18.45,3.32a2,2,0,0,1,2.83,0l1.4,1.43a1.91,1.91,0,0,1,.58,1.4,1.91,1.91,0,0,1-.58,1.4L9.25,21ZM18.45,9,17,7.55Zm-12,3A5.31,5.31,0,0,0,4.9,8.1,5.31,5.31,0,0,0,1,6.5,5.31,5.31,0,0,0,4.9,4.9,5.31,5.31,0,0,0,6.5,1,5.31,5.31,0,0,0,8.1,4.9,5.31,5.31,0,0,0,12,6.5,5.46,5.46,0,0,0,6.5,12Z\"/>\n",
              "  </svg>\n",
              "    </button>\n",
              "    <script>\n",
              "      (() => {\n",
              "      const buttonEl =\n",
              "        document.querySelector('#id_00ca5747-15e4-4a27-8478-77e1dbb4b567 button.colab-df-generate');\n",
              "      buttonEl.style.display =\n",
              "        google.colab.kernel.accessAllowed ? 'block' : 'none';\n",
              "\n",
              "      buttonEl.onclick = () => {\n",
              "        google.colab.notebook.generateWithVariable('movie_feature');\n",
              "      }\n",
              "      })();\n",
              "    </script>\n",
              "  </div>\n",
              "\n",
              "    </div>\n",
              "  </div>\n"
            ],
            "application/vnd.google.colaboratory.intrinsic+json": {
              "type": "dataframe",
              "variable_name": "movie_feature",
              "summary": "{\n  \"name\": \"movie_feature\",\n  \"rows\": 4760,\n  \"fields\": [\n    {\n      \"column\": \"Movie_Genre\",\n      \"properties\": {\n        \"dtype\": \"category\",\n        \"num_unique_values\": 1164,\n        \"samples\": [\n          \"Family Animation Adventure\",\n          \"Adventure Science Fiction Action\",\n          \"Action Crime Drama Romance Thriller\"\n        ],\n        \"semantic_type\": \"\",\n        \"description\": \"\"\n      }\n    },\n    {\n      \"column\": \"Movie_Keywords\",\n      \"properties\": {\n        \"dtype\": \"string\",\n        \"num_unique_values\": 4203,\n        \"samples\": [\n          \"canada nazis sequel spin off ancient evil\",\n          \"sex professor wedding woman director columbia university\",\n          \"prophecy sea beach gold small town\"\n        ],\n        \"semantic_type\": \"\",\n        \"description\": \"\"\n      }\n    },\n    {\n      \"column\": \"Movie_Tagline\",\n      \"properties\": {\n        \"dtype\": \"string\",\n        \"num_unique_values\": 3928,\n        \"samples\": [\n          \"The messenger must be silenced.\",\n          \"It's not the house that's haunted.\",\n          \"The final hunt begins.\"\n        ],\n        \"semantic_type\": \"\",\n        \"description\": \"\"\n      }\n    },\n    {\n      \"column\": \"Movie_Cast\",\n      \"properties\": {\n        \"dtype\": \"string\",\n        \"num_unique_values\": 4715,\n        \"samples\": [\n          \"Robin Tunney Fairuza Balk Neve Campbell Rachel True Skeet Ulrich\",\n          \"Peter Sellers Christopher Plummer Herbert Lom Catherine Schell Peter Arne\",\n          \"John Wayne Laraine Day Cedric Hardwicke Judith Anderson Anthony Quinn\"\n        ],\n        \"semantic_type\": \"\",\n        \"description\": \"\"\n      }\n    },\n    {\n      \"column\": \"Movie_Director\",\n      \"properties\": {\n        \"dtype\": \"category\",\n        \"num_unique_values\": 2332,\n        \"samples\": [\n          \"Rob McKittrick\",\n          \"Terron R. Parsons\",\n          \"Cyrus Nowrasteh\"\n        ],\n        \"semantic_type\": \"\",\n        \"description\": \"\"\n      }\n    }\n  ]\n}"
            }
          },
          "metadata": {},
          "execution_count": 21
        }
      ]
    },
    {
      "cell_type": "code",
      "source": [
        "x=movie_feature['Movie_Genre']+movie_feature['Movie_Keywords']+movie_feature['Movie_Tagline']+movie_feature['Movie_Cast']+movie_feature['Movie_Director']"
      ],
      "metadata": {
        "id": "jOd41l_aG4nn"
      },
      "execution_count": 22,
      "outputs": []
    },
    {
      "cell_type": "code",
      "source": [
        "x"
      ],
      "metadata": {
        "colab": {
          "base_uri": "https://localhost:8080/"
        },
        "id": "pP0k4r1TG4q1",
        "outputId": "707a2aeb-90a2-418c-8b90-91a7c4b63f8e"
      },
      "execution_count": 23,
      "outputs": [
        {
          "output_type": "execute_result",
          "data": {
            "text/plain": [
              "0       Crime Comedyhotel new year's eve witch bet hot...\n",
              "1       Adventure Action Science Fictionandroid galaxy...\n",
              "2       Animation Familyfather son relationship harbor...\n",
              "3       Comedy Drama Romancevietnam veteran hippie men...\n",
              "4       Dramamale nudity female nudity adultery midlif...\n",
              "                              ...                        \n",
              "4755    HorrorThe hot spot where Satan's waitin'.Lisa ...\n",
              "4756    Comedy Family DramaIt’s better to stand out th...\n",
              "4757    Thriller Dramachristian film sex traffickingSh...\n",
              "4758                                               Family\n",
              "4759    Documentarymusic actors legendary perfomer cla...\n",
              "Length: 4760, dtype: object"
            ]
          },
          "metadata": {},
          "execution_count": 23
        }
      ]
    },
    {
      "cell_type": "markdown",
      "source": [
        "#Get Feature Text Conversion to Tokens"
      ],
      "metadata": {
        "id": "sxeQi9SJfWEK"
      }
    },
    {
      "cell_type": "code",
      "source": [
        "from sklearn.feature_extraction.text import TfidfVectorizer"
      ],
      "metadata": {
        "id": "22riQog6G4tW"
      },
      "execution_count": 24,
      "outputs": []
    },
    {
      "cell_type": "code",
      "source": [
        "r=TfidfVectorizer()"
      ],
      "metadata": {
        "id": "28Vo21NyG4wH"
      },
      "execution_count": 25,
      "outputs": []
    },
    {
      "cell_type": "code",
      "source": [
        "x=r.fit_transform(x)"
      ],
      "metadata": {
        "id": "i4JoyPZDG4zL"
      },
      "execution_count": 26,
      "outputs": []
    },
    {
      "cell_type": "code",
      "source": [
        "x.shape"
      ],
      "metadata": {
        "colab": {
          "base_uri": "https://localhost:8080/"
        },
        "id": "I8X6a3KPG42B",
        "outputId": "2dc2fcdc-b744-4468-95f9-11f0720067ad"
      },
      "execution_count": 27,
      "outputs": [
        {
          "output_type": "execute_result",
          "data": {
            "text/plain": [
              "(4760, 27466)"
            ]
          },
          "metadata": {},
          "execution_count": 27
        }
      ]
    },
    {
      "cell_type": "code",
      "source": [
        "print(x)"
      ],
      "metadata": {
        "colab": {
          "base_uri": "https://localhost:8080/"
        },
        "id": "Vj9-mAdzG44-",
        "outputId": "397524f2-3bcb-4fb2-c575-f7fcce0dbf83"
      },
      "execution_count": 28,
      "outputs": [
        {
          "output_type": "stream",
          "name": "stdout",
          "text": [
            "  (0, 1028)\t0.16196019146631543\n",
            "  (0, 24785)\t0.1954632929283795\n",
            "  (0, 15844)\t0.14205053053187272\n",
            "  (0, 15553)\t0.17099186675469502\n",
            "  (0, 2132)\t0.18002354204307464\n",
            "  (0, 13312)\t0.09914387783149516\n",
            "  (0, 1887)\t0.14106037409792174\n",
            "  (0, 1216)\t0.13920306109638164\n",
            "  (0, 21158)\t0.14205053053187272\n",
            "  (0, 24701)\t0.11357423942624927\n",
            "  (0, 14943)\t0.091376722056839\n",
            "  (0, 18098)\t0.06200430666985742\n",
            "  (0, 26738)\t0.175053052455033\n",
            "  (0, 9790)\t0.08712552095655665\n",
            "  (0, 26675)\t0.1116831168780693\n",
            "  (0, 13401)\t0.13748876529263096\n",
            "  (0, 24105)\t0.10726395493180996\n",
            "  (0, 18192)\t0.07278761942152372\n",
            "  (0, 6172)\t0.11970212451073885\n",
            "  (0, 9626)\t0.11757910435818826\n",
            "  (0, 11960)\t0.20134029899961134\n",
            "  (0, 12801)\t0.1530338818199682\n",
            "  (0, 2292)\t0.1954632929283795\n",
            "  (0, 15172)\t0.1537691763994982\n",
            "  (0, 18196)\t0.08579029869987485\n",
            "  :\t:\n",
            "  (4757, 1839)\t0.19327629083107672\n",
            "  (4757, 5410)\t0.19734759150400596\n",
            "  (4757, 11350)\t0.21582294886514122\n",
            "  (4757, 22017)\t0.1646400247918531\n",
            "  (4757, 17789)\t0.18881341937258544\n",
            "  (4757, 9484)\t0.1411164779725638\n",
            "  (4757, 14176)\t0.2330831990045816\n",
            "  (4757, 11762)\t0.17321388936472645\n",
            "  (4757, 14052)\t0.1776312353410007\n",
            "  (4757, 24232)\t0.10947784435203887\n",
            "  (4757, 24746)\t0.09744940789814222\n",
            "  (4757, 13079)\t0.12400374714145113\n",
            "  (4757, 17721)\t0.1489085353667712\n",
            "  (4758, 8651)\t1.0\n",
            "  (4759, 18229)\t0.33527342183765224\n",
            "  (4759, 22434)\t0.33527342183765224\n",
            "  (4759, 18841)\t0.33527342183765224\n",
            "  (4759, 6950)\t0.33527342183765224\n",
            "  (4759, 345)\t0.31978160936741457\n",
            "  (4759, 14742)\t0.31978160936741457\n",
            "  (4759, 12139)\t0.2778063685558062\n",
            "  (4759, 4446)\t0.282306565154911\n",
            "  (4759, 17552)\t0.3087899934962816\n",
            "  (4759, 9955)\t0.21805075638656476\n",
            "  (4759, 2285)\t0.21465229435984196\n"
          ]
        }
      ]
    },
    {
      "cell_type": "markdown",
      "source": [
        "#Get Similarity Score Using Cosine Similarity"
      ],
      "metadata": {
        "id": "MgnBE9xcfsyl"
      }
    },
    {
      "cell_type": "code",
      "source": [
        "from sklearn.metrics.pairwise import cosine_similarity"
      ],
      "metadata": {
        "id": "o0QPkv4XG47d"
      },
      "execution_count": 7,
      "outputs": []
    },
    {
      "cell_type": "code",
      "source": [
        "similarity=cosine_similarity(x)"
      ],
      "metadata": {
        "id": "LAoQBxKKG4-G"
      },
      "execution_count": 29,
      "outputs": []
    },
    {
      "cell_type": "code",
      "source": [
        "similarity"
      ],
      "metadata": {
        "colab": {
          "base_uri": "https://localhost:8080/"
        },
        "id": "zDsvKjkGG5Aq",
        "outputId": "9349dc04-cdb3-4eb8-98ab-f3690cceb954"
      },
      "execution_count": 30,
      "outputs": [
        {
          "output_type": "execute_result",
          "data": {
            "text/plain": [
              "array([[1.        , 0.01438634, 0.03807033, ..., 0.        , 0.        ,\n",
              "        0.        ],\n",
              "       [0.01438634, 1.        , 0.00844858, ..., 0.        , 0.        ,\n",
              "        0.        ],\n",
              "       [0.03807033, 0.00844858, 1.        , ..., 0.        , 0.        ,\n",
              "        0.        ],\n",
              "       ...,\n",
              "       [0.        , 0.        , 0.        , ..., 1.        , 0.        ,\n",
              "        0.        ],\n",
              "       [0.        , 0.        , 0.        , ..., 0.        , 1.        ,\n",
              "        0.        ],\n",
              "       [0.        , 0.        , 0.        , ..., 0.        , 0.        ,\n",
              "        1.        ]])"
            ]
          },
          "metadata": {},
          "execution_count": 30
        }
      ]
    },
    {
      "cell_type": "code",
      "source": [
        "similarity.shape"
      ],
      "metadata": {
        "colab": {
          "base_uri": "https://localhost:8080/"
        },
        "id": "4aulk_qbG5DW",
        "outputId": "c5ef34ef-2b0c-4808-94da-43e849b5f377"
      },
      "execution_count": 31,
      "outputs": [
        {
          "output_type": "execute_result",
          "data": {
            "text/plain": [
              "(4760, 4760)"
            ]
          },
          "metadata": {},
          "execution_count": 31
        }
      ]
    },
    {
      "cell_type": "markdown",
      "source": [
        "#Get Movie name as Input From User and Validate for Closet spelling"
      ],
      "metadata": {
        "id": "iCRPH7D4gFSw"
      }
    },
    {
      "cell_type": "code",
      "source": [
        "fav_movie_name=input('Enter your favourite movie name:')"
      ],
      "metadata": {
        "colab": {
          "base_uri": "https://localhost:8080/"
        },
        "id": "PVD-GDw1Saiv",
        "outputId": "52400e20-ff6e-41cd-9df8-ae859f1c875a"
      },
      "execution_count": 3,
      "outputs": [
        {
          "name": "stdout",
          "output_type": "stream",
          "text": [
            "Enter your favourite movie name:American Beauty\t\n"
          ]
        }
      ]
    },
    {
      "cell_type": "code",
      "source": [
        "all_movie_title_list=movie['Movie_Title'].tolist()"
      ],
      "metadata": {
        "id": "bYCYhJZLG5JF"
      },
      "execution_count": 32,
      "outputs": []
    },
    {
      "cell_type": "code",
      "source": [
        "import difflib as df"
      ],
      "metadata": {
        "id": "QjAlBLaeS79F"
      },
      "execution_count": 34,
      "outputs": []
    },
    {
      "cell_type": "code",
      "source": [
        "movie_recom=df.get_close_matches(fav_movie_name,all_movie_title_list)"
      ],
      "metadata": {
        "id": "5Pq1CbzIS8KB"
      },
      "execution_count": 35,
      "outputs": []
    },
    {
      "cell_type": "code",
      "source": [
        "print(movie_recom)"
      ],
      "metadata": {
        "colab": {
          "base_uri": "https://localhost:8080/"
        },
        "id": "Cae9wvVSS8Mp",
        "outputId": "fd0947ed-82fc-4eed-9745-e145cc094606"
      },
      "execution_count": 36,
      "outputs": [
        {
          "output_type": "stream",
          "name": "stdout",
          "text": [
            "['American Beauty', 'American Beast', 'American Heist']\n"
          ]
        }
      ]
    },
    {
      "cell_type": "code",
      "source": [
        "close_match=movie_recom[0]"
      ],
      "metadata": {
        "id": "K5sLN_TvS8PP"
      },
      "execution_count": 37,
      "outputs": []
    },
    {
      "cell_type": "code",
      "source": [
        "print(close_match)"
      ],
      "metadata": {
        "colab": {
          "base_uri": "https://localhost:8080/"
        },
        "id": "KvljQqj-S8SX",
        "outputId": "85b632df-f77d-4610-ce1d-7f55bb3922bb"
      },
      "execution_count": 38,
      "outputs": [
        {
          "output_type": "stream",
          "name": "stdout",
          "text": [
            "American Beauty\n"
          ]
        }
      ]
    },
    {
      "cell_type": "code",
      "source": [
        "index_of_close_match_movie=movie[movie.Movie_Title==close_match]['Movie_ID'].values[0]"
      ],
      "metadata": {
        "id": "mkh5rtTlS8Up"
      },
      "execution_count": 39,
      "outputs": []
    },
    {
      "cell_type": "code",
      "source": [
        "print(index_of_close_match_movie)"
      ],
      "metadata": {
        "colab": {
          "base_uri": "https://localhost:8080/"
        },
        "id": "CnaerD3uS8Xb",
        "outputId": "9eb5eda4-59ea-4b6c-e770-1dc7cf445cda"
      },
      "execution_count": 40,
      "outputs": [
        {
          "output_type": "stream",
          "name": "stdout",
          "text": [
            "5\n"
          ]
        }
      ]
    },
    {
      "cell_type": "code",
      "source": [
        "# getting a list of similar movies\n",
        "recommadation_score=list(enumerate(similarity[index_of_close_match_movie]))"
      ],
      "metadata": {
        "id": "umTkraoWS8aR"
      },
      "execution_count": 41,
      "outputs": []
    },
    {
      "cell_type": "code",
      "source": [
        "print(recommadation_score)"
      ],
      "metadata": {
        "colab": {
          "base_uri": "https://localhost:8080/"
        },
        "id": "8KRgvIeZS8cm",
        "outputId": "835f7bba-4af9-47b3-cef3-5539576d72ea"
      },
      "execution_count": 42,
      "outputs": [
        {
          "output_type": "stream",
          "name": "stdout",
          "text": [
            "[(0, 0.007362376297711399), (1, 0.017514902028049693), (2, 0.0), (3, 0.04051011558857279), (4, 0.0), (5, 1.0000000000000004), (6, 0.0), (7, 0.0032046369800714544), (8, 0.00465288210797656), (9, 0.0077971375262432426), (10, 0.015063584325109403), (11, 0.03325626920688279), (12, 0.004686436498133637), (13, 0.0), (14, 0.0), (15, 0.003876412540552877), (16, 0.003699593101596695), (17, 0.0), (18, 0.003976846254054549), (19, 0.004240558936241065), (20, 0.0), (21, 0.016153971688465163), (22, 0.0), (23, 0.00442916506873972), (24, 0.0), (25, 0.04824275793552135), (26, 0.0), (27, 0.0), (28, 0.031620598202795044), (29, 0.004127305463587382), (30, 0.0), (31, 0.004014838748666894), (32, 0.003946776202917866), (33, 0.0037984614929820076), (34, 0.00449793528859241), (35, 0.0), (36, 0.0), (37, 0.0), (38, 0.0), (39, 0.0), (40, 0.0), (41, 0.004589955925594688), (42, 0.0082458707371177), (43, 0.02624639556332754), (44, 0.0036159410227596593), (45, 0.0077827966460017476), (46, 0.0), (47, 0.0), (48, 0.01577731751411459), (49, 0.007997244463182509), (50, 0.0), (51, 0.014850706017338133), (52, 0.0213932685759231), (53, 0.0664381690718951), (54, 0.00836239587417416), (55, 0.0), (56, 0.0), (57, 0.0), (58, 0.00710759378597762), (59, 0.030939056770767887), (60, 0.0036951297924985153), (61, 0.004102490741985224), (62, 0.004726625877019128), (63, 0.0036028256290367975), (64, 0.007253019458747786), (65, 0.0), (66, 0.008606250648259537), (67, 0.0), (68, 0.02588299786177685), (69, 0.0), (70, 0.0), (71, 0.004337503323074687), (72, 0.02443070081509202), (73, 0.05696477143945325), (74, 0.004516774453168558), (75, 0.007321059685518814), (76, 0.023685495495639274), (77, 0.0), (78, 0.0), (79, 0.023261127353049228), (80, 0.0), (81, 0.0), (82, 0.0), (83, 0.035666840450355106), (84, 0.03440907836150169), (85, 0.013816061306476383), (86, 0.00863911794063617), (87, 0.0145264712488865), (88, 0.0), (89, 0.011021674087831033), (90, 0.0), (91, 0.0), (92, 0.02739258604764535), (93, 0.0), (94, 0.0), (95, 0.0), (96, 0.03933069600284039), (97, 0.06183338772461607), (98, 0.0), (99, 0.0), (100, 0.0), (101, 0.0), (102, 0.0), (103, 0.003873506243223161), (104, 0.004191019252935446), (105, 0.037425867666104576), (106, 0.014452588931009836), (107, 0.00477785747477482), (108, 0.007140286721135181), (109, 0.004187027967389762), (110, 0.0), (111, 0.03362218483476283), (112, 0.013981454217195318), (113, 0.0035058473720946844), (114, 0.004181174491878177), (115, 0.06888020477313872), (116, 0.0040370339699542235), (117, 0.07524429432508427), (118, 0.0), (119, 0.004103486009092267), (120, 0.015345780314126471), (121, 0.03300457603706058), (122, 0.009155624502883436), (123, 0.021314341075112642), (124, 0.013097140226115755), (125, 0.0), (126, 0.0041268088002541), (127, 0.00408198642326221), (128, 0.0), (129, 0.003004418267080541), (130, 0.0), (131, 0.008620871560863722), (132, 0.004036068315560251), (133, 0.013928908354411539), (134, 0.0), (135, 0.01386655152171682), (136, 0.0039025578352867322), (137, 0.01877163348713306), (138, 0.0), (139, 0.0), (140, 0.0), (141, 0.02629091909050029), (142, 0.0035868487380144756), (143, 0.0), (144, 0.009681492646280317), (145, 0.019905792609021235), (146, 0.020952624403546956), (147, 0.012765973998669064), (148, 0.00905805122146073), (149, 0.012881829974277918), (150, 0.0), (151, 0.0), (152, 0.0), (153, 0.0), (154, 0.0), (155, 0.018604740830043005), (156, 0.0034664150951232977), (157, 0.0), (158, 0.0), (159, 0.0), (160, 0.0), (161, 0.011279704315805899), (162, 0.010819137525400615), (163, 0.0), (164, 0.0), (165, 0.0036959202307294656), (166, 0.05396934596432521), (167, 0.0), (168, 0.0), (169, 0.00434306740326246), (170, 0.02244813001972754), (171, 0.0), (172, 0.010000784272588145), (173, 0.004364021799653228), (174, 0.024326321753085606), (175, 0.0), (176, 0.0), (177, 0.0), (178, 0.004452186424946635), (179, 0.0), (180, 0.01081075473102296), (181, 0.019925287633296433), (182, 0.0), (183, 0.0038847528886138873), (184, 0.0038751875018037036), (185, 0.0), (186, 0.0), (187, 0.012576621472857765), (188, 0.05777491287687424), (189, 0.0), (190, 0.0036874394056613372), (191, 0.007453190862279428), (192, 0.004465440107413368), (193, 0.05094464156174214), (194, 0.003737195460177292), (195, 0.017845273571662174), (196, 0.013768704639016562), (197, 0.06641313227447736), (198, 0.004276213460334351), (199, 0.012980395999128046), (200, 0.003950869239598285), (201, 0.0104775332496264), (202, 0.008248619182296869), (203, 0.0), (204, 0.03910305826818799), (205, 0.041057949839235046), (206, 0.10288902246793165), (207, 0.011280426325138353), (208, 0.0047366119233121125), (209, 0.010517723843220195), (210, 0.054238928012980456), (211, 0.031118604100058834), (212, 0.0), (213, 0.0), (214, 0.0), (215, 0.0119648585319273), (216, 0.028717338312086914), (217, 0.0), (218, 0.003925450190759446), (219, 0.020130089075092037), (220, 0.0), (221, 0.0040833394302172725), (222, 0.0037573671460815116), (223, 0.0), (224, 0.011230953803964449), (225, 0.0), (226, 0.03156218735567935), (227, 0.013353511011043167), (228, 0.013935269959638332), (229, 0.0), (230, 0.0), (231, 0.0), (232, 0.0), (233, 0.0), (234, 0.0), (235, 0.0), (236, 0.013418793021084145), (237, 0.035462925812332756), (238, 0.004309880127979577), (239, 0.0), (240, 0.007761105127322032), (241, 0.0), (242, 0.011029985247344222), (243, 0.03450804344075316), (244, 0.01029262573688027), (245, 0.0), (246, 0.03185208721064699), (247, 0.0), (248, 0.0), (249, 0.021767852062481722), (250, 0.0), (251, 0.012635392855670679), (252, 0.003963828757641382), (253, 0.027535888641129772), (254, 0.011042894630193386), (255, 0.00445890948400479), (256, 0.003392198197873841), (257, 0.017345921136513662), (258, 0.0), (259, 0.008332577943688059), (260, 0.0), (261, 0.0), (262, 0.0), (263, 0.0), (264, 0.0), (265, 0.0), (266, 0.0032775398962360184), (267, 0.0037990059212809377), (268, 0.0), (269, 0.003648877401850321), (270, 0.022813624391544586), (271, 0.0033710388426288745), (272, 0.0), (273, 0.0), (274, 0.004812190668127077), (275, 0.0), (276, 0.013595202378225365), (277, 0.034621076633660146), (278, 0.0), (279, 0.0), (280, 0.004287544141676351), (281, 0.011433195953238245), (282, 0.004159963504245302), (283, 0.02558401164676905), (284, 0.0), (285, 0.009088901876680192), (286, 0.003851817633780668), (287, 0.009651746151710815), (288, 0.006981364093991261), (289, 0.0), (290, 0.0), (291, 0.0), (292, 0.0), (293, 0.0), (294, 0.006544140327506454), (295, 0.0), (296, 0.003335707453626298), (297, 0.0), (298, 0.0), (299, 0.014085427828383637), (300, 0.0), (301, 0.0), (302, 0.014984409362540382), (303, 0.0), (304, 0.0), (305, 0.0), (306, 0.0076251748597549514), (307, 0.003912275626237059), (308, 0.0), (309, 0.010190443466635257), (310, 0.0), (311, 0.013037387544317729), (312, 0.0), (313, 0.0), (314, 0.007061279261677551), (315, 0.008051698661959848), (316, 0.0), (317, 0.03493250019306323), (318, 0.00460472907350347), (319, 0.0), (320, 0.0), (321, 0.031283318108776034), (322, 0.008141688574955447), (323, 0.021530859673779948), (324, 0.007589503220841629), (325, 0.011942555951723482), (326, 0.005150465404993065), (327, 0.0), (328, 0.0), (329, 0.030325936720838463), (330, 0.022397435879340698), (331, 0.0), (332, 0.0), (333, 0.01620321824328826), (334, 0.0072327345968361215), (335, 0.03028349526193343), (336, 0.0), (337, 0.0), (338, 0.007642548847735603), (339, 0.0), (340, 0.0), (341, 0.0), (342, 0.0045431769309261525), (343, 0.03430228974093134), (344, 0.02627726193946269), (345, 0.023624463063052627), (346, 0.0), (347, 0.0), (348, 0.0041729370611574045), (349, 0.02698190046817899), (350, 0.0046577644112710355), (351, 0.0033831752970029335), (352, 0.0), (353, 0.004228894126632479), (354, 0.012857202313882907), (355, 0.003985797742053452), (356, 0.004035258065512938), (357, 0.018567279570143924), (358, 0.022921652965673753), (359, 0.003977467792739355), (360, 0.018316153339534683), (361, 0.0), (362, 0.0), (363, 0.0), (364, 0.0038048949470986322), (365, 0.0), (366, 0.02286372060694572), (367, 0.0), (368, 0.011541295588799207), (369, 0.007806053013576164), (370, 0.014174881317826422), (371, 0.004562498873465361), (372, 0.004003223046894088), (373, 0.004116165561348981), (374, 0.004125726861540932), (375, 0.0), (376, 0.017063014302203243), (377, 0.03578046181158991), (378, 0.0), (379, 0.0), (380, 0.0), (381, 0.03157469778079354), (382, 0.012923355405102673), (383, 0.01798981285988551), (384, 0.009005927601214787), (385, 0.02020103708685196), (386, 0.0), (387, 0.0042883422131213865), (388, 0.004046301492182155), (389, 0.0), (390, 0.0), (391, 0.02813003243457849), (392, 0.024777098654073845), (393, 0.0), (394, 0.006887032095696392), (395, 0.0), (396, 0.009751841049748165), (397, 0.0), (398, 0.0), (399, 0.02898104097893229), (400, 0.004189601205214242), (401, 0.04076466362118529), (402, 0.0), (403, 0.0036913968486454213), (404, 0.0), (405, 0.00864894357284557), (406, 0.0043024493018783815), (407, 0.0034099801803664414), (408, 0.013519908420245034), (409, 0.0), (410, 0.011329678513687276), (411, 0.0), (412, 0.0), (413, 0.0), (414, 0.0), (415, 0.0), (416, 0.003869625553251395), (417, 0.0), (418, 0.010616233816958776), (419, 0.00493621172307693), (420, 0.0), (421, 0.0), (422, 0.0), (423, 0.014075796152548763), (424, 0.0), (425, 0.0), (426, 0.0), (427, 0.0), (428, 0.016709787527562903), (429, 0.014999988152675791), (430, 0.004405432014206983), (431, 0.020836473412636128), (432, 0.0), (433, 0.010218545314541739), (434, 0.04304247878280224), (435, 0.008149082300311226), (436, 0.004988405932872082), (437, 0.004236509824094239), (438, 0.0), (439, 0.022009112650223553), (440, 0.025182196733954804), (441, 0.003603536011762102), (442, 0.003603302715132398), (443, 0.004766658234695466), (444, 0.0), (445, 0.007267085339554311), (446, 0.0), (447, 0.01841126197032109), (448, 0.005011216748845692), (449, 0.0), (450, 0.015253556584037969), (451, 0.008090302524743884), (452, 0.036283793079876316), (453, 0.0034686810305540098), (454, 0.0), (455, 0.002996308868534947), (456, 0.013276169785155684), (457, 0.04273240527457928), (458, 0.01619322457494681), (459, 0.0), (460, 0.0), (461, 0.01145372154489406), (462, 0.0), (463, 0.011280210037731043), (464, 0.012674787229064339), (465, 0.03253512238525424), (466, 0.007987617479897402), (467, 0.0), (468, 0.0), (469, 0.006848200306055893), (470, 0.0044823218635565), (471, 0.004051985153987745), (472, 0.01322592592517154), (473, 0.0), (474, 0.02462125843243517), (475, 0.019436828288920585), (476, 0.0), (477, 0.0), (478, 0.022461230358274086), (479, 0.004358483424152231), (480, 0.003745479707063078), (481, 0.004612025879009682), (482, 0.004469402545564744), (483, 0.02451261894337379), (484, 0.0), (485, 0.019625803596498872), (486, 0.007833162817980166), (487, 0.04435780911053409), (488, 0.00406912201517885), (489, 0.0), (490, 0.0042123190849222055), (491, 0.0), (492, 0.0077976322552711684), (493, 0.004522206949164864), (494, 0.00995298935578485), (495, 0.0038706270932595513), (496, 0.0037175253983128477), (497, 0.012336223772002872), (498, 0.0), (499, 0.0), (500, 0.03342575610839282), (501, 0.016858173162657978), (502, 0.034422240452885944), (503, 0.01386933380204711), (504, 0.004329982410933304), (505, 0.0), (506, 0.006747855330638968), (507, 0.0), (508, 0.0), (509, 0.004295942622847802), (510, 0.009981484122328022), (511, 0.0076115515666729935), (512, 0.0), (513, 0.03754979902389005), (514, 0.0), (515, 0.013134601221771307), (516, 0.0), (517, 0.008636312632011145), (518, 0.0), (519, 0.0038036426840524144), (520, 0.007110027550913781), (521, 0.0), (522, 0.0041459996384537465), (523, 0.0), (524, 0.0), (525, 0.0), (526, 0.0), (527, 0.0), (528, 0.008337728837764725), (529, 0.0), (530, 0.03263228928898645), (531, 0.0), (532, 0.0), (533, 0.01614689567917675), (534, 0.015331399606802212), (535, 0.00805644599562173), (536, 0.0), (537, 0.0), (538, 0.0), (539, 0.0), (540, 0.0), (541, 0.02262821421037386), (542, 0.01647504921791626), (543, 0.014831593724699069), (544, 0.010537916406216319), (545, 0.007215387126863054), (546, 0.0), (547, 0.0762681746302645), (548, 0.02309162560925983), (549, 0.0), (550, 0.0), (551, 0.004422845780217295), (552, 0.0143041499266639), (553, 0.005953048965334541), (554, 0.0), (555, 0.019562669234929896), (556, 0.008302991053755565), (557, 0.0), (558, 0.003863061724642252), (559, 0.0), (560, 0.0), (561, 0.0062021041987612635), (562, 0.0033106124731748367), (563, 0.019077957292329546), (564, 0.004470881668346986), (565, 0.0), (566, 0.01233715341496518), (567, 0.0), (568, 0.0), (569, 0.007590114993545484), (570, 0.0), (571, 0.003343483770762711), (572, 0.030876970684569415), (573, 0.0), (574, 0.0), (575, 0.029072207367732503), (576, 0.0047126611589299), (577, 0.007553180738201987), (578, 0.01208143418906713), (579, 0.004378718855856304), (580, 0.03639790524734171), (581, 0.0), (582, 0.0), (583, 0.007499593898496868), (584, 0.015068285104334327), (585, 0.0), (586, 0.0), (587, 0.004698360282620461), (588, 0.030039027009146693), (589, 0.004002496560712636), (590, 0.003910386159025126), (591, 0.0), (592, 0.0), (593, 0.0), (594, 0.003978874025806683), (595, 0.0), (596, 0.004853502753554205), (597, 0.0), (598, 0.004130589804518564), (599, 0.0), (600, 0.0), (601, 0.0), (602, 0.0), (603, 0.0), (604, 0.003843817605279225), (605, 0.017014048919878733), (606, 0.0494093040976053), (607, 0.00331665299222845), (608, 0.003953161173760577), (609, 0.010129502360157581), (610, 0.0), (611, 0.003684169778422294), (612, 0.013575962709132595), (613, 0.009881979100271233), (614, 0.004898305748595469), (615, 0.0), (616, 0.0035321221206956435), (617, 0.03154820020553389), (618, 0.0), (619, 0.02283415731081697), (620, 0.0), (621, 0.03868375064308052), (622, 0.0318444129279889), (623, 0.0046785905052275705), (624, 0.1196350678867274), (625, 0.0), (626, 0.0036334264194150547), (627, 0.005679815555817045), (628, 0.004203852740173381), (629, 0.07542695737058164), (630, 0.0), (631, 0.0), (632, 0.0), (633, 0.0), (634, 0.0), (635, 0.0), (636, 0.004351699704310414), (637, 0.012658804673924776), (638, 0.024221342511122883), (639, 0.0), (640, 0.007234145008119889), (641, 0.027382687363845717), (642, 0.010928322734954973), (643, 0.013625988029667416), (644, 0.0043278236892252955), (645, 0.006946564979090472), (646, 0.07603699004553506), (647, 0.0), (648, 0.0), (649, 0.018598280571445358), (650, 0.0), (651, 0.03424183841783728), (652, 0.0044106523573133405), (653, 0.012554924725187086), (654, 0.010436756122299112), (655, 0.011784890916268498), (656, 0.008581500583662053), (657, 0.0037817827257336273), (658, 0.017410748075267622), (659, 0.029938075949865226), (660, 0.004314483107652864), (661, 0.0), (662, 0.026861734567485515), (663, 0.02585809904501321), (664, 0.0), (665, 0.00813863194731283), (666, 0.0), (667, 0.04908616757607932), (668, 0.008006350615589288), (669, 0.013167762081922857), (670, 0.0050945052529590305), (671, 0.0), (672, 0.0037868812876267447), (673, 0.01946821128557065), (674, 0.0), (675, 0.010734819402177591), (676, 0.013757816703150431), (677, 0.0), (678, 0.0), (679, 0.009316646418774312), (680, 0.0), (681, 0.0), (682, 0.011312052162599699), (683, 0.010983711490671903), (684, 0.011138162172240618), (685, 0.036307120638355374), (686, 0.0), (687, 0.036926780672671966), (688, 0.01367609468147453), (689, 0.012263097203986814), (690, 0.04408285722151781), (691, 0.0), (692, 0.07129154572805596), (693, 0.004246061113162139), (694, 0.0), (695, 0.008983641861978779), (696, 0.012618513116191481), (697, 0.004290783729918833), (698, 0.004238606548123277), (699, 0.0), (700, 0.0), (701, 0.015991066843543865), (702, 0.007957244651304804), (703, 0.003864685497965284), (704, 0.0), (705, 0.0037728152085824388), (706, 0.0), (707, 0.0036296444897785745), (708, 0.0), (709, 0.013750765925597357), (710, 0.00776045239130384), (711, 0.0), (712, 0.01085341902330878), (713, 0.007924657577712494), (714, 0.0), (715, 0.0), (716, 0.004696292851575181), (717, 0.024572521793498784), (718, 0.031108858268777583), (719, 0.010449877870416069), (720, 0.0), (721, 0.04702771606567094), (722, 0.00382792517206074), (723, 0.019953270011737995), (724, 0.0), (725, 0.0), (726, 0.013966759219792272), (727, 0.0041549783507446834), (728, 0.004501081971971758), (729, 0.019801251768333642), (730, 0.0), (731, 0.0), (732, 0.0036671644772065), (733, 0.019639230327664216), (734, 0.003978086895914126), (735, 0.006178908058656535), (736, 0.0), (737, 0.0), (738, 0.013507709207153433), (739, 0.0400154043688735), (740, 0.005710664040943665), (741, 0.0), (742, 0.003997549153664756), (743, 0.01307927092799643), (744, 0.0038695745066118807), (745, 0.0), (746, 0.0), (747, 0.0), (748, 0.0), (749, 0.004240154374462672), (750, 0.0042128977150872405), (751, 0.0), (752, 0.0), (753, 0.020741634384182556), (754, 0.0), (755, 0.0043006254993778765), (756, 0.0), (757, 0.00806846781379178), (758, 0.0), (759, 0.0), (760, 0.0282308273606711), (761, 0.004459017290434371), (762, 0.0), (763, 0.0), (764, 0.0), (765, 0.0), (766, 0.0), (767, 0.007779917590338803), (768, 0.0), (769, 0.004229829394649073), (770, 0.0), (771, 0.0), (772, 0.0), (773, 0.0), (774, 0.004523460424027057), (775, 0.0), (776, 0.0), (777, 0.016724559311191343), (778, 0.020234438807622445), (779, 0.0), (780, 0.0), (781, 0.03762005135157568), (782, 0.0), (783, 0.004398012198443737), (784, 0.0), (785, 0.008199137216828018), (786, 0.08126314512784663), (787, 0.00786794833176166), (788, 0.003922350658475532), (789, 0.0), (790, 0.03650360526273734), (791, 0.0), (792, 0.004492449863732463), (793, 0.07571336387292826), (794, 0.0241349752382021), (795, 0.023252207972051662), (796, 0.003643055221330033), (797, 0.008644052811566333), (798, 0.017387900475193292), (799, 0.014038729472839774), (800, 0.0037783836725123095), (801, 0.0165509407633486), (802, 0.008982238090898122), (803, 0.0), (804, 0.01658894171473163), (805, 0.0), (806, 0.014224685510494734), (807, 0.03197118651141246), (808, 0.0037461302435452845), (809, 0.008473551246909534), (810, 0.0075440214771267), (811, 0.0), (812, 0.03426704981423326), (813, 0.0048929629430757), (814, 0.033500259026265966), (815, 0.0037993618487609632), (816, 0.012493711243596361), (817, 0.014225099417325816), (818, 0.004111135890242906), (819, 0.0), (820, 0.007526607936765025), (821, 0.0), (822, 0.03286027766318439), (823, 0.0), (824, 0.008816738479735443), (825, 0.0), (826, 0.004551290876217036), (827, 0.017327733276937488), (828, 0.009574834845436034), (829, 0.01700553200986182), (830, 0.019021494913473973), (831, 0.0031978076960246992), (832, 0.004272592578695165), (833, 0.022971481070179774), (834, 0.013783447531160066), (835, 0.013266553043418818), (836, 0.0), (837, 0.011104008817203508), (838, 0.004104287384697821), (839, 0.0), (840, 0.03079368186539925), (841, 0.0), (842, 0.011901091501756979), (843, 0.0035377563006573054), (844, 0.00445321122829238), (845, 0.008480815241760142), (846, 0.008005172266214491), (847, 0.05508672295046911), (848, 0.03823534761053557), (849, 0.020212782130298323), (850, 0.018164877343063678), (851, 0.0038404228985463437), (852, 0.004114924322249948), (853, 0.020551088333325824), (854, 0.04655534389732636), (855, 0.0), (856, 0.024744529477479314), (857, 0.004759622864279707), (858, 0.0029904662055597127), (859, 0.008117444530476426), (860, 0.016550653167814823), (861, 0.003666401232338962), (862, 0.0), (863, 0.0), (864, 0.004243840341680925), (865, 0.013249956334344205), (866, 0.013569347500639416), (867, 0.00425178067393624), (868, 0.0), (869, 0.010090647243953817), (870, 0.013890496134116309), (871, 0.043020100140521295), (872, 0.004495860709780589), (873, 0.0), (874, 0.009149122495930013), (875, 0.0), (876, 0.004687616443063458), (877, 0.0), (878, 0.013700267497888188), (879, 0.01499092626750197), (880, 0.004090368523126027), (881, 0.0), (882, 0.0), (883, 0.0), (884, 0.0), (885, 0.012657299206978076), (886, 0.003958614836003597), (887, 0.0344810209068767), (888, 0.004597367714088546), (889, 0.03207463089143103), (890, 0.0), (891, 0.008746162685040661), (892, 0.007348123639290567), (893, 0.0), (894, 0.012428911308273836), (895, 0.0076446825383490345), (896, 0.024116419035039215), (897, 0.004308542801661554), (898, 0.007410932506386866), (899, 0.0), (900, 0.0039769782203414135), (901, 0.0), (902, 0.0), (903, 0.004512414309086911), (904, 0.05618628611209414), (905, 0.011453944332278199), (906, 0.01953193408051192), (907, 0.004024060611922064), (908, 0.018888399107460888), (909, 0.019478183671580652), (910, 0.003901591442961209), (911, 0.0), (912, 0.007339976970695624), (913, 0.0), (914, 0.0), (915, 0.009501823215003063), (916, 0.009264988424679684), (917, 0.0), (918, 0.018912075028219788), (919, 0.0), (920, 0.007631454535889323), (921, 0.0), (922, 0.0), (923, 0.004309029245377111), (924, 0.003616857754228176), (925, 0.005008072837163326), (926, 0.006538722562358542), (927, 0.0), (928, 0.0), (929, 0.03393056848069374), (930, 0.0044603590974269325), (931, 0.010262215866982945), (932, 0.0), (933, 0.0), (934, 0.003932071688129822), (935, 0.0), (936, 0.0038385908747725355), (937, 0.016982309343725414), (938, 0.008192167083556846), (939, 0.017382834315674826), (940, 0.01951982074779455), (941, 0.0), (942, 0.011763339469766128), (943, 0.0), (944, 0.0038993330661733208), (945, 0.0), (946, 0.06064357192893606), (947, 0.02049616894063258), (948, 0.01237745130194452), (949, 0.0), (950, 0.0), (951, 0.003857609133905261), (952, 0.0044605528018986694), (953, 0.010086339230062158), (954, 0.0), (955, 0.0), (956, 0.008797428888668525), (957, 0.0038507470179152516), (958, 0.0), (959, 0.0041796633682001485), (960, 0.0), (961, 0.014996337970668183), (962, 0.004119719620892961), (963, 0.003978078582246728), (964, 0.0), (965, 0.0), (966, 0.0041606923630418706), (967, 0.004664073724712308), (968, 0.003881463800920554), (969, 0.0042388668743097565), (970, 0.0), (971, 0.008415426532476556), (972, 0.0), (973, 0.0), (974, 0.0), (975, 0.004013722905060465), (976, 0.010423256431716555), (977, 0.0), (978, 0.03368985588991062), (979, 0.0), (980, 0.004323653391190085), (981, 0.011303394140320992), (982, 0.026900805739379204), (983, 0.0), (984, 0.007777745474081504), (985, 0.004889179777491714), (986, 0.015213095879689189), (987, 0.02328778469512267), (988, 0.013877760473768548), (989, 0.01383606707756322), (990, 0.0), (991, 0.02933404465157971), (992, 0.01495969408068081), (993, 0.0), (994, 0.010274830320669052), (995, 0.0), (996, 0.0), (997, 0.0), (998, 0.004832975580780706), (999, 0.004805862127673152), (1000, 0.013095430076329009), (1001, 0.0040533432064118495), (1002, 0.00407340364367631), (1003, 0.0), (1004, 0.0), (1005, 0.0033760951591136723), (1006, 0.004422775256199192), (1007, 0.004624448802527656), (1008, 0.0), (1009, 0.011721445097561482), (1010, 0.0), (1011, 0.0), (1012, 0.0), (1013, 0.0), (1014, 0.0), (1015, 0.03662722523375448), (1016, 0.0), (1017, 0.00425780027864116), (1018, 0.02910880167424125), (1019, 0.004317038448422874), (1020, 0.004280491863736905), (1021, 0.004142145782650915), (1022, 0.03073104802337895), (1023, 0.0047814106587059325), (1024, 0.010463799429433448), (1025, 0.0), (1026, 0.048783426401980606), (1027, 0.004154575734457431), (1028, 0.03529990929655766), (1029, 0.013071260448388288), (1030, 0.00409475073448569), (1031, 0.0), (1032, 0.02265270584002154), (1033, 0.0), (1034, 0.06863267422012885), (1035, 0.022458693355855236), (1036, 0.02879728904189306), (1037, 0.0), (1038, 0.0), (1039, 0.0), (1040, 0.0037151336895524176), (1041, 0.011717491133304838), (1042, 0.007060643384575546), (1043, 0.0), (1044, 0.025796767371962348), (1045, 0.0), (1046, 0.0), (1047, 0.0), (1048, 0.0), (1049, 0.0050023921936916595), (1050, 0.012686658224717113), (1051, 0.0), (1052, 0.01692844293345509), (1053, 0.03353098378251527), (1054, 0.0), (1055, 0.0), (1056, 0.0), (1057, 0.0), (1058, 0.011976762212161042), (1059, 0.0), (1060, 0.004115639488455366), (1061, 0.017134622806940853), (1062, 0.01425029173072942), (1063, 0.009704152301514639), (1064, 0.017436704686771033), (1065, 0.003962213112330666), (1066, 0.0), (1067, 0.0), (1068, 0.009622400499706406), (1069, 0.0), (1070, 0.0), (1071, 0.06712114424713941), (1072, 0.019453861308613495), (1073, 0.0), (1074, 0.009838284205866134), (1075, 0.004263282749478541), (1076, 0.04075927435996522), (1077, 0.004297178886159943), (1078, 0.0036426454167170176), (1079, 0.01918771691534425), (1080, 0.003847047646735171), (1081, 0.013295223378681957), (1082, 0.031854267018578825), (1083, 0.004387170327564547), (1084, 0.011974244819390526), (1085, 0.0), (1086, 0.007880331765764949), (1087, 0.0), (1088, 0.003673971665450333), (1089, 0.0), (1090, 0.007165656053033956), (1091, 0.0), (1092, 0.025395912780544136), (1093, 0.0), (1094, 0.0), (1095, 0.0), (1096, 0.0), (1097, 0.0), (1098, 0.0), (1099, 0.0), (1100, 0.0), (1101, 0.0), (1102, 0.0042513955465002485), (1103, 0.014519825786840463), (1104, 0.0), (1105, 0.0), (1106, 0.0), (1107, 0.003954299552250012), (1108, 0.0), (1109, 0.004737506077288511), (1110, 0.0), (1111, 0.0), (1112, 0.0), (1113, 0.0), (1114, 0.0), (1115, 0.008613708402874346), (1116, 0.01910331891015321), (1117, 0.0), (1118, 0.008045019450810549), (1119, 0.02490608517932566), (1120, 0.0), (1121, 0.0), (1122, 0.012894575331888068), (1123, 0.02316671560038576), (1124, 0.0), (1125, 0.010528132797035258), (1126, 0.0), (1127, 0.0), (1128, 0.052357242315705356), (1129, 0.0), (1130, 0.04391399812585213), (1131, 0.004335292404381286), (1132, 0.023315864307819963), (1133, 0.0), (1134, 0.0), (1135, 0.0), (1136, 0.0037937024540939065), (1137, 0.006706622584432261), (1138, 0.0041995350338939925), (1139, 0.0), (1140, 0.01891614997127387), (1141, 0.015655806969125566), (1142, 0.0), (1143, 0.01576736201675802), (1144, 0.0), (1145, 0.0), (1146, 0.025465029538618074), (1147, 0.0), (1148, 0.011452455699303992), (1149, 0.0), (1150, 0.020124139517136107), (1151, 0.023255597232643713), (1152, 0.0), (1153, 0.027861378744350046), (1154, 0.0), (1155, 0.0), (1156, 0.0), (1157, 0.0075775782185516435), (1158, 0.0), (1159, 0.0), (1160, 0.033773985122124595), (1161, 0.004157302920954155), (1162, 0.0), (1163, 0.004306935825154364), (1164, 0.0), (1165, 0.0), (1166, 0.0), (1167, 0.0), (1168, 0.0), (1169, 0.0), (1170, 0.004194612662717072), (1171, 0.0), (1172, 0.0), (1173, 0.01796688975255882), (1174, 0.0), (1175, 0.023766372816534855), (1176, 0.004354792225887485), (1177, 0.004039430285992488), (1178, 0.0), (1179, 0.004329744877729348), (1180, 0.007571218527211045), (1181, 0.0), (1182, 0.004531970653234898), (1183, 0.013626103642363135), (1184, 0.016191348846507657), (1185, 0.024703518357872455), (1186, 0.011151639696358758), (1187, 0.004970658613647656), (1188, 0.004536148989006582), (1189, 0.0), (1190, 0.0), (1191, 0.012519435912859703), (1192, 0.0043127739116013124), (1193, 0.0), (1194, 0.0), (1195, 0.014418586534847736), (1196, 0.013411142295792853), (1197, 0.007597687432203307), (1198, 0.0), (1199, 0.0038062379136986), (1200, 0.07501113297890151), (1201, 0.0), (1202, 0.03998044113922228), (1203, 0.0), (1204, 0.0), (1205, 0.024663078441062917), (1206, 0.003986977393681691), (1207, 0.007941937821805446), (1208, 0.005195172992891845), (1209, 0.003918452534722502), (1210, 0.0), (1211, 0.0), (1212, 0.0), (1213, 0.0), (1214, 0.0), (1215, 0.0036779776670253918), (1216, 0.031818102120681445), (1217, 0.003971626247120388), (1218, 0.0), (1219, 0.011349879601065229), (1220, 0.004027722512912569), (1221, 0.013956498765441014), (1222, 0.0), (1223, 0.012794992215043164), (1224, 0.015223903341910839), (1225, 0.013315637083161563), (1226, 0.0), (1227, 0.0), (1228, 0.0), (1229, 0.013140430154333808), (1230, 0.00965998434493201), (1231, 0.009734317712695935), (1232, 0.04024008595143951), (1233, 0.008380315790121372), (1234, 0.010446371249713217), (1235, 0.0), (1236, 0.0270658004572086), (1237, 0.012714420600890671), (1238, 0.0), (1239, 0.0), (1240, 0.0), (1241, 0.0036664602983163736), (1242, 0.0), (1243, 0.0), (1244, 0.0), (1245, 0.00413356433400839), (1246, 0.0), (1247, 0.00415684390894176), (1248, 0.013948485249300556), (1249, 0.014769475476097554), (1250, 0.014357305785688189), (1251, 0.0037840804387746846), (1252, 0.014437756295458742), (1253, 0.0), (1254, 0.0), (1255, 0.030247750371614583), (1256, 0.008260712215982286), (1257, 0.012308998969545232), (1258, 0.0), (1259, 0.0), (1260, 0.0), (1261, 0.01754820476327962), (1262, 0.0), (1263, 0.024398332748965912), (1264, 0.00523948391429113), (1265, 0.0), (1266, 0.0), (1267, 0.0), (1268, 0.0), (1269, 0.0), (1270, 0.0076011478941669436), (1271, 0.0), (1272, 0.0), (1273, 0.0038862244656246037), (1274, 0.0), (1275, 0.01598026709637236), (1276, 0.022181514134258166), (1277, 0.0), (1278, 0.0), (1279, 0.02662905166721189), (1280, 0.0), (1281, 0.0), (1282, 0.0), (1283, 0.034112868215191446), (1284, 0.008033700189188872), (1285, 0.02495253635823499), (1286, 0.004426057129356006), (1287, 0.0), (1288, 0.0), (1289, 0.0), (1290, 0.01271450844909777), (1291, 0.0), (1292, 0.027710142275196317), (1293, 0.0), (1294, 0.0), (1295, 0.0), (1296, 0.006894015618264982), (1297, 0.0), (1298, 0.0), (1299, 0.0), (1300, 0.015347128314979912), (1301, 0.0), (1302, 0.0), (1303, 0.0034436780704172193), (1304, 0.03876812108394577), (1305, 0.0035295978461176024), (1306, 0.027468949275248632), (1307, 0.0), (1308, 0.011655696217295203), (1309, 0.007116872971566495), (1310, 0.0), (1311, 0.0), (1312, 0.007379329736229167), (1313, 0.004196191581869009), (1314, 0.009443970118571739), (1315, 0.0), (1316, 0.0), (1317, 0.01541422862181914), (1318, 0.011121671757564133), (1319, 0.0), (1320, 0.00828709318593713), (1321, 0.0), (1322, 0.0), (1323, 0.0), (1324, 0.0044841332502727526), (1325, 0.004751737957194884), (1326, 0.0), (1327, 0.0), (1328, 0.0), (1329, 0.0), (1330, 0.00828026335656264), (1331, 0.013006261942494692), (1332, 0.0), (1333, 0.0), (1334, 0.014267760242643954), (1335, 0.012772936157382175), (1336, 0.0), (1337, 0.01402339714564972), (1338, 0.004233886177038775), (1339, 0.010338867413180578), (1340, 0.003960870610964887), (1341, 0.0), (1342, 0.0), (1343, 0.011796010166905548), (1344, 0.0068164011106900645), (1345, 0.0), (1346, 0.0), (1347, 0.029573071939593472), (1348, 0.009002216516599132), (1349, 0.004694715809233201), (1350, 0.004527961236175153), (1351, 0.0355394546075342), (1352, 0.016231865335006465), (1353, 0.007982541603341399), (1354, 0.027871910509283317), (1355, 0.0), (1356, 0.0035653221040494822), (1357, 0.011706137861204911), (1358, 0.0), (1359, 0.0), (1360, 0.013636366427053334), (1361, 0.0), (1362, 0.0), (1363, 0.0), (1364, 0.004508228771373824), (1365, 0.010751500110446613), (1366, 0.0), (1367, 0.0), (1368, 0.0), (1369, 0.008364228756361978), (1370, 0.003683968346782706), (1371, 0.010930796874130148), (1372, 0.00398377198296555), (1373, 0.0), (1374, 0.0), (1375, 0.003988584420710645), (1376, 0.0), (1377, 0.012248348943970578), (1378, 0.023502618399075217), (1379, 0.01430569093178188), (1380, 0.0), (1381, 0.0), (1382, 0.013161204295391412), (1383, 0.00481557995550059), (1384, 0.007488540468672917), (1385, 0.01359843597849348), (1386, 0.0), (1387, 0.07307583450714766), (1388, 0.010645693917844548), (1389, 0.0), (1390, 0.0), (1391, 0.0), (1392, 0.0), (1393, 0.0), (1394, 0.01583085983238554), (1395, 0.0), (1396, 0.0), (1397, 0.0), (1398, 0.021017680442775438), (1399, 0.0), (1400, 0.004430156380759093), (1401, 0.014527051343812217), (1402, 0.008518653520434646), (1403, 0.003290503017062632), (1404, 0.0), (1405, 0.007321060611030827), (1406, 0.009954641249145219), (1407, 0.0), (1408, 0.02703527668472383), (1409, 0.0), (1410, 0.040180491071134354), (1411, 0.008392223890097947), (1412, 0.017185983594583537), (1413, 0.004366205029778575), (1414, 0.003737564777111129), (1415, 0.003633034301101888), (1416, 0.007935927836698968), (1417, 0.01125064054879985), (1418, 0.015245443174574363), (1419, 0.03388180494136926), (1420, 0.0), (1421, 0.012253927694590883), (1422, 0.004197356404070644), (1423, 0.0037719945700607216), (1424, 0.04254135450657859), (1425, 0.0080055059679774), (1426, 0.0), (1427, 0.003900658159073473), (1428, 0.03922688446101648), (1429, 0.021681343152589336), (1430, 0.0), (1431, 0.008071059412120189), (1432, 0.010705210426494007), (1433, 0.0), (1434, 0.0), (1435, 0.008432449700216236), (1436, 0.010209000205659992), (1437, 0.0), (1438, 0.0041359584648763235), (1439, 0.0), (1440, 0.010111400337857492), (1441, 0.0), (1442, 0.008338125133558274), (1443, 0.0), (1444, 0.03179729413816367), (1445, 0.0), (1446, 0.004113343676461046), (1447, 0.0), (1448, 0.004087486943603885), (1449, 0.0), (1450, 0.0), (1451, 0.0), (1452, 0.0), (1453, 0.0), (1454, 0.004511957847015061), (1455, 0.010006903931538443), (1456, 0.00754009678755334), (1457, 0.007874787996742467), (1458, 0.012403084679433641), (1459, 0.008303121206472416), (1460, 0.0), (1461, 0.022551652675168926), (1462, 0.003912269178247709), (1463, 0.05274534123287859), (1464, 0.0), (1465, 0.0), (1466, 0.02233585671858104), (1467, 0.0), (1468, 0.0), (1469, 0.0), (1470, 0.026432617454627202), (1471, 0.01087831606929565), (1472, 0.012360095841469158), (1473, 0.0), (1474, 0.0046611431117835195), (1475, 0.004401832603909751), (1476, 0.01245084073851594), (1477, 0.0038817528110887973), (1478, 0.0040337109037623265), (1479, 0.0), (1480, 0.007540103377920607), (1481, 0.004077320245981329), (1482, 0.007661313761870145), (1483, 0.004175979334089677), (1484, 0.0), (1485, 0.0), (1486, 0.0), (1487, 0.0), (1488, 0.004202075601966809), (1489, 0.01428764352411866), (1490, 0.0), (1491, 0.0), (1492, 0.06374045227147104), (1493, 0.0), (1494, 0.0), (1495, 0.0), (1496, 0.0), (1497, 0.0), (1498, 0.02749628030810289), (1499, 0.0), (1500, 0.0), (1501, 0.0), (1502, 0.0), (1503, 0.003902045699526948), (1504, 0.0), (1505, 0.0), (1506, 0.022318509775898443), (1507, 0.0), (1508, 0.0), (1509, 0.0029672461028297775), (1510, 0.004100070110005047), (1511, 0.0), (1512, 0.0), (1513, 0.004563861284689988), (1514, 0.004007360367823229), (1515, 0.0), (1516, 0.0), (1517, 0.01410574900097535), (1518, 0.013480798687744083), (1519, 0.004058244916227002), (1520, 0.0), (1521, 0.012868209148151295), (1522, 0.0), (1523, 0.00699011921970235), (1524, 0.01449550408395753), (1525, 0.0), (1526, 0.0), (1527, 0.009850335006093105), (1528, 0.025672844218016667), (1529, 0.0), (1530, 0.0), (1531, 0.0), (1532, 0.0), (1533, 0.02957476351122614), (1534, 0.05451853974947085), (1535, 0.0), (1536, 0.0), (1537, 0.013405759899231408), (1538, 0.0), (1539, 0.0038307992897604402), (1540, 0.0), (1541, 0.05919045178218552), (1542, 0.010190771171405046), (1543, 0.011437525259437323), (1544, 0.009668459465010127), (1545, 0.0), (1546, 0.014808893052588108), (1547, 0.004967579637512933), (1548, 0.0), (1549, 0.0), (1550, 0.0), (1551, 0.02348090642130022), (1552, 0.0), (1553, 0.020552662445490404), (1554, 0.042577849430683795), (1555, 0.0), (1556, 0.0), (1557, 0.008375633400906805), (1558, 0.017766666248161138), (1559, 0.0), (1560, 0.0), (1561, 0.008140485354780014), (1562, 0.0), (1563, 0.0), (1564, 0.0), (1565, 0.03652083819326352), (1566, 0.013696312977458353), (1567, 0.0), (1568, 0.0), (1569, 0.0), (1570, 0.0045591432784777425), (1571, 0.007332282057502809), (1572, 0.010519495284568917), (1573, 0.0), (1574, 0.0), (1575, 0.014749741020382845), (1576, 0.0), (1577, 0.020037909399094906), (1578, 0.0), (1579, 0.021764860707468), (1580, 0.0), (1581, 0.021175374293232557), (1582, 0.004014128839290912), (1583, 0.0), (1584, 0.017800862478979086), (1585, 0.01047566086510609), (1586, 0.0), (1587, 0.029022558315666053), (1588, 0.0), (1589, 0.02227032999118138), (1590, 0.0), (1591, 0.01128978115239025), (1592, 0.04630897199451761), (1593, 0.0), (1594, 0.0), (1595, 0.013068966731301732), (1596, 0.0), (1597, 0.012104958863508913), (1598, 0.004146162381630856), (1599, 0.0), (1600, 0.0), (1601, 0.0), (1602, 0.0), (1603, 0.0), (1604, 0.0), (1605, 0.003925154459581975), (1606, 0.012785160496983833), (1607, 0.0), (1608, 0.003999187075953016), (1609, 0.0), (1610, 0.007986937577573641), (1611, 0.0), (1612, 0.0), (1613, 0.0), (1614, 0.015275357801628277), (1615, 0.0), (1616, 0.0037397223187511574), (1617, 0.0), (1618, 0.0), (1619, 0.004406724759374948), (1620, 0.004200328104253796), (1621, 0.014140845190973732), (1622, 0.014336951708438867), (1623, 0.0), (1624, 0.019832187837427562), (1625, 0.0), (1626, 0.0), (1627, 0.0038632600634244973), (1628, 0.0041087901888245916), (1629, 0.014320225530782184), (1630, 0.009442217256899725), (1631, 0.0), (1632, 0.018445595290467326), (1633, 0.0), (1634, 0.012316244842002059), (1635, 0.0), (1636, 0.0), (1637, 0.022884270286966154), (1638, 0.0), (1639, 0.007076054873868274), (1640, 0.0), (1641, 0.0), (1642, 0.0), (1643, 0.04345341487685879), (1644, 0.0), (1645, 0.004364496560486799), (1646, 0.006742566458451449), (1647, 0.0), (1648, 0.003274196908637851), (1649, 0.007719522509241158), (1650, 0.0), (1651, 0.0), (1652, 0.0), (1653, 0.027620512436777014), (1654, 0.007870903912779904), (1655, 0.005270922360326012), (1656, 0.0), (1657, 0.00801151795351829), (1658, 0.0049490279413403745), (1659, 0.0), (1660, 0.03222288475329834), (1661, 0.0), (1662, 0.018127963185693218), (1663, 0.0), (1664, 0.0), (1665, 0.013690560719744626), (1666, 0.0041462811833524425), (1667, 0.004103141939396158), (1668, 0.0), (1669, 0.0), (1670, 0.0), (1671, 0.024239921322563245), (1672, 0.0), (1673, 0.007884028962171134), (1674, 0.011245141583526068), (1675, 0.003899016282050353), (1676, 0.0), (1677, 0.010160847534562856), (1678, 0.012546205131819619), (1679, 0.025109313574570045), (1680, 0.009349409794600838), (1681, 0.0), (1682, 0.011713602777178304), (1683, 0.04933169168820321), (1684, 0.0), (1685, 0.004573682683649895), (1686, 0.0), (1687, 0.0045792720695747155), (1688, 0.0), (1689, 0.023942936328245276), (1690, 0.003840223028437696), (1691, 0.0), (1692, 0.0), (1693, 0.027242712308365027), (1694, 0.008821765664317032), (1695, 0.013125451179229588), (1696, 0.0), (1697, 0.0), (1698, 0.007261375370100954), (1699, 0.0), (1700, 0.0), (1701, 0.010977577660482445), (1702, 0.0), (1703, 0.03769693886466037), (1704, 0.015064334635036094), (1705, 0.010887039197167925), (1706, 0.026179505661697754), (1707, 0.012144402210293651), (1708, 0.0), (1709, 0.0), (1710, 0.004141723693269049), (1711, 0.005225177829911222), (1712, 0.0), (1713, 0.0), (1714, 0.007641558156012179), (1715, 0.0), (1716, 0.015653543274609848), (1717, 0.023862172103929657), (1718, 0.0), (1719, 0.003837694288262941), (1720, 0.0), (1721, 0.0), (1722, 0.004378852313058246), (1723, 0.0), (1724, 0.027932488416089408), (1725, 0.0), (1726, 0.0), (1727, 0.010624291763270819), (1728, 0.0), (1729, 0.0), (1730, 0.004231750566207065), (1731, 0.0), (1732, 0.0), (1733, 0.0), (1734, 0.0), (1735, 0.010590127142549827), (1736, 0.010750613059680917), (1737, 0.008727688800574203), (1738, 0.0), (1739, 0.04227400423988061), (1740, 0.00427634466760101), (1741, 0.0), (1742, 0.0), (1743, 0.0035926356068865695), (1744, 0.011888172133202334), (1745, 0.007301443981618597), (1746, 0.0), (1747, 0.04689754478499538), (1748, 0.0049163698582909195), (1749, 0.0), (1750, 0.0), (1751, 0.0), (1752, 0.019199449168284848), (1753, 0.0), (1754, 0.011021080938137492), (1755, 0.0), (1756, 0.05401117040331748), (1757, 0.008197178087055479), (1758, 0.0), (1759, 0.0), (1760, 0.003919380794495196), (1761, 0.0), (1762, 0.024937967827449916), (1763, 0.003850561454509832), (1764, 0.011166018099277534), (1765, 0.0), (1766, 0.0), (1767, 0.016037518334989585), (1768, 0.012505823307628752), (1769, 0.0), (1770, 0.0), (1771, 0.0), (1772, 0.012506285080925598), (1773, 0.0), (1774, 0.011014177577372716), (1775, 0.0), (1776, 0.00933429684409156), (1777, 0.01694804595392669), (1778, 0.0), (1779, 0.0043666117044171655), (1780, 0.01646392525181524), (1781, 0.0), (1782, 0.040187268348716595), (1783, 0.008243878066615693), (1784, 0.0), (1785, 0.0), (1786, 0.0), (1787, 0.007701890277681695), (1788, 0.0), (1789, 0.0), (1790, 0.0), (1791, 0.0), (1792, 0.0), (1793, 0.018591105784272973), (1794, 0.0), (1795, 0.0), (1796, 0.004058006300185416), (1797, 0.00942292645253625), (1798, 0.004639635040106304), (1799, 0.0), (1800, 0.0), (1801, 0.0), (1802, 0.0), (1803, 0.0), (1804, 0.0), (1805, 0.0), (1806, 0.011546627706736798), (1807, 0.0), (1808, 0.0), (1809, 0.0), (1810, 0.0), (1811, 0.0), (1812, 0.0), (1813, 0.02823440286455042), (1814, 0.0), (1815, 0.011520150903806668), (1816, 0.009030894084635716), (1817, 0.012813285367768998), (1818, 0.007748871460453747), (1819, 0.004049273179044142), (1820, 0.02222920063260768), (1821, 0.015076124669519554), (1822, 0.004642881400320537), (1823, 0.013364754667360059), (1824, 0.029826647919010192), (1825, 0.0), (1826, 0.0), (1827, 0.011468633854918371), (1828, 0.0036340662601016356), (1829, 0.0), (1830, 0.003823719130161213), (1831, 0.0), (1832, 0.010435049230761247), (1833, 0.013049188264615956), (1834, 0.0), (1835, 0.03580200214416461), (1836, 0.0), (1837, 0.0), (1838, 0.012321796103600815), (1839, 0.0), (1840, 0.015228568966230708), (1841, 0.0), (1842, 0.0), (1843, 0.0), (1844, 0.0), (1845, 0.010484026182308037), (1846, 0.008127798509062579), (1847, 0.019836000223592873), (1848, 0.03896394604691822), (1849, 0.0), (1850, 0.007258866306260161), (1851, 0.004529718518028499), (1852, 0.0), (1853, 0.015010090049578765), (1854, 0.009434716430144648), (1855, 0.0), (1856, 0.0), (1857, 0.008179654395963049), (1858, 0.010811537182581939), (1859, 0.0), (1860, 0.0), (1861, 0.007671603417778816), (1862, 0.01586566844101858), (1863, 0.0), (1864, 0.004053752381581179), (1865, 0.003859355355133631), (1866, 0.004574878963333349), (1867, 0.02190208284189359), (1868, 0.0), (1869, 0.016533644155786027), (1870, 0.0), (1871, 0.003397076630117311), (1872, 0.0), (1873, 0.0), (1874, 0.010687344993058172), (1875, 0.0038800162504325354), (1876, 0.0044698390927223886), (1877, 0.0), (1878, 0.011945272330830484), (1879, 0.0), (1880, 0.0), (1881, 0.0), (1882, 0.0042042463303678225), (1883, 0.0), (1884, 0.004007532462815917), (1885, 0.005002619421884162), (1886, 0.0034888365498887716), (1887, 0.015764286673410916), (1888, 0.0), (1889, 0.0), (1890, 0.02141508874061615), (1891, 0.01230386553165024), (1892, 0.004156878754323719), (1893, 0.004546058956830346), (1894, 0.0), (1895, 0.007741121605926024), (1896, 0.004599840580926172), (1897, 0.004617143548706272), (1898, 0.0), (1899, 0.007690401362546922), (1900, 0.0), (1901, 0.0), (1902, 0.013012827582639018), (1903, 0.0), (1904, 0.0), (1905, 0.0046135840535724846), (1906, 0.0), (1907, 0.004575220859194013), (1908, 0.0), (1909, 0.0049009451878129235), (1910, 0.0), (1911, 0.0), (1912, 0.01372601289527713), (1913, 0.008010481242351031), (1914, 0.0), (1915, 0.008268742698191675), (1916, 0.004544707060013883), (1917, 0.0), (1918, 0.07651265380203998), (1919, 0.005726793019095866), (1920, 0.016429974281938334), (1921, 0.0), (1922, 0.010215075623941928), (1923, 0.04825867006512939), (1924, 0.004715316097400462), (1925, 0.04141456003492928), (1926, 0.0), (1927, 0.0), (1928, 0.0), (1929, 0.0), (1930, 0.008613145322847685), (1931, 0.004348439473555667), (1932, 0.008793742399356359), (1933, 0.0235853230673101), (1934, 0.0038130182801746834), (1935, 0.0), (1936, 0.0760638270829741), (1937, 0.009884848005277296), (1938, 0.0), (1939, 0.0), (1940, 0.03213112799364796), (1941, 0.0), (1942, 0.014702869215788034), (1943, 0.03238360424606131), (1944, 0.0), (1945, 0.010119158904616997), (1946, 0.004432162093894893), (1947, 0.004971930726206324), (1948, 0.0), (1949, 0.010414379687225084), (1950, 0.010478083509749837), (1951, 0.004502172263194209), (1952, 0.0), (1953, 0.0), (1954, 0.007225144837367991), (1955, 0.0), (1956, 0.0), (1957, 0.0), (1958, 0.016557200150543634), (1959, 0.0), (1960, 0.004492096424785287), (1961, 0.0), (1962, 0.0), (1963, 0.02810678947101846), (1964, 0.011269402939985209), (1965, 0.0), (1966, 0.013781428119926626), (1967, 0.014479310154610422), (1968, 0.029578145805269924), (1969, 0.004240693270292103), (1970, 0.041486951463791534), (1971, 0.020078539037628098), (1972, 0.0), (1973, 0.0), (1974, 0.0), (1975, 0.0), (1976, 0.0), (1977, 0.0037941016191387735), (1978, 0.007272077976726193), (1979, 0.020802549241751598), (1980, 0.0), (1981, 0.025641669363112005), (1982, 0.012862674433995212), (1983, 0.004299926141821038), (1984, 0.0), (1985, 0.014502633727655787), (1986, 0.0), (1987, 0.007496616782996397), (1988, 0.0), (1989, 0.0034536493248037256), (1990, 0.03281652402620353), (1991, 0.0), (1992, 0.017251116179410293), (1993, 0.014014840446067597), (1994, 0.0), (1995, 0.005075175370006906), (1996, 0.0), (1997, 0.015590035620205923), (1998, 0.025452382467908437), (1999, 0.0), (2000, 0.019373208811577704), (2001, 0.0), (2002, 0.0), (2003, 0.0), (2004, 0.004044445419078414), (2005, 0.007627280121433256), (2006, 0.0), (2007, 0.007437413359938875), (2008, 0.023452231919815252), (2009, 0.0166646956446997), (2010, 0.003510507503771233), (2011, 0.0038360754477967354), (2012, 0.0), (2013, 0.006617417827563928), (2014, 0.0), (2015, 0.0), (2016, 0.06880532909945046), (2017, 0.0), (2018, 0.0), (2019, 0.013813081047933612), (2020, 0.0), (2021, 0.0), (2022, 0.006789397514489309), (2023, 0.01350748914908773), (2024, 0.014119895107285077), (2025, 0.007020015737301747), (2026, 0.03444409167316089), (2027, 0.004203086201418869), (2028, 0.0), (2029, 0.004101107102387427), (2030, 0.0), (2031, 0.003880819014829622), (2032, 0.0), (2033, 0.0), (2034, 0.010660075957598183), (2035, 0.017659345823523753), (2036, 0.0), (2037, 0.014972181310766348), (2038, 0.0), (2039, 0.0035542683877718417), (2040, 0.01539443598570044), (2041, 0.0), (2042, 0.04860055377260872), (2043, 0.007561172380291873), (2044, 0.014837926490706877), (2045, 0.004229589072004036), (2046, 0.0), (2047, 0.007138461103392754), (2048, 0.004493056464293776), (2049, 0.004781069583788415), (2050, 0.0), (2051, 0.004896747008922865), (2052, 0.0), (2053, 0.015139240366903593), (2054, 0.009630781034527636), (2055, 0.012931046551798523), (2056, 0.044486953812754124), (2057, 0.0), (2058, 0.0), (2059, 0.0), (2060, 0.0), (2061, 0.004212260265782609), (2062, 0.018330335205450642), (2063, 0.0), (2064, 0.010308482733646354), (2065, 0.012624851201136138), (2066, 0.0), (2067, 0.004505704476073878), (2068, 0.004123878655286004), (2069, 0.0041258816279239946), (2070, 0.019172128137444854), (2071, 0.0), (2072, 0.0), (2073, 0.004268023426531743), (2074, 0.0073669538534816385), (2075, 0.09959644771338362), (2076, 0.008549831979977574), (2077, 0.0), (2078, 0.006681645284789017), (2079, 0.024925334103999983), (2080, 0.010284736063538807), (2081, 0.0), (2082, 0.011259360338304982), (2083, 0.08131441688073439), (2084, 0.0), (2085, 0.0), (2086, 0.0), (2087, 0.004216319306433149), (2088, 0.0045095141779862), (2089, 0.004895386660084973), (2090, 0.0), (2091, 0.004423577985563961), (2092, 0.0), (2093, 0.04121019113638904), (2094, 0.0), (2095, 0.0), (2096, 0.004541368145019404), (2097, 0.015659291742474716), (2098, 0.0), (2099, 0.0), (2100, 0.007840445727009053), (2101, 0.0), (2102, 0.039124312485676854), (2103, 0.01777226240510193), (2104, 0.004515121259321371), (2105, 0.004468287294330884), (2106, 0.0), (2107, 0.0), (2108, 0.004771210991101193), (2109, 0.0), (2110, 0.009413966492974856), (2111, 0.0), (2112, 0.02422241994477293), (2113, 0.0), (2114, 0.007047169214450365), (2115, 0.0), (2116, 0.00468146421127274), (2117, 0.004075879211262479), (2118, 0.03766859083656199), (2119, 0.009353209717474203), (2120, 0.00825112300428833), (2121, 0.004194852979612991), (2122, 0.02911115801657067), (2123, 0.0), (2124, 0.0), (2125, 0.0), (2126, 0.010552147802962313), (2127, 0.0036127348121490813), (2128, 0.0), (2129, 0.007579174529301867), (2130, 0.008426057828291424), (2131, 0.012188774928328993), (2132, 0.01060708054174164), (2133, 0.0), (2134, 0.004929779767803135), (2135, 0.007808222928182961), (2136, 0.0), (2137, 0.0), (2138, 0.0), (2139, 0.0), (2140, 0.0), (2141, 0.0), (2142, 0.0), (2143, 0.011775969510080208), (2144, 0.004319035842821799), (2145, 0.0), (2146, 0.0), (2147, 0.008756616099848584), (2148, 0.0), (2149, 0.003976564383058781), (2150, 0.0), (2151, 0.0), (2152, 0.06677176060040318), (2153, 0.013767274039963948), (2154, 0.005138157690511958), (2155, 0.004290612725642651), (2156, 0.0), (2157, 0.0321866544650517), (2158, 0.03979211884491595), (2159, 0.004658374727626628), (2160, 0.0), (2161, 0.0), (2162, 0.004819076566204886), (2163, 0.007571176541139564), (2164, 0.0), (2165, 0.0), (2166, 0.0), (2167, 0.0), (2168, 0.0), (2169, 0.004264810936168714), (2170, 0.0), (2171, 0.0), (2172, 0.0), (2173, 0.0), (2174, 0.00416976550538347), (2175, 0.0), (2176, 0.020397553011365394), (2177, 0.0), (2178, 0.008122860908004443), (2179, 0.0), (2180, 0.0), (2181, 0.0), (2182, 0.0), (2183, 0.0), (2184, 0.0), (2185, 0.02122010484341591), (2186, 0.0), (2187, 0.009410918004269532), (2188, 0.01471606392335531), (2189, 0.0), (2190, 0.0), (2191, 0.0039029328294324732), (2192, 0.0), (2193, 0.0), (2194, 0.03804431854678632), (2195, 0.0344429028743437), (2196, 0.01946574785338981), (2197, 0.0), (2198, 0.0), (2199, 0.04531648653692895), (2200, 0.0), (2201, 0.0039584134865430845), (2202, 0.0), (2203, 0.007577594063607684), (2204, 0.0), (2205, 0.007693172135353351), (2206, 0.009730049198001639), (2207, 0.0), (2208, 0.008645689788521916), (2209, 0.0), (2210, 0.023808255943902963), (2211, 0.0036343719765444594), (2212, 0.014333620863314954), (2213, 0.0), (2214, 0.015677931827472836), (2215, 0.013710467294947935), (2216, 0.030111937066140904), (2217, 0.014274033925346654), (2218, 0.0), (2219, 0.0), (2220, 0.0), (2221, 0.011621889818476035), (2222, 0.0), (2223, 0.004668594040577796), (2224, 0.013275155469171946), (2225, 0.0), (2226, 0.004215066065808714), (2227, 0.0), (2228, 0.0), (2229, 0.0048915020946264055), (2230, 0.019135542745472557), (2231, 0.0), (2232, 0.013634893441009929), (2233, 0.0), (2234, 0.0), (2235, 0.010643495143690323), (2236, 0.0), (2237, 0.0037143874952953013), (2238, 0.0), (2239, 0.008141641407772657), (2240, 0.011210238448666147), (2241, 0.0), (2242, 0.004408197233852217), (2243, 0.0), (2244, 0.0), (2245, 0.00788874758777777), (2246, 0.0), (2247, 0.0), (2248, 0.0), (2249, 0.0), (2250, 0.05305641627799722), (2251, 0.03304500635374946), (2252, 0.0), (2253, 0.0), (2254, 0.014867249584793938), (2255, 0.005533110529621538), (2256, 0.0), (2257, 0.005500073873118547), (2258, 0.0), (2259, 0.0), (2260, 0.004780028281723183), (2261, 0.0), (2262, 0.0), (2263, 0.0), (2264, 0.04883678652086927), (2265, 0.003914672387326946), (2266, 0.005145109141331987), (2267, 0.0), (2268, 0.0), (2269, 0.01436101940121023), (2270, 0.0), (2271, 0.021434005490149774), (2272, 0.02342933400704078), (2273, 0.009545760155998798), (2274, 0.007431512360049066), (2275, 0.024450074437566367), (2276, 0.009980763506944995), (2277, 0.004442394236866847), (2278, 0.0), (2279, 0.02268268959401091), (2280, 0.00985167408966397), (2281, 0.010795762320670123), (2282, 0.0), (2283, 0.0), (2284, 0.010193654396649007), (2285, 0.0), (2286, 0.005251078201445456), (2287, 0.0191833727270801), (2288, 0.0), (2289, 0.004594924210620533), (2290, 0.0), (2291, 0.0), (2292, 0.0), (2293, 0.0), (2294, 0.0), (2295, 0.004342668867515344), (2296, 0.0), (2297, 0.0), (2298, 0.0), (2299, 0.0), (2300, 0.0), (2301, 0.0039065383607145635), (2302, 0.004824113615577318), (2303, 0.0), (2304, 0.0), (2305, 0.0), (2306, 0.0), (2307, 0.0), (2308, 0.0), (2309, 0.0), (2310, 0.0), (2311, 0.021938696229240974), (2312, 0.0), (2313, 0.04184177446565234), (2314, 0.0), (2315, 0.00754913691407255), (2316, 0.010520170631054537), (2317, 0.04480639508508456), (2318, 0.028343586829709957), (2319, 0.004413116606037613), (2320, 0.02123983556517772), (2321, 0.004295888114520308), (2322, 0.007968413857465185), (2323, 0.007219673873396371), (2324, 0.0), (2325, 0.0), (2326, 0.006975214518492451), (2327, 0.00779996405304243), (2328, 0.0), (2329, 0.0), (2330, 0.008592138101359104), (2331, 0.0071265611385947164), (2332, 0.0), (2333, 0.0), (2334, 0.023882351875940948), (2335, 0.0), (2336, 0.0), (2337, 0.014962207873296201), (2338, 0.00381627087944985), (2339, 0.0), (2340, 0.037804625852038386), (2341, 0.0), (2342, 0.0), (2343, 0.0), (2344, 0.004533104052940199), (2345, 0.0), (2346, 0.011122143073198549), (2347, 0.003982990136302466), (2348, 0.004626546347245516), (2349, 0.00582019210660857), (2350, 0.005477033010695684), (2351, 0.0), (2352, 0.061239041153296175), (2353, 0.0), (2354, 0.0), (2355, 0.015699464531800964), (2356, 0.0), (2357, 0.0), (2358, 0.06176925924829192), (2359, 0.0036338522750578), (2360, 0.012595218373027016), (2361, 0.004645582594863487), (2362, 0.004200910031302115), (2363, 0.0), (2364, 0.0), (2365, 0.03324377128888086), (2366, 0.012742650151396235), (2367, 0.003950679921266738), (2368, 0.0), (2369, 0.0), (2370, 0.0), (2371, 0.0), (2372, 0.016156478550974674), (2373, 0.0), (2374, 0.00425711364596607), (2375, 0.013471532361796299), (2376, 0.0), (2377, 0.0), (2378, 0.0), (2379, 0.005894587779119962), (2380, 0.0), (2381, 0.0), (2382, 0.012104574476118499), (2383, 0.0), (2384, 0.025921735906230186), (2385, 0.0), (2386, 0.004427357544022615), (2387, 0.0), (2388, 0.005046340950111647), (2389, 0.0), (2390, 0.004579572405382631), (2391, 0.013519721534331567), (2392, 0.0), (2393, 0.012864372072432809), (2394, 0.004659443146757864), (2395, 0.0), (2396, 0.008369412385129914), (2397, 0.012251764070672688), (2398, 0.0), (2399, 0.003891515502024108), (2400, 0.013993034778380941), (2401, 0.0), (2402, 0.012077420384730305), (2403, 0.016029056870997673), (2404, 0.0), (2405, 0.004381517822270629), (2406, 0.027030377490763216), (2407, 0.0056357606867663375), (2408, 0.0), (2409, 0.02987277312533869), (2410, 0.009285314374439297), (2411, 0.004834034615907627), (2412, 0.024378245251213793), (2413, 0.02470282733521238), (2414, 0.031762448258634834), (2415, 0.005403254084177023), (2416, 0.0), (2417, 0.0), (2418, 0.02109021132082042), (2419, 0.0), (2420, 0.0), (2421, 0.0), (2422, 0.023652766069659624), (2423, 0.005501047454904384), (2424, 0.0), (2425, 0.0), (2426, 0.0), (2427, 0.0277428168871632), (2428, 0.005081792236355823), (2429, 0.0), (2430, 0.004136190058360959), (2431, 0.0), (2432, 0.0), (2433, 0.0), (2434, 0.051582769210213854), (2435, 0.023415557741004064), (2436, 0.004678531395974108), (2437, 0.0049848083892994055), (2438, 0.005410780549821849), (2439, 0.0), (2440, 0.0), (2441, 0.0035222341513495643), (2442, 0.0), (2443, 0.002883016739815823), (2444, 0.020025039787741023), (2445, 0.007617924326185429), (2446, 0.0), (2447, 0.026540909217603326), (2448, 0.030329970011285165), (2449, 0.00847588139354513), (2450, 0.0), (2451, 0.0), (2452, 0.0), (2453, 0.0039839858316494765), (2454, 0.0), (2455, 0.0), (2456, 0.0), (2457, 0.011641405502466961), (2458, 0.01626600031174797), (2459, 0.004956802874431581), (2460, 0.007146262882120006), (2461, 0.01198857421197564), (2462, 0.02145605613513598), (2463, 0.0), (2464, 0.011915237976005518), (2465, 0.013312196153378619), (2466, 0.004408270672413833), (2467, 0.004068153852632207), (2468, 0.044708748096520715), (2469, 0.003356916803583266), (2470, 0.0), (2471, 0.0), (2472, 0.0), (2473, 0.004078944024113096), (2474, 0.003404441727016076), (2475, 0.004998458490004271), (2476, 0.0), (2477, 0.004506881654116701), (2478, 0.004847993100941622), (2479, 0.02311891974129174), (2480, 0.0), (2481, 0.0), (2482, 0.00401126009678645), (2483, 0.0), (2484, 0.031115319824221582), (2485, 0.0), (2486, 0.011601732944358319), (2487, 0.029715543381947304), (2488, 0.014982699622435567), (2489, 0.01457521854102542), (2490, 0.006037816447740816), (2491, 0.0), (2492, 0.004323487477700259), (2493, 0.025031471593464215), (2494, 0.012882995674387866), (2495, 0.0), (2496, 0.004142064856926542), (2497, 0.0), (2498, 0.0), (2499, 0.0), (2500, 0.0), (2501, 0.0), (2502, 0.023903447030340204), (2503, 0.0), (2504, 0.0), (2505, 0.0163779779563448), (2506, 0.0), (2507, 0.0), (2508, 0.0), (2509, 0.0037164393458001175), (2510, 0.0), (2511, 0.02846655036480019), (2512, 0.02973258082769041), (2513, 0.0), (2514, 0.02296982153380072), (2515, 0.0), (2516, 0.0), (2517, 0.047385474215818055), (2518, 0.0), (2519, 0.0), (2520, 0.0037848399392318276), (2521, 0.0), (2522, 0.030469895321614333), (2523, 0.0), (2524, 0.0), (2525, 0.0), (2526, 0.03404051175415571), (2527, 0.004027256485419913), (2528, 0.04518085553010624), (2529, 0.006129353714841545), (2530, 0.005239122228370779), (2531, 0.013112011841341583), (2532, 0.0), (2533, 0.0), (2534, 0.001963727013763861), (2535, 0.004999303652983814), (2536, 0.0), (2537, 0.0), (2538, 0.030669657239271515), (2539, 0.0073573061810009235), (2540, 0.00410435957694916), (2541, 0.01925117380620383), (2542, 0.0), (2543, 0.0), (2544, 0.0), (2545, 0.0), (2546, 0.010799274327060994), (2547, 0.0), (2548, 0.0), (2549, 0.01402245461223099), (2550, 0.022038646378832773), (2551, 0.0), (2552, 0.02353724417083455), (2553, 0.004099994191972295), (2554, 0.004414163536101751), (2555, 0.004655975657296077), (2556, 0.004066727306331498), (2557, 0.0), (2558, 0.004152195590789367), (2559, 0.005599233185852533), (2560, 0.004712720496097956), (2561, 0.0), (2562, 0.0), (2563, 0.003575354138851806), (2564, 0.0), (2565, 0.026287267234592893), (2566, 0.0), (2567, 0.0), (2568, 0.005823757338291356), (2569, 0.0), (2570, 0.005002421369392217), (2571, 0.0080443342313149), (2572, 0.0), (2573, 0.0), (2574, 0.0), (2575, 0.01580303214747163), (2576, 0.0), (2577, 0.0), (2578, 0.0), (2579, 0.00471306295417653), (2580, 0.011125309846690813), (2581, 0.04703328135475868), (2582, 0.0), (2583, 0.0), (2584, 0.007612923925045365), (2585, 0.0), (2586, 0.0), (2587, 0.027534052634437922), (2588, 0.014777388194027153), (2589, 0.0), (2590, 0.0), (2591, 0.003827526039611622), (2592, 0.004708760792132624), (2593, 0.004173449594342594), (2594, 0.0), (2595, 0.0), (2596, 0.0), (2597, 0.0), (2598, 0.003969472029233441), (2599, 0.0), (2600, 0.0), (2601, 0.00453417532724345), (2602, 0.012688134486675173), (2603, 0.010717050193019117), (2604, 0.0), (2605, 0.0), (2606, 0.004270730492985533), (2607, 0.013175872392367846), (2608, 0.0), (2609, 0.004451891724924728), (2610, 0.0), (2611, 0.0038410605337383065), (2612, 0.012264141168504175), (2613, 0.0), (2614, 0.008970363972408331), (2615, 0.02876381559479891), (2616, 0.0), (2617, 0.015574037562317379), (2618, 0.03446477465085559), (2619, 0.0), (2620, 0.0), (2621, 0.0036183706241844807), (2622, 0.03383056512758065), (2623, 0.004997611012421133), (2624, 0.0), (2625, 0.004881613203898164), (2626, 0.0), (2627, 0.0), (2628, 0.0), (2629, 0.004713916306625541), (2630, 0.0), (2631, 0.013169216699354409), (2632, 0.004300246660572193), (2633, 0.004498532633426754), (2634, 0.004114870110110971), (2635, 0.0), (2636, 0.0061981078691744325), (2637, 0.0), (2638, 0.01614967989807766), (2639, 0.0), (2640, 0.0), (2641, 0.0), (2642, 0.004127404983656269), (2643, 0.005741410128646798), (2644, 0.0), (2645, 0.018455696660419227), (2646, 0.0), (2647, 0.00427001004148093), (2648, 0.03362546943602884), (2649, 0.027532495368052235), (2650, 0.008568361295018383), (2651, 0.0), (2652, 0.02785870352839071), (2653, 0.004030353942935541), (2654, 0.0), (2655, 0.005783826461250799), (2656, 0.0), (2657, 0.0), (2658, 0.0), (2659, 0.0), (2660, 0.014803363007771027), (2661, 0.03905865724160678), (2662, 0.014937609251036037), (2663, 0.0), (2664, 0.0048507060467374245), (2665, 0.0), (2666, 0.0), (2667, 0.0), (2668, 0.0043573498130866995), (2669, 0.0), (2670, 0.0), (2671, 0.0063418717607229185), (2672, 0.0), (2673, 0.0), (2674, 0.004081302963777544), (2675, 0.00885784206677503), (2676, 0.0), (2677, 0.0), (2678, 0.006811353652908811), (2679, 0.0), (2680, 0.0), (2681, 0.0), (2682, 0.0), (2683, 0.0), (2684, 0.020185197373389058), (2685, 0.0), (2686, 0.0), (2687, 0.004221850359502629), (2688, 0.0), (2689, 0.0), (2690, 0.0), (2691, 0.0), (2692, 0.012499153688449187), (2693, 0.0), (2694, 0.0), (2695, 0.014385633663418728), (2696, 0.004999908700724106), (2697, 0.0035308986095747064), (2698, 0.027118678868528114), (2699, 0.007969643388482195), (2700, 0.0), (2701, 0.0), (2702, 0.004883444703005614), (2703, 0.0), (2704, 0.0), (2705, 0.004789079997872845), (2706, 0.012582550872801947), (2707, 0.0), (2708, 0.0), (2709, 0.015039391668540139), (2710, 0.0), (2711, 0.015633937394052642), (2712, 0.00448013648748602), (2713, 0.0), (2714, 0.0375755539788272), (2715, 0.0), (2716, 0.0041635429179612115), (2717, 0.0), (2718, 0.03302195454089128), (2719, 0.0), (2720, 0.02525894118438652), (2721, 0.0), (2722, 0.0), (2723, 0.0), (2724, 0.003810648369039273), (2725, 0.0), (2726, 0.0), (2727, 0.01227925668705166), (2728, 0.007875444929503919), (2729, 0.0), (2730, 0.0), (2731, 0.005635718267232802), (2732, 0.0), (2733, 0.0), (2734, 0.0066631668548594895), (2735, 0.0), (2736, 0.018371961029889434), (2737, 0.0), (2738, 0.0), (2739, 0.04393281539980743), (2740, 0.004902286058172521), (2741, 0.003933117633471867), (2742, 0.009203499912972583), (2743, 0.004037666283597942), (2744, 0.004355431756449778), (2745, 0.0042712010523385325), (2746, 0.004327389478714315), (2747, 0.0038466881370916865), (2748, 0.005007934602821926), (2749, 0.007360560221201825), (2750, 0.0), (2751, 0.009456828685226982), (2752, 0.009845247203251358), (2753, 0.0), (2754, 0.01569164592043185), (2755, 0.004670569597647724), (2756, 0.00998359270118528), (2757, 0.11094518927851886), (2758, 0.0035623585791035523), (2759, 0.0), (2760, 0.01290206928482115), (2761, 0.020041725720849037), (2762, 0.0), (2763, 0.0), (2764, 0.0059403891171407475), (2765, 0.0), (2766, 0.003392787162847866), (2767, 0.003357169847952071), (2768, 0.00585656451077208), (2769, 0.004906959125537059), (2770, 0.01770138819021893), (2771, 0.003829655806262764), (2772, 0.005043030668484804), (2773, 0.0), (2774, 0.0), (2775, 0.005712885648647574), (2776, 0.004513862742311519), (2777, 0.021805735364077716), (2778, 0.005170302650777688), (2779, 0.0041704099910562864), (2780, 0.010685379486471011), (2781, 0.009936353402620498), (2782, 0.004653492110898262), (2783, 0.0), (2784, 0.014296119796154045), (2785, 0.022806403992760058), (2786, 0.016729409643917392), (2787, 0.0), (2788, 0.0), (2789, 0.0), (2790, 0.008714134876361336), (2791, 0.009616456581347778), (2792, 0.0), (2793, 0.0), (2794, 0.0), (2795, 0.01847070608636759), (2796, 0.004983576406717638), (2797, 0.005325269620290951), (2798, 0.013110340937530211), (2799, 0.0), (2800, 0.003989799520309287), (2801, 0.0), (2802, 0.00421354200796934), (2803, 0.00392918590155665), (2804, 0.0), (2805, 0.0), (2806, 0.022160348257359765), (2807, 0.0), (2808, 0.05725295738150595), (2809, 0.008870801412788992), (2810, 0.0), (2811, 0.014977793731041987), (2812, 0.004264767145786295), (2813, 0.014095189627472011), (2814, 0.0), (2815, 0.0), (2816, 0.0), (2817, 0.023578249335752886), (2818, 0.0), (2819, 0.0), (2820, 0.0), (2821, 0.004562803087082905), (2822, 0.007205015338161459), (2823, 0.0), (2824, 0.0), (2825, 0.0), (2826, 0.013719486186397593), (2827, 0.0), (2828, 0.0), (2829, 0.0), (2830, 0.0257723957560925), (2831, 0.017967597671442695), (2832, 0.0058746568808238754), (2833, 0.0), (2834, 0.005152965028830855), (2835, 0.0), (2836, 0.0), (2837, 0.0), (2838, 0.005293953904726246), (2839, 0.0), (2840, 0.00473012183882622), (2841, 0.023636740300397262), (2842, 0.007098008853124707), (2843, 0.0), (2844, 0.003479823106445052), (2845, 0.011318618748910256), (2846, 0.016429822396519144), (2847, 0.0), (2848, 0.005084340950749543), (2849, 0.011343669251796872), (2850, 0.0), (2851, 0.009954246689121385), (2852, 0.0), (2853, 0.0), (2854, 0.029071523218177985), (2855, 0.0), (2856, 0.0), (2857, 0.014750053593860807), (2858, 0.0), (2859, 0.022514091023765052), (2860, 0.0), (2861, 0.0), (2862, 0.004009591111800226), (2863, 0.0), (2864, 0.0), (2865, 0.0), (2866, 0.0), (2867, 0.0), (2868, 0.018150415187624804), (2869, 0.0), (2870, 0.005928405243672762), (2871, 0.022609959270911396), (2872, 0.004990449658116558), (2873, 0.0), (2874, 0.009124419459539807), (2875, 0.0), (2876, 0.0036516714485290694), (2877, 0.014015218710929265), (2878, 0.00437733541604989), (2879, 0.005226325892125781), (2880, 0.0), (2881, 0.00487739457758826), (2882, 0.0), (2883, 0.005725339032993837), (2884, 0.00947655293046695), (2885, 0.0), (2886, 0.013973312199725106), (2887, 0.004279582065830129), (2888, 0.08965002442677439), (2889, 0.005674720312271175), (2890, 0.0051159319892027395), (2891, 0.0), (2892, 0.011889192673833135), (2893, 0.004783210527372764), (2894, 0.004443752148502982), (2895, 0.0), (2896, 0.0), (2897, 0.009752572478541326), (2898, 0.0), (2899, 0.003977144238775061), (2900, 0.0), (2901, 0.005600599110696406), (2902, 0.0), (2903, 0.015896570996115345), (2904, 0.018480513652267036), (2905, 0.0), (2906, 0.0), (2907, 0.004115795241190569), (2908, 0.011442626968355935), (2909, 0.0), (2910, 0.014816877431251891), (2911, 0.0045211551205850495), (2912, 0.0), (2913, 0.00872783586997171), (2914, 0.0049861768525713964), (2915, 0.004736042663288639), (2916, 0.004941280686886451), (2917, 0.0034113433049539365), (2918, 0.009906487660743788), (2919, 0.039418071434308796), (2920, 0.003964408428961532), (2921, 0.00917206764196858), (2922, 0.0), (2923, 0.0), (2924, 0.00479838402465278), (2925, 0.011622065203090507), (2926, 0.00450558977999725), (2927, 0.0), (2928, 0.0), (2929, 0.007432142713551823), (2930, 0.0), (2931, 0.027994994339293755), (2932, 0.01893709163315872), (2933, 0.011023343446952702), (2934, 0.014641019554072411), (2935, 0.0), (2936, 0.0), (2937, 0.01983252181281191), (2938, 0.0), (2939, 0.012047238716898952), (2940, 0.0), (2941, 0.0), (2942, 0.017123450471701666), (2943, 0.0047549963546285705), (2944, 0.01024196082071754), (2945, 0.004200124767755249), (2946, 0.004284662603266551), (2947, 0.0), (2948, 0.0), (2949, 0.014711967879181661), (2950, 0.0), (2951, 0.0), (2952, 0.010112230578340873), (2953, 0.0), (2954, 0.0), (2955, 0.0), (2956, 0.03971450669680565), (2957, 0.0), (2958, 0.029365400709948617), (2959, 0.0), (2960, 0.0), (2961, 0.014374451104941345), (2962, 0.0), (2963, 0.008745646868249173), (2964, 0.0), (2965, 0.012258420965972749), (2966, 0.005294669027850915), (2967, 0.0), (2968, 0.047401510168090376), (2969, 0.01557434566278354), (2970, 0.0), (2971, 0.0), (2972, 0.004271245847925987), (2973, 0.0), (2974, 0.0048742000504762425), (2975, 0.011005160503548123), (2976, 0.003758457208006837), (2977, 0.004326527638812238), (2978, 0.010670759101401894), (2979, 0.0), (2980, 0.004205394419566778), (2981, 0.01818227766325096), (2982, 0.009305545144654296), (2983, 0.0), (2984, 0.0), (2985, 0.006951911130687535), (2986, 0.0049880102075541945), (2987, 0.0), (2988, 0.046272084764586635), (2989, 0.052771755078120784), (2990, 0.0), (2991, 0.025416965151200375), (2992, 0.0), (2993, 0.0), (2994, 0.0), (2995, 0.0041083639966571425), (2996, 0.014990901979922243), (2997, 0.0), (2998, 0.0061127827957648), (2999, 0.004512390037539976), (3000, 0.0), (3001, 0.009180868992797967), (3002, 0.0), (3003, 0.0), (3004, 0.005071514011898592), (3005, 0.0), (3006, 0.025351901499462863), (3007, 0.0), (3008, 0.0), (3009, 0.0), (3010, 0.03050882992209744), (3011, 0.007988072664231901), (3012, 0.0050507125646460024), (3013, 0.00462317852002733), (3014, 0.01747918129594286), (3015, 0.005446798237634558), (3016, 0.0), (3017, 0.0), (3018, 0.00838071621255255), (3019, 0.017223104974130113), (3020, 0.0), (3021, 0.013074967410520017), (3022, 0.0), (3023, 0.0), (3024, 0.003571379162296249), (3025, 0.01773147840598962), (3026, 0.015442928007402724), (3027, 0.0039091403790936), (3028, 0.004025386053465946), (3029, 0.0), (3030, 0.0), (3031, 0.0), (3032, 0.00483905782086278), (3033, 0.0), (3034, 0.019903354027610325), (3035, 0.0), (3036, 0.004267115049228765), (3037, 0.004671825479481983), (3038, 0.0), (3039, 0.0), (3040, 0.08419512406732997), (3041, 0.0), (3042, 0.0), (3043, 0.015756484552478515), (3044, 0.02062029938032548), (3045, 0.0), (3046, 0.0), (3047, 0.0), (3048, 0.0), (3049, 0.0), (3050, 0.004096609487449356), (3051, 0.005901119259514064), (3052, 0.0), (3053, 0.0), (3054, 0.0), (3055, 0.0), (3056, 0.02969134238074582), (3057, 0.0), (3058, 0.0), (3059, 0.0), (3060, 0.016800861493999224), (3061, 0.0), (3062, 0.0049550118758773295), (3063, 0.014751404039397802), (3064, 0.0), (3065, 0.003787199230684741), (3066, 0.0), (3067, 0.004252946299361815), (3068, 0.0), (3069, 0.026869979767147386), (3070, 0.00922841413370723), (3071, 0.019284815092739938), (3072, 0.0051236050293285455), (3073, 0.0), (3074, 0.005384312783411562), (3075, 0.004496372940508359), (3076, 0.0055691070890919675), (3077, 0.0), (3078, 0.0), (3079, 0.0), (3080, 0.0), (3081, 0.005245956980016107), (3082, 0.007364288864847071), (3083, 0.0), (3084, 0.014609033198577748), (3085, 0.0), (3086, 0.023748072241373108), (3087, 0.02492859573861086), (3088, 0.0), (3089, 0.0), (3090, 0.008189779118711599), (3091, 0.0035468551135700733), (3092, 0.0), (3093, 0.0), (3094, 0.004895972736608242), (3095, 0.010541054874252023), (3096, 0.0036908124630852593), (3097, 0.004526772742933085), (3098, 0.0), (3099, 0.016752355254472336), (3100, 0.0), (3101, 0.0), (3102, 0.0), (3103, 0.0), (3104, 0.0), (3105, 0.0), (3106, 0.0), (3107, 0.0), (3108, 0.0037707784791930765), (3109, 0.009198334282467238), (3110, 0.010867064586630192), (3111, 0.0037254962297414863), (3112, 0.004614494703960219), (3113, 0.0), (3114, 0.0), (3115, 0.0), (3116, 0.004739275129721135), (3117, 0.00922119891704755), (3118, 0.009783906020112674), (3119, 0.013829902806532865), (3120, 0.016760820353261402), (3121, 0.008008216873494275), (3122, 0.004204040824442251), (3123, 0.005060423100138989), (3124, 0.0), (3125, 0.004351461460952443), (3126, 0.0), (3127, 0.0), (3128, 0.0), (3129, 0.0), (3130, 0.0), (3131, 0.0), (3132, 0.0), (3133, 0.007764968073564124), (3134, 0.0), (3135, 0.0), (3136, 0.0), (3137, 0.003823032876711762), (3138, 0.0), (3139, 0.0), (3140, 0.0054863731792458474), (3141, 0.0), (3142, 0.025066712493793608), (3143, 0.0), (3144, 0.006503536192492471), (3145, 0.042668526729076936), (3146, 0.004677650784585686), (3147, 0.01163236786748759), (3148, 0.004785348944162566), (3149, 0.06776220142903976), (3150, 0.0), (3151, 0.004176941151931515), (3152, 0.003471825276631268), (3153, 0.01294517238312723), (3154, 0.06822660572513616), (3155, 0.01025424433602745), (3156, 0.0), (3157, 0.0), (3158, 0.03371111025249715), (3159, 0.0), (3160, 0.012538445412993066), (3161, 0.03514485411440486), (3162, 0.0), (3163, 0.0), (3164, 0.0), (3165, 0.005038559226457098), (3166, 0.005736310759229301), (3167, 0.028503849732053686), (3168, 0.030325550510787187), (3169, 0.019710088962084236), (3170, 0.004211138551038817), (3171, 0.014081918855367605), (3172, 0.0), (3173, 0.0), (3174, 0.03781210844208443), (3175, 0.0), (3176, 0.0), (3177, 0.013303038670833444), (3178, 0.0065504727426112346), (3179, 0.03819904646293912), (3180, 0.0), (3181, 0.014877541888187743), (3182, 0.004351317424851724), (3183, 0.00462792974130409), (3184, 0.004422914629977418), (3185, 0.0), (3186, 0.0), (3187, 0.004661579695020861), (3188, 0.00831143058392873), (3189, 0.008756216366908228), (3190, 0.0), (3191, 0.0), (3192, 0.010966202421906034), (3193, 0.0), (3194, 0.004073655596639229), (3195, 0.004179670320881931), (3196, 0.004715462161973514), (3197, 0.0), (3198, 0.004615488956149818), (3199, 0.00994040180186256), (3200, 0.003640505255534067), (3201, 0.0), (3202, 0.0), (3203, 0.0), (3204, 0.0), (3205, 0.0), (3206, 0.0), (3207, 0.0), (3208, 0.008736953168672248), (3209, 0.00854410590744827), (3210, 0.015215893533924617), (3211, 0.0), (3212, 0.0), (3213, 0.021055796035472918), (3214, 0.004395648468214029), (3215, 0.014325744279405299), (3216, 0.0), (3217, 0.0), (3218, 0.03175868368969313), (3219, 0.016311512524909106), (3220, 0.004097126880593329), (3221, 0.015644637118368807), (3222, 0.0), (3223, 0.01523475319182208), (3224, 0.0), (3225, 0.0), (3226, 0.025439138344654968), (3227, 0.00443737231232397), (3228, 0.004979647118624698), (3229, 0.0), (3230, 0.0), (3231, 0.0), (3232, 0.017307014505557217), (3233, 0.004422319247916124), (3234, 0.039160675556101844), (3235, 0.004569434640422756), (3236, 0.0), (3237, 0.012380388175384744), (3238, 0.0), (3239, 0.0), (3240, 0.004041604967258954), (3241, 0.004403597085549341), (3242, 0.008613708095768129), (3243, 0.043967575566124954), (3244, 0.007560146114744852), (3245, 0.010508255069530877), (3246, 0.007824081928970567), (3247, 0.0074970833128182755), (3248, 0.004880523639454569), (3249, 0.030846758207359583), (3250, 0.0), (3251, 0.0), (3252, 0.0), (3253, 0.0), (3254, 0.010896873079769142), (3255, 0.0), (3256, 0.0), (3257, 0.005999381861912553), (3258, 0.0048559519074443894), (3259, 0.01943775868117579), (3260, 0.008077248157278586), (3261, 0.0), (3262, 0.0058589452305769394), (3263, 0.0), (3264, 0.0), (3265, 0.014146565227157265), (3266, 0.0), (3267, 0.009324116850822317), (3268, 0.0042719930515188334), (3269, 0.008786111464728335), (3270, 0.0), (3271, 0.0), (3272, 0.0421625210473879), (3273, 0.004648470877168276), (3274, 0.09234469354779991), (3275, 0.0176328865596184), (3276, 0.006161405706697855), (3277, 0.0), (3278, 0.004014475595948375), (3279, 0.012096019596834024), (3280, 0.0), (3281, 0.0156086328491587), (3282, 0.005288998281755944), (3283, 0.014569753028993765), (3284, 0.0038957791421774805), (3285, 0.03352641461275605), (3286, 0.0), (3287, 0.0), (3288, 0.0), (3289, 0.008424449257010554), (3290, 0.0), (3291, 0.006096792227325409), (3292, 0.01850916884939867), (3293, 0.004066526795520245), (3294, 0.0), (3295, 0.0), (3296, 0.004893495756157031), (3297, 0.028581025248468526), (3298, 0.040056173062592924), (3299, 0.0), (3300, 0.011883857449434534), (3301, 0.003625139400502185), (3302, 0.005050344806900307), (3303, 0.02127562772711643), (3304, 0.0038651628003477565), (3305, 0.014193121911233215), (3306, 0.01839197025078797), (3307, 0.0), (3308, 0.0049654423615662505), (3309, 0.0), (3310, 0.0), (3311, 0.003947388171525165), (3312, 0.011316922889623897), (3313, 0.027600268692962133), (3314, 0.004458778703834311), (3315, 0.012284920482480404), (3316, 0.0033316478892058297), (3317, 0.04153567899049717), (3318, 0.011362846544979783), (3319, 0.0), (3320, 0.0), (3321, 0.00837884782895841), (3322, 0.0), (3323, 0.0), (3324, 0.0), (3325, 0.006946297440635714), (3326, 0.029092704010115312), (3327, 0.011188789460319988), (3328, 0.0027852158759333694), (3329, 0.0), (3330, 0.012630870443801921), (3331, 0.0036963525915345487), (3332, 0.0754444906873565), (3333, 0.0), (3334, 0.010494806254776624), (3335, 0.0), (3336, 0.0), (3337, 0.022446208260551746), (3338, 0.0), (3339, 0.0), (3340, 0.0), (3341, 0.0), (3342, 0.011683213272993691), (3343, 0.03467995705497518), (3344, 0.003579940022672682), (3345, 0.0), (3346, 0.00426158876849978), (3347, 0.0036036318507724815), (3348, 0.00835952701054398), (3349, 0.0045240318257742055), (3350, 0.0), (3351, 0.0), (3352, 0.004046089602090315), (3353, 0.0044633873807561385), (3354, 0.0), (3355, 0.0217453641607956), (3356, 0.006373408457058001), (3357, 0.005077787054432552), (3358, 0.0), (3359, 0.005067293319828315), (3360, 0.003751365711994414), (3361, 0.0), (3362, 0.0), (3363, 0.02885918088068343), (3364, 0.04179457274722187), (3365, 0.00307091630321559), (3366, 0.0), (3367, 0.018962903782089646), (3368, 0.0), (3369, 0.0), (3370, 0.04471593899933836), (3371, 0.02296071144752864), (3372, 0.0), (3373, 0.011084263644569702), (3374, 0.03578364078153552), (3375, 0.02515246613556344), (3376, 0.0), (3377, 0.011687374054290404), (3378, 0.0), (3379, 0.004092212492422434), (3380, 0.003813324654399402), (3381, 0.0), (3382, 0.010351069170182886), (3383, 0.0), (3384, 0.022288644268465992), (3385, 0.0), (3386, 0.01895910905108155), (3387, 0.0), (3388, 0.013023579997270615), (3389, 0.04575262798902643), (3390, 0.008037488451132868), (3391, 0.004730935339107059), (3392, 0.03315365231294161), (3393, 0.0037472435495192967), (3394, 0.0274905423097728), (3395, 0.021797182487042332), (3396, 0.0), (3397, 0.0), (3398, 0.0), (3399, 0.004041396152972724), (3400, 0.0), (3401, 0.0), (3402, 0.004203022282928163), (3403, 0.02141200838436295), (3404, 0.0), (3405, 0.0), (3406, 0.004570235864555087), (3407, 0.004098610732168594), (3408, 0.004673899209292518), (3409, 0.003686987218022021), (3410, 0.0), (3411, 0.0), (3412, 0.0), (3413, 0.004979516810078626), (3414, 0.015663837611119235), (3415, 0.0), (3416, 0.013925871306075506), (3417, 0.004698393622397535), (3418, 0.008990890001669893), (3419, 0.0), (3420, 0.0), (3421, 0.00597559658617237), (3422, 0.014234156689625207), (3423, 0.022768100775942), (3424, 0.0), (3425, 0.004818558554405255), (3426, 0.0), (3427, 0.008295347386627277), (3428, 0.0), (3429, 0.0), (3430, 0.0), (3431, 0.0), (3432, 0.0), (3433, 0.004120269232379499), (3434, 0.0), (3435, 0.004258616290856485), (3436, 0.004298713870550266), (3437, 0.015177295428717052), (3438, 0.0), (3439, 0.018894524760550306), (3440, 0.0), (3441, 0.013975338146509137), (3442, 0.0), (3443, 0.0), (3444, 0.0), (3445, 0.004283953986980926), (3446, 0.0), (3447, 0.00400480271331332), (3448, 0.0), (3449, 0.004477838326799504), (3450, 0.027401611211041718), (3451, 0.0), (3452, 0.0), (3453, 0.011529687917403499), (3454, 0.0), (3455, 0.0), (3456, 0.005696410532939735), (3457, 0.0), (3458, 0.0060455255510801), (3459, 0.0), (3460, 0.044096261959626945), (3461, 0.026741798846788636), (3462, 0.0), (3463, 0.0), (3464, 0.0), (3465, 0.009519682063846801), (3466, 0.0), (3467, 0.0), (3468, 0.0), (3469, 0.0), (3470, 0.0), (3471, 0.0036609018930752754), (3472, 0.0), (3473, 0.0), (3474, 0.003820622106576323), (3475, 0.021061887849250442), (3476, 0.0), (3477, 0.03710175990976274), (3478, 0.0), (3479, 0.005545261575179857), (3480, 0.0), (3481, 0.0), (3482, 0.0), (3483, 0.014695085846515738), (3484, 0.007425563901320611), (3485, 0.0), (3486, 0.0), (3487, 0.004150086618868469), (3488, 0.026343787391874103), (3489, 0.0), (3490, 0.0), (3491, 0.0), (3492, 0.023600797257711054), (3493, 0.004489071450679584), (3494, 0.0), (3495, 0.0), (3496, 0.004476242019658409), (3497, 0.009382508208950141), (3498, 0.004122772625908971), (3499, 0.0), (3500, 0.004222974027128423), (3501, 0.004454164652353132), (3502, 0.0), (3503, 0.00399990706485413), (3504, 0.013608708370153405), (3505, 0.0), (3506, 0.014160865504373048), (3507, 0.0), (3508, 0.0), (3509, 0.0), (3510, 0.0), (3511, 0.004497498078219894), (3512, 0.006925541338454181), (3513, 0.0), (3514, 0.0), (3515, 0.0), (3516, 0.01290460591136608), (3517, 0.01952274862694317), (3518, 0.0), (3519, 0.0), (3520, 0.0), (3521, 0.0051333504526546), (3522, 0.0), (3523, 0.0), (3524, 0.004867190468169959), (3525, 0.02026488989920895), (3526, 0.004383353469429024), (3527, 0.004568794999889385), (3528, 0.0), (3529, 0.0), (3530, 0.0), (3531, 0.0), (3532, 0.0), (3533, 0.0), (3534, 0.0035687972223417755), (3535, 0.01205289459290773), (3536, 0.0), (3537, 0.0), (3538, 0.0), (3539, 0.014365033535558184), (3540, 0.0), (3541, 0.004255301780021706), (3542, 0.004368312111348815), (3543, 0.0), (3544, 0.0), (3545, 0.0), (3546, 0.0032101457637243617), (3547, 0.016184829995146803), (3548, 0.0), (3549, 0.0), (3550, 0.0), (3551, 0.004402206412407997), (3552, 0.006783834379081612), (3553, 0.014687387341798825), (3554, 0.03728678595164908), (3555, 0.0), (3556, 0.05558670997515717), (3557, 0.004190988288714109), (3558, 0.00409142325211911), (3559, 0.0), (3560, 0.0048484002834503145), (3561, 0.0), (3562, 0.0), (3563, 0.019367296602479364), (3564, 0.012830040982570297), (3565, 0.0), (3566, 0.0), (3567, 0.0), (3568, 0.0), (3569, 0.0037990762105078756), (3570, 0.0), (3571, 0.004301286365164914), (3572, 0.0), (3573, 0.0), (3574, 0.0), (3575, 0.0036750765092977387), (3576, 0.0), (3577, 0.021667117542928598), (3578, 0.0), (3579, 0.011367818364006797), (3580, 0.013693511132599765), (3581, 0.0), (3582, 0.009743838835394765), (3583, 0.0), (3584, 0.0), (3585, 0.01973263330108449), (3586, 0.010749911891792956), (3587, 0.0), (3588, 0.0), (3589, 0.033732521674366425), (3590, 0.004868637992455586), (3591, 0.03721296918777779), (3592, 0.0), (3593, 0.034357886817133844), (3594, 0.02805773914904379), (3595, 0.0), (3596, 0.008642037580206001), (3597, 0.0), (3598, 0.0), (3599, 0.0), (3600, 0.0), (3601, 0.004663486026245094), (3602, 0.03212868822046773), (3603, 0.0), (3604, 0.0), (3605, 0.0), (3606, 0.0), (3607, 0.0), (3608, 0.0), (3609, 0.0), (3610, 0.009699767957805541), (3611, 0.0), (3612, 0.015061385331170317), (3613, 0.005404618524549434), (3614, 0.03885738831778947), (3615, 0.0), (3616, 0.0), (3617, 0.0), (3618, 0.004700366142163192), (3619, 0.0), (3620, 0.005185941569812841), (3621, 0.0), (3622, 0.0), (3623, 0.004450555372922345), (3624, 0.018858159030882844), (3625, 0.0), (3626, 0.016207279272723637), (3627, 0.013235643132495624), (3628, 0.0), (3629, 0.0), (3630, 0.0), (3631, 0.0), (3632, 0.0), (3633, 0.023407725417677064), (3634, 0.09127355970657164), (3635, 0.005675591119323982), (3636, 0.0), (3637, 0.012813398862769542), (3638, 0.022014669632911755), (3639, 0.004747308660053565), (3640, 0.0047751487027889615), (3641, 0.0042039667604591435), (3642, 0.01901731049297774), (3643, 0.0044200602691357085), (3644, 0.0), (3645, 0.011885732711606242), (3646, 0.012005003882742494), (3647, 0.0), (3648, 0.0), (3649, 0.0), (3650, 0.0), (3651, 0.015834477913852424), (3652, 0.011300374647239434), (3653, 0.036217006027538336), (3654, 0.00443788907626404), (3655, 0.039916970535616464), (3656, 0.03249324556673987), (3657, 0.0037281152593143774), (3658, 0.007016777957632731), (3659, 0.04845850013106698), (3660, 0.004050505161710133), (3661, 0.0), (3662, 0.0), (3663, 0.0), (3664, 0.046073683129106535), (3665, 0.0), (3666, 0.03715613186476747), (3667, 0.012872119693635768), (3668, 0.0), (3669, 0.0039962108863398176), (3670, 0.010222476875544449), (3671, 0.0), (3672, 0.0), (3673, 0.004296296023436763), (3674, 0.01203509005236079), (3675, 0.017570327543800564), (3676, 0.0), (3677, 0.0), (3678, 0.0), (3679, 0.0), (3680, 0.004919361544438901), (3681, 0.0), (3682, 0.0), (3683, 0.02422439513539705), (3684, 0.027211409827910246), (3685, 0.008145512650366626), (3686, 0.0), (3687, 0.0), (3688, 0.0), (3689, 0.00438251141978243), (3690, 0.02400629608357153), (3691, 0.0), (3692, 0.004596729116746653), (3693, 0.0), (3694, 0.0155871251577959), (3695, 0.0), (3696, 0.0041094939892595125), (3697, 0.0), (3698, 0.0), (3699, 0.02536098029515558), (3700, 0.0), (3701, 0.0), (3702, 0.0), (3703, 0.0), (3704, 0.004608458664152047), (3705, 0.0039138012181867835), (3706, 0.004098827143908054), (3707, 0.004338882260396919), (3708, 0.011821842513258735), (3709, 0.0), (3710, 0.0), (3711, 0.009097627285520098), (3712, 0.0), (3713, 0.0), (3714, 0.0), (3715, 0.0), (3716, 0.0), (3717, 0.0), (3718, 0.007662940144211663), (3719, 0.0), (3720, 0.031087331905153323), (3721, 0.0), (3722, 0.0), (3723, 0.0), (3724, 0.0), (3725, 0.0), (3726, 0.05692647582818326), (3727, 0.004321972884128235), (3728, 0.03704382570314131), (3729, 0.0), (3730, 0.0), (3731, 0.03904994143254016), (3732, 0.03795340311814607), (3733, 0.0), (3734, 0.004110334068347979), (3735, 0.0), (3736, 0.0), (3737, 0.0), (3738, 0.0), (3739, 0.012340549606076185), (3740, 0.016803451403553642), (3741, 0.041868689968728674), (3742, 0.016650064964667134), (3743, 0.0), (3744, 0.0), (3745, 0.004912766130696038), (3746, 0.0), (3747, 0.0), (3748, 0.0), (3749, 0.00464330084785885), (3750, 0.00608285596777366), (3751, 0.025205218597629503), (3752, 0.0), (3753, 0.0), (3754, 0.004855062671834742), (3755, 0.003910581833907249), (3756, 0.01203483112369664), (3757, 0.0), (3758, 0.0), (3759, 0.0), (3760, 0.0), (3761, 0.0), (3762, 0.0), (3763, 0.005265079423561038), (3764, 0.0), (3765, 0.004391579945621429), (3766, 0.005300748037145143), (3767, 0.003822328717552407), (3768, 0.0), (3769, 0.019735990209698354), (3770, 0.0), (3771, 0.004512918418110867), (3772, 0.021469127536775618), (3773, 0.0), (3774, 0.00899978986987002), (3775, 0.0), (3776, 0.0), (3777, 0.029692822562030943), (3778, 0.004363020434013362), (3779, 0.0), (3780, 0.013574471094496532), (3781, 0.0), (3782, 0.0), (3783, 0.0), (3784, 0.004188111970824759), (3785, 0.0), (3786, 0.0), (3787, 0.0), (3788, 0.0), (3789, 0.0), (3790, 0.02321923747578124), (3791, 0.0), (3792, 0.008364257320466409), (3793, 0.0), (3794, 0.009523084368008543), (3795, 0.0), (3796, 0.0), (3797, 0.0047027164037440556), (3798, 0.0), (3799, 0.004287013441176857), (3800, 0.0), (3801, 0.025774215726608644), (3802, 0.0), (3803, 0.0), (3804, 0.0), (3805, 0.0), (3806, 0.0), (3807, 0.012644458406415733), (3808, 0.028639129075283577), (3809, 0.004417475195278181), (3810, 0.0), (3811, 0.00420518824732747), (3812, 0.0088730243669988), (3813, 0.013712921363609982), (3814, 0.0), (3815, 0.0), (3816, 0.0), (3817, 0.0), (3818, 0.0), (3819, 0.012120845047827462), (3820, 0.0), (3821, 0.0), (3822, 0.025348017533090184), (3823, 0.0), (3824, 0.0), (3825, 0.0), (3826, 0.004053607934884873), (3827, 0.004775511638329802), (3828, 0.01777263577170478), (3829, 0.003914894836632001), (3830, 0.008667005729526795), (3831, 0.02782313908591726), (3832, 0.005334225819953412), (3833, 0.0), (3834, 0.0), (3835, 0.0027938896047692034), (3836, 0.0), (3837, 0.0), (3838, 0.0), (3839, 0.0038710886839444254), (3840, 0.0), (3841, 0.0), (3842, 0.009326773759408607), (3843, 0.013089611540452944), (3844, 0.0), (3845, 0.00456280933556354), (3846, 0.0), (3847, 0.0), (3848, 0.032363423316465745), (3849, 0.008550258697326682), (3850, 0.020330808772983315), (3851, 0.0), (3852, 0.0), (3853, 0.029375875350465402), (3854, 0.013299478225709108), (3855, 0.010580048728615149), (3856, 0.0), (3857, 0.0), (3858, 0.0), (3859, 0.0), (3860, 0.00915986060841087), (3861, 0.0), (3862, 0.015493809093426836), (3863, 0.0), (3864, 0.0), (3865, 0.0), (3866, 0.004966713904718164), (3867, 0.04373690262971088), (3868, 0.05688880335063075), (3869, 0.0), (3870, 0.0), (3871, 0.0), (3872, 0.0), (3873, 0.004642527858106905), (3874, 0.0), (3875, 0.003482660678766357), (3876, 0.012390605733020251), (3877, 0.0), (3878, 0.0), (3879, 0.0), (3880, 0.003836032927577468), (3881, 0.0), (3882, 0.00432771435504496), (3883, 0.0048299904480125005), (3884, 0.01602994664586448), (3885, 0.0), (3886, 0.013507258583433258), (3887, 0.0), (3888, 0.02385727244068505), (3889, 0.0), (3890, 0.004204173382900827), (3891, 0.018626261038304125), (3892, 0.005446570287417421), (3893, 0.004733264413201891), (3894, 0.0), (3895, 0.0037413550709393755), (3896, 0.0), (3897, 0.0), (3898, 0.004098321425474719), (3899, 0.0), (3900, 0.004285706595244797), (3901, 0.005142365853345065), (3902, 0.004660707476423068), (3903, 0.004876447856595935), (3904, 0.004590342474929529), (3905, 0.0), (3906, 0.0), (3907, 0.0), (3908, 0.0), (3909, 0.0), (3910, 0.003935532398893683), (3911, 0.027374000415909785), (3912, 0.008039505798932665), (3913, 0.003852686596072928), (3914, 0.0), (3915, 0.004596546776629033), (3916, 0.0), (3917, 0.004315471071381365), (3918, 0.0), (3919, 0.004542269269351273), (3920, 0.004634241977134586), (3921, 0.0), (3922, 0.0055125135486218104), (3923, 0.0), (3924, 0.01553088677635362), (3925, 0.006284123823879305), (3926, 0.008228907817071387), (3927, 0.003649493395119118), (3928, 0.0037577157959199597), (3929, 0.0), (3930, 0.0), (3931, 0.02295456151073714), (3932, 0.007916458014692264), (3933, 0.0), (3934, 0.0), (3935, 0.0), (3936, 0.0), (3937, 0.0), (3938, 0.0), (3939, 0.0), (3940, 0.0), (3941, 0.009232229174297774), (3942, 0.0), (3943, 0.0), (3944, 0.0), (3945, 0.0), (3946, 0.008142458845515824), (3947, 0.011886423131986772), (3948, 0.0), (3949, 0.0), (3950, 0.0), (3951, 0.023061250231780246), (3952, 0.005068468884584959), (3953, 0.00411543315945078), (3954, 0.003959672599831388), (3955, 0.03156462514966002), (3956, 0.0038356027295180038), (3957, 0.0), (3958, 0.0), (3959, 0.015256046599839843), (3960, 0.03984102791161611), (3961, 0.038412602264186295), (3962, 0.004794789450889938), (3963, 0.0), (3964, 0.0), (3965, 0.0), (3966, 0.008160198103482846), (3967, 0.0), (3968, 0.0), (3969, 0.0), (3970, 0.0), (3971, 0.0), (3972, 0.0), (3973, 0.024669892208007332), (3974, 0.011826155566751793), (3975, 0.017534257605623105), (3976, 0.0), (3977, 0.0), (3978, 0.02000006555657796), (3979, 0.0), (3980, 0.0), (3981, 0.0), (3982, 0.023106473702875212), (3983, 0.009671395964799146), (3984, 0.004682576643300453), (3985, 0.007904265029842959), (3986, 0.0), (3987, 0.0), (3988, 0.0), (3989, 0.0), (3990, 0.005713990257297352), (3991, 0.0), (3992, 0.016338175677098464), (3993, 0.016996111077040275), (3994, 0.0), (3995, 0.0), (3996, 0.0), (3997, 0.0), (3998, 0.0), (3999, 0.0), (4000, 0.010160675391557735), (4001, 0.0), (4002, 0.0), (4003, 0.015080599204024749), (4004, 0.035543697531261506), (4005, 0.030989913268364876), (4006, 0.0), (4007, 0.0), (4008, 0.014737889814636194), (4009, 0.0), (4010, 0.0), (4011, 0.04206528538746001), (4012, 0.0), (4013, 0.0), (4014, 0.004608696420751988), (4015, 0.0), (4016, 0.004363243029019281), (4017, 0.0), (4018, 0.0), (4019, 0.0), (4020, 0.004159877679119376), (4021, 0.0), (4022, 0.013385522761638893), (4023, 0.036684912951934316), (4024, 0.004652917828810333), (4025, 0.004366265964729363), (4026, 0.0), (4027, 0.0), (4028, 0.0), (4029, 0.0), (4030, 0.0), (4031, 0.02158923633693466), (4032, 0.0), (4033, 0.01313840226509589), (4034, 0.0), (4035, 0.00801381635445898), (4036, 0.004209131139876226), (4037, 0.0), (4038, 0.004488587605827735), (4039, 0.0), (4040, 0.0), (4041, 0.0), (4042, 0.0), (4043, 0.0), (4044, 0.0), (4045, 0.008594526524183872), (4046, 0.004554638414985767), (4047, 0.0), (4048, 0.011410245783951172), (4049, 0.0), (4050, 0.0), (4051, 0.004866674443425328), (4052, 0.0), (4053, 0.004221344765424384), (4054, 0.004359190837626892), (4055, 0.0), (4056, 0.004401267099147449), (4057, 0.0), (4058, 0.0), (4059, 0.027001205908662354), (4060, 0.023116342018036126), (4061, 0.0), (4062, 0.0), (4063, 0.0), (4064, 0.0), (4065, 0.0), (4066, 0.003867072509780817), (4067, 0.03687732165411809), (4068, 0.014226459742037801), (4069, 0.004115949904076155), (4070, 0.0), (4071, 0.0), (4072, 0.0), (4073, 0.008227963796392788), (4074, 0.003784661397625813), (4075, 0.0), (4076, 0.0), (4077, 0.0), (4078, 0.0), (4079, 0.004589191712084322), (4080, 0.0), (4081, 0.013892993787279052), (4082, 0.006077114630303321), (4083, 0.0), (4084, 0.0), (4085, 0.004071940537906783), (4086, 0.009438313919914714), (4087, 0.004771859908312741), (4088, 0.020245844226877335), (4089, 0.008386849980488857), (4090, 0.0), (4091, 0.0), (4092, 0.004787403496274587), (4093, 0.0), (4094, 0.0), (4095, 0.012192992570246856), (4096, 0.008683255084175702), (4097, 0.008923183073021387), (4098, 0.004653685789572816), (4099, 0.0), (4100, 0.0), (4101, 0.004720646712188967), (4102, 0.0), (4103, 0.0), (4104, 0.0), (4105, 0.0), (4106, 0.0), (4107, 0.0), (4108, 0.014922396910022416), (4109, 0.007448372292541059), (4110, 0.007881791225237963), (4111, 0.004611928326621124), (4112, 0.0), (4113, 0.004685072172298097), (4114, 0.035945323777160115), (4115, 0.0), (4116, 0.00465970529148091), (4117, 0.005044173829994139), (4118, 0.011288510328223852), (4119, 0.0), (4120, 0.0), (4121, 0.039633584695615134), (4122, 0.0), (4123, 0.0045232319669385734), (4124, 0.023997911234914127), (4125, 0.0), (4126, 0.0), (4127, 0.0), (4128, 0.029577066809163832), (4129, 0.0), (4130, 0.03996464706318274), (4131, 0.0), (4132, 0.0), (4133, 0.004763885958827536), (4134, 0.0), (4135, 0.004257632800589175), (4136, 0.0), (4137, 0.012319278223931725), (4138, 0.004698278027971286), (4139, 0.0), (4140, 0.0), (4141, 0.022116439858830425), (4142, 0.0), (4143, 0.0038671222282100114), (4144, 0.01254647354761325), (4145, 0.0), (4146, 0.0), (4147, 0.0), (4148, 0.04475900246242949), (4149, 0.0), (4150, 0.0), (4151, 0.0036986093988563107), (4152, 0.012033839967623552), (4153, 0.0), (4154, 0.004065348731534298), (4155, 0.007747020817652847), (4156, 0.0036678825679162057), (4157, 0.0), (4158, 0.016745709861411984), (4159, 0.03877052639501831), (4160, 0.0048002594170863675), (4161, 0.0), (4162, 0.0), (4163, 0.005193297851757147), (4164, 0.00911739141458954), (4165, 0.009224509628808969), (4166, 0.0), (4167, 0.0), (4168, 0.0), (4169, 0.017432010688553882), (4170, 0.0), (4171, 0.008965107116648106), (4172, 0.0), (4173, 0.008786456282478629), (4174, 0.007720895044615072), (4175, 0.0), (4176, 0.017046744738501925), (4177, 0.0), (4178, 0.004341078149473411), (4179, 0.0), (4180, 0.0), (4181, 0.0), (4182, 0.02242287699959216), (4183, 0.0042092407875723185), (4184, 0.0), (4185, 0.0), (4186, 0.007635401584871999), (4187, 0.013708992718700685), (4188, 0.0), (4189, 0.0412098060630917), (4190, 0.0), (4191, 0.0), (4192, 0.013604915733595421), (4193, 0.0), (4194, 0.0), (4195, 0.0), (4196, 0.0), (4197, 0.008038135532135542), (4198, 0.0), (4199, 0.010445466680169), (4200, 0.017021865899317683), (4201, 0.0), (4202, 0.050813363664025196), (4203, 0.020683776581659683), (4204, 0.0), (4205, 0.004059482954844595), (4206, 0.0), (4207, 0.009205741590009838), (4208, 0.0), (4209, 0.0), (4210, 0.0), (4211, 0.0), (4212, 0.0), (4213, 0.0), (4214, 0.0), (4215, 0.016811907109669125), (4216, 0.04079043608117756), (4217, 0.026935616827917907), (4218, 0.008287663186895985), (4219, 0.0), (4220, 0.0), (4221, 0.0), (4222, 0.0), (4223, 0.0), (4224, 0.0), (4225, 0.0), (4226, 0.0), (4227, 0.04519263365282499), (4228, 0.0), (4229, 0.0), (4230, 0.0), (4231, 0.015225871877875469), (4232, 0.008892716222388604), (4233, 0.010550027519065797), (4234, 0.0), (4235, 0.009768427847671696), (4236, 0.0), (4237, 0.0), (4238, 0.0), (4239, 0.0), (4240, 0.008920033906333112), (4241, 0.0), (4242, 0.012346507714700623), (4243, 0.005118557013410334), (4244, 0.005023459679688342), (4245, 0.0), (4246, 0.01916485892472285), (4247, 0.011092776703053767), (4248, 0.0), (4249, 0.0045830371171636936), (4250, 0.0), (4251, 0.0), (4252, 0.03079265601537376), (4253, 0.0), (4254, 0.0), (4255, 0.004297653174777286), (4256, 0.03706659061074217), (4257, 0.004006871555624066), (4258, 0.0), (4259, 0.004579127299913706), (4260, 0.0), (4261, 0.007447630965306742), (4262, 0.017327107481958398), (4263, 0.026524917600951367), (4264, 0.0), (4265, 0.0), (4266, 0.004319390408821984), (4267, 0.027062151706861826), (4268, 0.014255902024711622), (4269, 0.004867020807368036), (4270, 0.0), (4271, 0.01158063857345056), (4272, 0.0), (4273, 0.0), (4274, 0.007812161249981346), (4275, 0.0), (4276, 0.0), (4277, 0.007674213884466398), (4278, 0.0), (4279, 0.0), (4280, 0.0), (4281, 0.0), (4282, 0.004022442746008043), (4283, 0.004243332619827609), (4284, 0.004326784191235233), (4285, 0.0), (4286, 0.05336387776581684), (4287, 0.01281395892925718), (4288, 0.01934435223723207), (4289, 0.0), (4290, 0.0), (4291, 0.026621389790836923), (4292, 0.0), (4293, 0.004946482420209362), (4294, 0.0), (4295, 0.03387557404757857), (4296, 0.0), (4297, 0.0), (4298, 0.0), (4299, 0.0223468116528368), (4300, 0.0), (4301, 0.0), (4302, 0.0), (4303, 0.0), (4304, 0.0), (4305, 0.0), (4306, 0.0), (4307, 0.0), (4308, 0.0), (4309, 0.004168367236457553), (4310, 0.008142780943152697), (4311, 0.05576998764139752), (4312, 0.0), (4313, 0.0), (4314, 0.0), (4315, 0.0), (4316, 0.0), (4317, 0.0), (4318, 0.0), (4319, 0.0), (4320, 0.0), (4321, 0.011770612732287852), (4322, 0.0), (4323, 0.0), (4324, 0.0), (4325, 0.009394692363169643), (4326, 0.0), (4327, 0.0), (4328, 0.0), (4329, 0.06237118687608939), (4330, 0.004629072267388022), (4331, 0.0), (4332, 0.0), (4333, 0.014574886303477207), (4334, 0.004358738574281151), (4335, 0.011209256255070407), (4336, 0.0044015477874687296), (4337, 0.0), (4338, 0.0), (4339, 0.0), (4340, 0.0), (4341, 0.0), (4342, 0.0), (4343, 0.0), (4344, 0.003649771579333252), (4345, 0.004108666320297598), (4346, 0.0), (4347, 0.0), (4348, 0.0), (4349, 0.0), (4350, 0.003926917612771146), (4351, 0.0), (4352, 0.0), (4353, 0.007301754007139867), (4354, 0.0), (4355, 0.0), (4356, 0.012056034863540394), (4357, 0.004521766231509657), (4358, 0.0), (4359, 0.0), (4360, 0.0), (4361, 0.0), (4362, 0.004197338581277145), (4363, 0.0), (4364, 0.0), (4365, 0.0), (4366, 0.01647968574855912), (4367, 0.0), (4368, 0.031590305894711804), (4369, 0.0048511702815270015), (4370, 0.0), (4371, 0.004529091021663471), (4372, 0.0), (4373, 0.0), (4374, 0.034358573842212733), (4375, 0.0), (4376, 0.0), (4377, 0.014537968409781164), (4378, 0.0), (4379, 0.04818723301663491), (4380, 0.02015428134968001), (4381, 0.0), (4382, 0.004033631416228428), (4383, 0.0), (4384, 0.0), (4385, 0.0), (4386, 0.0), (4387, 0.01391839409139855), (4388, 0.008291775182692846), (4389, 0.0), (4390, 0.0), (4391, 0.0441474783101894), (4392, 0.0), (4393, 0.0), (4394, 0.004136179335193238), (4395, 0.0), (4396, 0.0), (4397, 0.0), (4398, 0.0), (4399, 0.01563615350527155), (4400, 0.0), (4401, 0.038441241859017025), (4402, 0.003918997934397442), (4403, 0.01773342650658245), (4404, 0.0324321900843021), (4405, 0.0), (4406, 0.0), (4407, 0.010678921543626332), (4408, 0.0), (4409, 0.0), (4410, 0.03999329024820399), (4411, 0.0037144838273884258), (4412, 0.005003590699986591), (4413, 0.0), (4414, 0.0), (4415, 0.0), (4416, 0.0), (4417, 0.0), (4418, 0.0), (4419, 0.004578831676174781), (4420, 0.0044127930621253265), (4421, 0.0), (4422, 0.0044786962027162005), (4423, 0.0), (4424, 0.0), (4425, 0.0), (4426, 0.0), (4427, 0.041811834380822976), (4428, 0.0), (4429, 0.003867921457181307), (4430, 0.004506344259504951), (4431, 0.0), (4432, 0.0036946704925464634), (4433, 0.0), (4434, 0.03945889019935043), (4435, 0.025099766110341266), (4436, 0.01077173284337634), (4437, 0.007645641814173607), (4438, 0.008081930605382173), (4439, 0.0), (4440, 0.0), (4441, 0.0), (4442, 0.00969578530961199), (4443, 0.005097441273677385), (4444, 0.005611206531463915), (4445, 0.012671496338079498), (4446, 0.004441422375319097), (4447, 0.0), (4448, 0.020280067357284604), (4449, 0.0), (4450, 0.009377079267032426), (4451, 0.0), (4452, 0.0), (4453, 0.021995861559020412), (4454, 0.0), (4455, 0.0), (4456, 0.0), (4457, 0.0), (4458, 0.0), (4459, 0.0), (4460, 0.009283896356981422), (4461, 0.0), (4462, 0.0), (4463, 0.0), (4464, 0.0), (4465, 0.046873857263950325), (4466, 0.0), (4467, 0.0), (4468, 0.007382279095122172), (4469, 0.012678788908104682), (4470, 0.0044767384539266585), (4471, 0.0), (4472, 0.011882920547268064), (4473, 0.011649959715958433), (4474, 0.0104429239677729), (4475, 0.01397891197290774), (4476, 0.0), (4477, 0.005111681038246909), (4478, 0.02062606122967754), (4479, 0.003992004935972209), (4480, 0.0), (4481, 0.00969524898586988), (4482, 0.0), (4483, 0.0), (4484, 0.0055265727956795765), (4485, 0.016587338326101743), (4486, 0.0), (4487, 0.0907972880892646), (4488, 0.0), (4489, 0.0045375113064038694), (4490, 0.005168273332057334), (4491, 0.0), (4492, 0.0), (4493, 0.0), (4494, 0.004795700424285777), (4495, 0.0), (4496, 0.0), (4497, 0.017812434825719002), (4498, 0.0), (4499, 0.0), (4500, 0.0), (4501, 0.004483610645478553), (4502, 0.01347918200514809), (4503, 0.02228878159787475), (4504, 0.013759300289578422), (4505, 0.0), (4506, 0.0), (4507, 0.004703496322962226), (4508, 0.0), (4509, 0.0), (4510, 0.025097640677078044), (4511, 0.00420478977461332), (4512, 0.01111339801222087), (4513, 0.0), (4514, 0.0), (4515, 0.008970808442461373), (4516, 0.004915688608089918), (4517, 0.0045163090162982575), (4518, 0.0), (4519, 0.0), (4520, 0.00459299830391767), (4521, 0.0051834967727919295), (4522, 0.004860960957797632), (4523, 0.003984609269000891), (4524, 0.0), (4525, 0.0), (4526, 0.0), (4527, 0.0), (4528, 0.004649696574409026), (4529, 0.0), (4530, 0.004165295563420833), (4531, 0.010867933570125849), (4532, 0.0), (4533, 0.0043447804061997886), (4534, 0.0), (4535, 0.00476143503012132), (4536, 0.0040608706554827135), (4537, 0.0), (4538, 0.0), (4539, 0.0), (4540, 0.0), (4541, 0.0), (4542, 0.04392226852482362), (4543, 0.0), (4544, 0.0), (4545, 0.015241075058017074), (4546, 0.005478286953310761), (4547, 0.0), (4548, 0.0), (4549, 0.0), (4550, 0.0), (4551, 0.015099763302495909), (4552, 0.0), (4553, 0.009452812220490698), (4554, 0.027275616260479533), (4555, 0.006516819783714213), (4556, 0.014811836796936), (4557, 0.010502576664943532), (4558, 0.0), (4559, 0.0), (4560, 0.0), (4561, 0.0), (4562, 0.018151118131889032), (4563, 0.004353173235245709), (4564, 0.0), (4565, 0.0), (4566, 0.004426807981013049), (4567, 0.0), (4568, 0.0), (4569, 0.007778203617187824), (4570, 0.0), (4571, 0.006480630582181227), (4572, 0.0), (4573, 0.004441381796906061), (4574, 0.008692308084234908), (4575, 0.004805058124342553), (4576, 0.0), (4577, 0.0), (4578, 0.0), (4579, 0.0), (4580, 0.0), (4581, 0.042029429358972956), (4582, 0.0), (4583, 0.0), (4584, 0.016805140696311484), (4585, 0.0), (4586, 0.0), (4587, 0.01634589127887108), (4588, 0.0), (4589, 0.004992355739263964), (4590, 0.011001466109613589), (4591, 0.004067324208324084), (4592, 0.0), (4593, 0.004744940866292871), (4594, 0.005108968414738802), (4595, 0.0), (4596, 0.0), (4597, 0.0), (4598, 0.006813079002565609), (4599, 0.026784550436091917), (4600, 0.007975993216690942), (4601, 0.004529334170869814), (4602, 0.0), (4603, 0.004373090750418022), (4604, 0.0), (4605, 0.0), (4606, 0.0), (4607, 0.0), (4608, 0.0), (4609, 0.0), (4610, 0.012043414840606084), (4611, 0.0), (4612, 0.0), (4613, 0.0), (4614, 0.0), (4615, 0.0), (4616, 0.0), (4617, 0.005751022787987219), (4618, 0.0), (4619, 0.005099029867268418), (4620, 0.0), (4621, 0.0), (4622, 0.0), (4623, 0.009877601320928773), (4624, 0.004674390666186287), (4625, 0.004639965930166843), (4626, 0.0036634962271534766), (4627, 0.0), (4628, 0.026103117024154073), (4629, 0.004478876947394249), (4630, 0.0), (4631, 0.0), (4632, 0.005040792089608792), (4633, 0.0), (4634, 0.0), (4635, 0.0), (4636, 0.003719370273782715), (4637, 0.005267570039846812), (4638, 0.00398801057093495), (4639, 0.008758747495343295), (4640, 0.004254741478661322), (4641, 0.04988494665590426), (4642, 0.0), (4643, 0.004551932393777139), (4644, 0.0), (4645, 0.0), (4646, 0.0), (4647, 0.0), (4648, 0.020730146728716172), (4649, 0.0), (4650, 0.004796889735561565), (4651, 0.0), (4652, 0.0), (4653, 0.0), (4654, 0.0), (4655, 0.0), (4656, 0.011055626361511533), (4657, 0.039962152961885676), (4658, 0.013592378126342307), (4659, 0.008829178717420828), (4660, 0.005187216465792404), (4661, 0.0), (4662, 0.0), (4663, 0.0), (4664, 0.029273324672933226), (4665, 0.0), (4666, 0.0), (4667, 0.0), (4668, 0.004395833119520463), (4669, 0.030495849858220334), (4670, 0.004192812470806082), (4671, 0.0), (4672, 0.0), (4673, 0.01382473748068079), (4674, 0.0034404739095237774), (4675, 0.0), (4676, 0.0), (4677, 0.0), (4678, 0.0), (4679, 0.026340838697662825), (4680, 0.0), (4681, 0.0), (4682, 0.01887833139957981), (4683, 0.0), (4684, 0.05475982882377811), (4685, 0.0), (4686, 0.0), (4687, 0.0), (4688, 0.0), (4689, 0.0), (4690, 0.0), (4691, 0.0), (4692, 0.0), (4693, 0.0), (4694, 0.0), (4695, 0.0), (4696, 0.018867897778306768), (4697, 0.0), (4698, 0.0), (4699, 0.004724695766805245), (4700, 0.0), (4701, 0.004928494639709393), (4702, 0.0), (4703, 0.0), (4704, 0.0), (4705, 0.0), (4706, 0.0049484611577181835), (4707, 0.0), (4708, 0.008329000960120053), (4709, 0.0), (4710, 0.03152369658378836), (4711, 0.0), (4712, 0.016840582566753054), (4713, 0.004917314727870983), (4714, 0.0), (4715, 0.0), (4716, 0.0), (4717, 0.0), (4718, 0.004861299003084309), (4719, 0.0), (4720, 0.0), (4721, 0.0), (4722, 0.004555081773970111), (4723, 0.005399526746021609), (4724, 0.011915371377518809), (4725, 0.01123030778021838), (4726, 0.03371801252927389), (4727, 0.011207526601111809), (4728, 0.0), (4729, 0.0), (4730, 0.0), (4731, 0.004999797130893737), (4732, 0.0), (4733, 0.003736803131286737), (4734, 0.004695629143337485), (4735, 0.011636761962724203), (4736, 0.038606444448651495), (4737, 0.0), (4738, 0.0), (4739, 0.025987692798404287), (4740, 0.0), (4741, 0.0), (4742, 0.0), (4743, 0.0), (4744, 0.0), (4745, 0.0), (4746, 0.0), (4747, 0.011350728697269228), (4748, 0.0), (4749, 0.0), (4750, 0.0), (4751, 0.0), (4752, 0.008951351016272773), (4753, 0.0), (4754, 0.0), (4755, 0.0), (4756, 0.016960110464048887), (4757, 0.008857143589492113), (4758, 0.0), (4759, 0.0)]\n"
          ]
        }
      ]
    },
    {
      "cell_type": "code",
      "source": [
        "len(recommadation_score)"
      ],
      "metadata": {
        "colab": {
          "base_uri": "https://localhost:8080/"
        },
        "id": "BSFN7NcIS8fd",
        "outputId": "85a3b30a-f904-4255-d7e5-92a46ceaad56"
      },
      "execution_count": 43,
      "outputs": [
        {
          "output_type": "execute_result",
          "data": {
            "text/plain": [
              "4760"
            ]
          },
          "metadata": {},
          "execution_count": 43
        }
      ]
    },
    {
      "cell_type": "markdown",
      "source": [
        "# Get all Movies Sort Based on Recommendation Score wrt Favourite Movie"
      ],
      "metadata": {
        "id": "oOWPdvucgtq9"
      }
    },
    {
      "cell_type": "code",
      "source": [
        "#sorting the movies based on their similarity score\n",
        "sorted_recommadation_score=sorted(recommadation_score,key=lambda x:x[1],reverse=True)"
      ],
      "metadata": {
        "id": "z6c0WwO5UTCz"
      },
      "execution_count": 45,
      "outputs": []
    },
    {
      "cell_type": "code",
      "source": [
        "print(sorted_recommadation_score)"
      ],
      "metadata": {
        "colab": {
          "base_uri": "https://localhost:8080/"
        },
        "id": "SnGKJgJqUTGk",
        "outputId": "0ae18236-b694-47fc-aec0-cc92689d9ef1"
      },
      "execution_count": 46,
      "outputs": [
        {
          "output_type": "stream",
          "name": "stdout",
          "text": [
            "[(5, 1.0000000000000004), (624, 0.1196350678867274), (2757, 0.11094518927851886), (206, 0.10288902246793165), (2075, 0.09959644771338362), (3274, 0.09234469354779991), (3634, 0.09127355970657164), (4487, 0.0907972880892646), (2888, 0.08965002442677439), (3040, 0.08419512406732997), (2083, 0.08131441688073439), (786, 0.08126314512784663), (1918, 0.07651265380203998), (547, 0.0762681746302645), (1936, 0.0760638270829741), (646, 0.07603699004553506), (793, 0.07571336387292826), (3332, 0.0754444906873565), (629, 0.07542695737058164), (117, 0.07524429432508427), (1200, 0.07501113297890151), (1387, 0.07307583450714766), (692, 0.07129154572805596), (115, 0.06888020477313872), (2016, 0.06880532909945046), (1034, 0.06863267422012885), (3154, 0.06822660572513616), (3149, 0.06776220142903976), (1071, 0.06712114424713941), (2152, 0.06677176060040318), (53, 0.0664381690718951), (197, 0.06641313227447736), (1492, 0.06374045227147104), (4329, 0.06237118687608939), (97, 0.06183338772461607), (2358, 0.06176925924829192), (2352, 0.061239041153296175), (946, 0.06064357192893606), (1541, 0.05919045178218552), (188, 0.05777491287687424), (2808, 0.05725295738150595), (73, 0.05696477143945325), (3726, 0.05692647582818326), (3868, 0.05688880335063075), (904, 0.05618628611209414), (4311, 0.05576998764139752), (3556, 0.05558670997515717), (847, 0.05508672295046911), (4684, 0.05475982882377811), (1534, 0.05451853974947085), (210, 0.054238928012980456), (1756, 0.05401117040331748), (166, 0.05396934596432521), (4286, 0.05336387776581684), (2250, 0.05305641627799722), (2989, 0.052771755078120784), (1463, 0.05274534123287859), (1128, 0.052357242315705356), (2434, 0.051582769210213854), (193, 0.05094464156174214), (4202, 0.050813363664025196), (4641, 0.04988494665590426), (606, 0.0494093040976053), (1683, 0.04933169168820321), (667, 0.04908616757607932), (2264, 0.04883678652086927), (1026, 0.048783426401980606), (2042, 0.04860055377260872), (3659, 0.04845850013106698), (1923, 0.04825867006512939), (25, 0.04824275793552135), (4379, 0.04818723301663491), (2968, 0.047401510168090376), (2517, 0.047385474215818055), (2581, 0.04703328135475868), (721, 0.04702771606567094), (1747, 0.04689754478499538), (4465, 0.046873857263950325), (854, 0.04655534389732636), (1592, 0.04630897199451761), (2988, 0.046272084764586635), (3664, 0.046073683129106535), (3389, 0.04575262798902643), (2199, 0.04531648653692895), (4227, 0.04519263365282499), (2528, 0.04518085553010624), (2317, 0.04480639508508456), (4148, 0.04475900246242949), (3370, 0.04471593899933836), (2468, 0.044708748096520715), (2056, 0.044486953812754124), (487, 0.04435780911053409), (4391, 0.0441474783101894), (3460, 0.044096261959626945), (690, 0.04408285722151781), (3243, 0.043967575566124954), (2739, 0.04393281539980743), (4542, 0.04392226852482362), (1130, 0.04391399812585213), (3867, 0.04373690262971088), (1643, 0.04345341487685879), (434, 0.04304247878280224), (871, 0.043020100140521295), (457, 0.04273240527457928), (3145, 0.042668526729076936), (1554, 0.042577849430683795), (1424, 0.04254135450657859), (1739, 0.04227400423988061), (3272, 0.0421625210473879), (4011, 0.04206528538746001), (4581, 0.042029429358972956), (3741, 0.041868689968728674), (2313, 0.04184177446565234), (4427, 0.041811834380822976), (3364, 0.04179457274722187), (3317, 0.04153567899049717), (1970, 0.041486951463791534), (1925, 0.04141456003492928), (2093, 0.04121019113638904), (4189, 0.0412098060630917), (205, 0.041057949839235046), (4216, 0.04079043608117756), (401, 0.04076466362118529), (1076, 0.04075927435996522), (3, 0.04051011558857279), (1232, 0.04024008595143951), (1782, 0.040187268348716595), (1410, 0.040180491071134354), (3298, 0.040056173062592924), (739, 0.0400154043688735), (4410, 0.03999329024820399), (1202, 0.03998044113922228), (4130, 0.03996464706318274), (4657, 0.039962152961885676), (3655, 0.039916970535616464), (3960, 0.03984102791161611), (2158, 0.03979211884491595), (2956, 0.03971450669680565), (4121, 0.039633584695615134), (4434, 0.03945889019935043), (2919, 0.039418071434308796), (96, 0.03933069600284039), (1428, 0.03922688446101648), (3234, 0.039160675556101844), (2102, 0.039124312485676854), (204, 0.03910305826818799), (2661, 0.03905865724160678), (3731, 0.03904994143254016), (1848, 0.03896394604691822), (3614, 0.03885738831778947), (4159, 0.03877052639501831), (1304, 0.03876812108394577), (621, 0.03868375064308052), (4736, 0.038606444448651495), (4401, 0.038441241859017025), (3961, 0.038412602264186295), (848, 0.03823534761053557), (3179, 0.03819904646293912), (2194, 0.03804431854678632), (3732, 0.03795340311814607), (3174, 0.03781210844208443), (2340, 0.037804625852038386), (1703, 0.03769693886466037), (2118, 0.03766859083656199), (781, 0.03762005135157568), (2714, 0.0375755539788272), (513, 0.03754979902389005), (105, 0.037425867666104576), (3554, 0.03728678595164908), (3591, 0.03721296918777779), (3666, 0.03715613186476747), (3477, 0.03710175990976274), (4256, 0.03706659061074217), (3728, 0.03704382570314131), (687, 0.036926780672671966), (4067, 0.03687732165411809), (4023, 0.036684912951934316), (1015, 0.03662722523375448), (1565, 0.03652083819326352), (790, 0.03650360526273734), (580, 0.03639790524734171), (685, 0.036307120638355374), (452, 0.036283793079876316), (3653, 0.036217006027538336), (4114, 0.035945323777160115), (1835, 0.03580200214416461), (3374, 0.03578364078153552), (377, 0.03578046181158991), (83, 0.035666840450355106), (4004, 0.035543697531261506), (1351, 0.0355394546075342), (237, 0.035462925812332756), (1028, 0.03529990929655766), (3161, 0.03514485411440486), (317, 0.03493250019306323), (3343, 0.03467995705497518), (277, 0.034621076633660146), (243, 0.03450804344075316), (887, 0.0344810209068767), (2618, 0.03446477465085559), (2026, 0.03444409167316089), (2195, 0.0344429028743437), (502, 0.034422240452885944), (84, 0.03440907836150169), (4374, 0.034358573842212733), (3593, 0.034357886817133844), (343, 0.03430228974093134), (812, 0.03426704981423326), (651, 0.03424183841783728), (1283, 0.034112868215191446), (2526, 0.03404051175415571), (929, 0.03393056848069374), (1419, 0.03388180494136926), (4295, 0.03387557404757857), (2622, 0.03383056512758065), (1160, 0.033773985122124595), (3589, 0.033732521674366425), (4726, 0.03371801252927389), (3158, 0.03371111025249715), (978, 0.03368985588991062), (2648, 0.03362546943602884), (111, 0.03362218483476283), (1053, 0.03353098378251527), (3285, 0.03352641461275605), (814, 0.033500259026265966), (500, 0.03342575610839282), (11, 0.03325626920688279), (2365, 0.03324377128888086), (3392, 0.03315365231294161), (2251, 0.03304500635374946), (2718, 0.03302195454089128), (121, 0.03300457603706058), (822, 0.03286027766318439), (1990, 0.03281652402620353), (530, 0.03263228928898645), (465, 0.03253512238525424), (3656, 0.03249324556673987), (4404, 0.0324321900843021), (1943, 0.03238360424606131), (3848, 0.032363423316465745), (1660, 0.03222288475329834), (2157, 0.0321866544650517), (1940, 0.03213112799364796), (3602, 0.03212868822046773), (889, 0.03207463089143103), (807, 0.03197118651141246), (1082, 0.031854267018578825), (246, 0.03185208721064699), (622, 0.0318444129279889), (1216, 0.031818102120681445), (1444, 0.03179729413816367), (2414, 0.031762448258634834), (3218, 0.03175868368969313), (28, 0.031620598202795044), (4368, 0.031590305894711804), (381, 0.03157469778079354), (3955, 0.03156462514966002), (226, 0.03156218735567935), (617, 0.03154820020553389), (4710, 0.03152369658378836), (321, 0.031283318108776034), (211, 0.031118604100058834), (2484, 0.031115319824221582), (718, 0.031108858268777583), (3720, 0.031087331905153323), (4005, 0.030989913268364876), (59, 0.030939056770767887), (572, 0.030876970684569415), (3249, 0.030846758207359583), (840, 0.03079368186539925), (4252, 0.03079265601537376), (1022, 0.03073104802337895), (2538, 0.030669657239271515), (3010, 0.03050882992209744), (4669, 0.030495849858220334), (2522, 0.030469895321614333), (2448, 0.030329970011285165), (329, 0.030325936720838463), (3168, 0.030325550510787187), (335, 0.03028349526193343), (1255, 0.030247750371614583), (2216, 0.030111937066140904), (588, 0.030039027009146693), (659, 0.029938075949865226), (2409, 0.02987277312533869), (1824, 0.029826647919010192), (2512, 0.02973258082769041), (2487, 0.029715543381947304), (3777, 0.029692822562030943), (3056, 0.02969134238074582), (1968, 0.029578145805269924), (4128, 0.029577066809163832), (1533, 0.02957476351122614), (1347, 0.029573071939593472), (3853, 0.029375875350465402), (2958, 0.029365400709948617), (991, 0.02933404465157971), (4664, 0.029273324672933226), (2122, 0.02911115801657067), (1018, 0.02910880167424125), (3326, 0.029092704010115312), (575, 0.029072207367732503), (2854, 0.029071523218177985), (1587, 0.029022558315666053), (399, 0.02898104097893229), (3363, 0.02885918088068343), (1036, 0.02879728904189306), (2615, 0.02876381559479891), (216, 0.028717338312086914), (3808, 0.028639129075283577), (3297, 0.028581025248468526), (3167, 0.028503849732053686), (2511, 0.02846655036480019), (2318, 0.028343586829709957), (1813, 0.02823440286455042), (760, 0.0282308273606711), (391, 0.02813003243457849), (1963, 0.02810678947101846), (3594, 0.02805773914904379), (2931, 0.027994994339293755), (1724, 0.027932488416089408), (1354, 0.027871910509283317), (1153, 0.027861378744350046), (2652, 0.02785870352839071), (3831, 0.02782313908591726), (2427, 0.0277428168871632), (1292, 0.027710142275196317), (1653, 0.027620512436777014), (3313, 0.027600268692962133), (253, 0.027535888641129772), (2587, 0.027534052634437922), (2649, 0.027532495368052235), (1498, 0.02749628030810289), (3394, 0.0274905423097728), (1306, 0.027468949275248632), (3450, 0.027401611211041718), (92, 0.02739258604764535), (641, 0.027382687363845717), (3911, 0.027374000415909785), (4554, 0.027275616260479533), (1693, 0.027242712308365027), (3684, 0.027211409827910246), (2698, 0.027118678868528114), (1236, 0.0270658004572086), (4267, 0.027062151706861826), (1408, 0.02703527668472383), (2406, 0.027030377490763216), (4059, 0.027001205908662354), (349, 0.02698190046817899), (4217, 0.026935616827917907), (982, 0.026900805739379204), (3069, 0.026869979767147386), (662, 0.026861734567485515), (4599, 0.026784550436091917), (3461, 0.026741798846788636), (1279, 0.02662905166721189), (4291, 0.026621389790836923), (2447, 0.026540909217603326), (4263, 0.026524917600951367), (1470, 0.026432617454627202), (3488, 0.026343787391874103), (4679, 0.026340838697662825), (141, 0.02629091909050029), (2565, 0.026287267234592893), (344, 0.02627726193946269), (43, 0.02624639556332754), (1706, 0.026179505661697754), (4628, 0.026103117024154073), (4739, 0.025987692798404287), (2384, 0.025921735906230186), (68, 0.02588299786177685), (663, 0.02585809904501321), (1044, 0.025796767371962348), (3801, 0.025774215726608644), (2830, 0.0257723957560925), (1528, 0.025672844218016667), (1981, 0.025641669363112005), (283, 0.02558401164676905), (1146, 0.025465029538618074), (1998, 0.025452382467908437), (3226, 0.025439138344654968), (2991, 0.025416965151200375), (1092, 0.025395912780544136), (3699, 0.02536098029515558), (3006, 0.025351901499462863), (3822, 0.025348017533090184), (2720, 0.02525894118438652), (3751, 0.025205218597629503), (440, 0.025182196733954804), (3375, 0.02515246613556344), (1679, 0.025109313574570045), (4435, 0.025099766110341266), (4510, 0.025097640677078044), (3142, 0.025066712493793608), (2493, 0.025031471593464215), (1285, 0.02495253635823499), (1762, 0.024937967827449916), (3087, 0.02492859573861086), (2079, 0.024925334103999983), (1119, 0.02490608517932566), (392, 0.024777098654073845), (856, 0.024744529477479314), (1185, 0.024703518357872455), (2413, 0.02470282733521238), (3973, 0.024669892208007332), (1205, 0.024663078441062917), (474, 0.02462125843243517), (717, 0.024572521793498784), (483, 0.02451261894337379), (2275, 0.024450074437566367), (72, 0.02443070081509202), (1263, 0.024398332748965912), (2412, 0.024378245251213793), (174, 0.024326321753085606), (1671, 0.024239921322563245), (3683, 0.02422439513539705), (2112, 0.02422241994477293), (638, 0.024221342511122883), (794, 0.0241349752382021), (896, 0.024116419035039215), (3690, 0.02400629608357153), (4124, 0.023997911234914127), (1689, 0.023942936328245276), (2502, 0.023903447030340204), (2334, 0.023882351875940948), (1717, 0.023862172103929657), (3888, 0.02385727244068505), (2210, 0.023808255943902963), (1175, 0.023766372816534855), (3086, 0.023748072241373108), (76, 0.023685495495639274), (2422, 0.023652766069659624), (2841, 0.023636740300397262), (345, 0.023624463063052627), (3492, 0.023600797257711054), (1933, 0.0235853230673101), (2817, 0.023578249335752886), (2552, 0.02353724417083455), (1378, 0.023502618399075217), (1551, 0.02348090642130022), (2008, 0.023452231919815252), (2272, 0.02342933400704078), (2435, 0.023415557741004064), (3633, 0.023407725417677064), (1132, 0.023315864307819963), (987, 0.02328778469512267), (79, 0.023261127353049228), (1151, 0.023255597232643713), (795, 0.023252207972051662), (3790, 0.02321923747578124), (1123, 0.02316671560038576), (2479, 0.02311891974129174), (4060, 0.023116342018036126), (3982, 0.023106473702875212), (548, 0.02309162560925983), (3951, 0.023061250231780246), (833, 0.022971481070179774), (2514, 0.02296982153380072), (3371, 0.02296071144752864), (3931, 0.02295456151073714), (358, 0.022921652965673753), (1637, 0.022884270286966154), (366, 0.02286372060694572), (619, 0.02283415731081697), (270, 0.022813624391544586), (2785, 0.022806403992760058), (3423, 0.022768100775942), (2279, 0.02268268959401091), (1032, 0.02265270584002154), (541, 0.02262821421037386), (2871, 0.022609959270911396), (1461, 0.022551652675168926), (2859, 0.022514091023765052), (478, 0.022461230358274086), (1035, 0.022458693355855236), (170, 0.02244813001972754), (3337, 0.022446208260551746), (4182, 0.02242287699959216), (330, 0.022397435879340698), (4299, 0.0223468116528368), (1466, 0.02233585671858104), (1506, 0.022318509775898443), (4503, 0.02228878159787475), (3384, 0.022288644268465992), (1589, 0.02227032999118138), (1820, 0.02222920063260768), (1276, 0.022181514134258166), (2806, 0.022160348257359765), (4141, 0.022116439858830425), (2550, 0.022038646378832773), (3638, 0.022014669632911755), (439, 0.022009112650223553), (4453, 0.021995861559020412), (2311, 0.021938696229240974), (1867, 0.02190208284189359), (2777, 0.021805735364077716), (3395, 0.021797182487042332), (249, 0.021767852062481722), (1579, 0.021764860707468), (3355, 0.0217453641607956), (1429, 0.021681343152589336), (3577, 0.021667117542928598), (4031, 0.02158923633693466), (323, 0.021530859673779948), (3772, 0.021469127536775618), (2462, 0.02145605613513598), (2271, 0.021434005490149774), (1890, 0.02141508874061615), (3403, 0.02141200838436295), (52, 0.0213932685759231), (123, 0.021314341075112642), (3303, 0.02127562772711643), (2320, 0.02123983556517772), (2185, 0.02122010484341591), (1581, 0.021175374293232557), (2418, 0.02109021132082042), (3475, 0.021061887849250442), (3213, 0.021055796035472918), (1398, 0.021017680442775438), (146, 0.020952624403546956), (431, 0.020836473412636128), (1979, 0.020802549241751598), (753, 0.020741634384182556), (4648, 0.020730146728716172), (4203, 0.020683776581659683), (4478, 0.02062606122967754), (3044, 0.02062029938032548), (1553, 0.020552662445490404), (853, 0.020551088333325824), (947, 0.02049616894063258), (2176, 0.020397553011365394), (3850, 0.020330808772983315), (4448, 0.020280067357284604), (3525, 0.02026488989920895), (4088, 0.020245844226877335), (778, 0.020234438807622445), (849, 0.020212782130298323), (385, 0.02020103708685196), (2684, 0.020185197373389058), (4380, 0.02015428134968001), (219, 0.020130089075092037), (1150, 0.020124139517136107), (1971, 0.020078539037628098), (2761, 0.020041725720849037), (1577, 0.020037909399094906), (2444, 0.020025039787741023), (3978, 0.02000006555657796), (723, 0.019953270011737995), (181, 0.019925287633296433), (145, 0.019905792609021235), (3034, 0.019903354027610325), (1847, 0.019836000223592873), (2937, 0.01983252181281191), (1624, 0.019832187837427562), (729, 0.019801251768333642), (3769, 0.019735990209698354), (3585, 0.01973263330108449), (3169, 0.019710088962084236), (733, 0.019639230327664216), (485, 0.019625803596498872), (555, 0.019562669234929896), (906, 0.01953193408051192), (3517, 0.01952274862694317), (940, 0.01951982074779455), (909, 0.019478183671580652), (673, 0.01946821128557065), (2196, 0.01946574785338981), (1072, 0.019453861308613495), (3259, 0.01943775868117579), (475, 0.019436828288920585), (2000, 0.019373208811577704), (3563, 0.019367296602479364), (4288, 0.01934435223723207), (3071, 0.019284815092739938), (2541, 0.01925117380620383), (1752, 0.019199449168284848), (1079, 0.01918771691534425), (2287, 0.0191833727270801), (2070, 0.019172128137444854), (4246, 0.01916485892472285), (2230, 0.019135542745472557), (1116, 0.01910331891015321), (563, 0.019077957292329546), (830, 0.019021494913473973), (3642, 0.01901731049297774), (3367, 0.018962903782089646), (3386, 0.01895910905108155), (2932, 0.01893709163315872), (1140, 0.01891614997127387), (918, 0.018912075028219788), (3439, 0.018894524760550306), (908, 0.018888399107460888), (4682, 0.01887833139957981), (4696, 0.018867897778306768), (3624, 0.018858159030882844), (137, 0.01877163348713306), (3891, 0.018626261038304125), (155, 0.018604740830043005), (649, 0.018598280571445358), (1793, 0.018591105784272973), (357, 0.018567279570143924), (3292, 0.01850916884939867), (2904, 0.018480513652267036), (2795, 0.01847070608636759), (2645, 0.018455696660419227), (1632, 0.018445595290467326), (447, 0.01841126197032109), (3306, 0.01839197025078797), (2736, 0.018371961029889434), (2062, 0.018330335205450642), (360, 0.018316153339534683), (2981, 0.01818227766325096), (850, 0.018164877343063678), (4562, 0.018151118131889032), (2868, 0.018150415187624804), (1662, 0.018127963185693218), (383, 0.01798981285988551), (2831, 0.017967597671442695), (1173, 0.01796688975255882), (195, 0.017845273571662174), (4497, 0.017812434825719002), (1584, 0.017800862478979086), (3828, 0.01777263577170478), (2103, 0.01777226240510193), (1558, 0.017766666248161138), (4403, 0.01773342650658245), (3025, 0.01773147840598962), (2770, 0.01770138819021893), (2035, 0.017659345823523753), (3275, 0.0176328865596184), (3675, 0.017570327543800564), (1261, 0.01754820476327962), (3975, 0.017534257605623105), (1, 0.017514902028049693), (3014, 0.01747918129594286), (1064, 0.017436704686771033), (4169, 0.017432010688553882), (658, 0.017410748075267622), (798, 0.017387900475193292), (939, 0.017382834315674826), (257, 0.017345921136513662), (827, 0.017327733276937488), (4262, 0.017327107481958398), (3232, 0.017307014505557217), (1992, 0.017251116179410293), (3019, 0.017223104974130113), (1412, 0.017185983594583537), (1061, 0.017134622806940853), (2942, 0.017123450471701666), (376, 0.017063014302203243), (4176, 0.017046744738501925), (4200, 0.017021865899317683), (605, 0.017014048919878733), (829, 0.01700553200986182), (3993, 0.016996111077040275), (937, 0.016982309343725414), (4756, 0.016960110464048887), (1777, 0.01694804595392669), (1052, 0.01692844293345509), (501, 0.016858173162657978), (4712, 0.016840582566753054), (4215, 0.016811907109669125), (4584, 0.016805140696311484), (3740, 0.016803451403553642), (3060, 0.016800861493999224), (3120, 0.016760820353261402), (3099, 0.016752355254472336), (4158, 0.016745709861411984), (2786, 0.016729409643917392), (777, 0.016724559311191343), (428, 0.016709787527562903), (2009, 0.0166646956446997), (3742, 0.016650064964667134), (804, 0.01658894171473163), (4485, 0.016587338326101743), (1958, 0.016557200150543634), (801, 0.0165509407633486), (860, 0.016550653167814823), (1869, 0.016533644155786027), (4366, 0.01647968574855912), (542, 0.01647504921791626), (1780, 0.01646392525181524), (1920, 0.016429974281938334), (2846, 0.016429822396519144), (2505, 0.0163779779563448), (4587, 0.01634589127887108), (3992, 0.016338175677098464), (3219, 0.016311512524909106), (2458, 0.01626600031174797), (1352, 0.016231865335006465), (3626, 0.016207279272723637), (333, 0.01620321824328826), (458, 0.01619322457494681), (1184, 0.016191348846507657), (3547, 0.016184829995146803), (2372, 0.016156478550974674), (21, 0.016153971688465163), (2638, 0.01614967989807766), (533, 0.01614689567917675), (1767, 0.016037518334989585), (3884, 0.01602994664586448), (2403, 0.016029056870997673), (701, 0.015991066843543865), (1275, 0.01598026709637236), (2903, 0.015896570996115345), (1862, 0.01586566844101858), (3651, 0.015834477913852424), (1394, 0.01583085983238554), (2575, 0.01580303214747163), (48, 0.01577731751411459), (1143, 0.01576736201675802), (1887, 0.015764286673410916), (3043, 0.015756484552478515), (2355, 0.015699464531800964), (2754, 0.01569164592043185), (2214, 0.015677931827472836), (3414, 0.015663837611119235), (2097, 0.015659291742474716), (1141, 0.015655806969125566), (1716, 0.015653543274609848), (3221, 0.015644637118368807), (4399, 0.01563615350527155), (2711, 0.015633937394052642), (3281, 0.0156086328491587), (1997, 0.015590035620205923), (3694, 0.0155871251577959), (2969, 0.01557434566278354), (2617, 0.015574037562317379), (3924, 0.01553088677635362), (3862, 0.015493809093426836), (3026, 0.015442928007402724), (1317, 0.01541422862181914), (2040, 0.01539443598570044), (1300, 0.015347128314979912), (120, 0.015345780314126471), (534, 0.015331399606802212), (1614, 0.015275357801628277), (3959, 0.015256046599839843), (450, 0.015253556584037969), (1418, 0.015245443174574363), (4545, 0.015241075058017074), (3223, 0.01523475319182208), (1840, 0.015228568966230708), (4231, 0.015225871877875469), (1224, 0.015223903341910839), (3210, 0.015215893533924617), (986, 0.015213095879689189), (3437, 0.015177295428717052), (2053, 0.015139240366903593), (4551, 0.015099763302495909), (4003, 0.015080599204024749), (1821, 0.015076124669519554), (584, 0.015068285104334327), (1704, 0.015064334635036094), (10, 0.015063584325109403), (3612, 0.015061385331170317), (2709, 0.015039391668540139), (1853, 0.015010090049578765), (429, 0.014999988152675791), (961, 0.014996337970668183), (879, 0.01499092626750197), (2996, 0.014990901979922243), (302, 0.014984409362540382), (2488, 0.014982699622435567), (2811, 0.014977793731041987), (2037, 0.014972181310766348), (2337, 0.014962207873296201), (992, 0.01495969408068081), (2662, 0.014937609251036037), (4108, 0.014922396910022416), (3181, 0.014877541888187743), (2254, 0.014867249584793938), (51, 0.014850706017338133), (2044, 0.014837926490706877), (543, 0.014831593724699069), (2910, 0.014816877431251891), (4556, 0.014811836796936), (1546, 0.014808893052588108), (2660, 0.014803363007771027), (2588, 0.014777388194027153), (1249, 0.014769475476097554), (3063, 0.014751404039397802), (2857, 0.014750053593860807), (1575, 0.014749741020382845), (4008, 0.014737889814636194), (2188, 0.01471606392335531), (2949, 0.014711967879181661), (1942, 0.014702869215788034), (3483, 0.014695085846515738), (3553, 0.014687387341798825), (2934, 0.014641019554072411), (3084, 0.014609033198577748), (2489, 0.01457521854102542), (4333, 0.014574886303477207), (3283, 0.014569753028993765), (4377, 0.014537968409781164), (1401, 0.014527051343812217), (87, 0.0145264712488865), (1103, 0.014519825786840463), (1985, 0.014502633727655787), (1524, 0.01449550408395753), (1967, 0.014479310154610422), (106, 0.014452588931009836), (1252, 0.014437756295458742), (1195, 0.014418586534847736), (2695, 0.014385633663418728), (2961, 0.014374451104941345), (3539, 0.014365033535558184), (2269, 0.01436101940121023), (1250, 0.014357305785688189), (1622, 0.014336951708438867), (2212, 0.014333620863314954), (3215, 0.014325744279405299), (1629, 0.014320225530782184), (1379, 0.01430569093178188), (552, 0.0143041499266639), (2784, 0.014296119796154045), (1489, 0.01428764352411866), (2217, 0.014274033925346654), (1334, 0.014267760242643954), (4268, 0.014255902024711622), (1062, 0.01425029173072942), (3422, 0.014234156689625207), (4068, 0.014226459742037801), (817, 0.014225099417325816), (806, 0.014224685510494734), (3305, 0.014193121911233215), (370, 0.014174881317826422), (3506, 0.014160865504373048), (3265, 0.014146565227157265), (1621, 0.014140845190973732), (2024, 0.014119895107285077), (1517, 0.01410574900097535), (2813, 0.014095189627472011), (299, 0.014085427828383637), (3171, 0.014081918855367605), (423, 0.014075796152548763), (799, 0.014038729472839774), (1337, 0.01402339714564972), (2549, 0.01402245461223099), (2877, 0.014015218710929265), (1993, 0.014014840446067597), (2400, 0.013993034778380941), (112, 0.013981454217195318), (4475, 0.01397891197290774), (3441, 0.013975338146509137), (2886, 0.013973312199725106), (726, 0.013966759219792272), (1221, 0.013956498765441014), (1248, 0.013948485249300556), (228, 0.013935269959638332), (133, 0.013928908354411539), (3416, 0.013925871306075506), (4387, 0.01391839409139855), (4081, 0.013892993787279052), (870, 0.013890496134116309), (988, 0.013877760473768548), (503, 0.01386933380204711), (135, 0.01386655152171682), (989, 0.01383606707756322), (3119, 0.013829902806532865), (4673, 0.01382473748068079), (85, 0.013816061306476383), (2019, 0.013813081047933612), (834, 0.013783447531160066), (1966, 0.013781428119926626), (196, 0.013768704639016562), (2153, 0.013767274039963948), (4504, 0.013759300289578422), (676, 0.013757816703150431), (709, 0.013750765925597357), (1912, 0.01372601289527713), (2826, 0.013719486186397593), (3813, 0.013712921363609982), (2215, 0.013710467294947935), (4187, 0.013708992718700685), (878, 0.013700267497888188), (1566, 0.013696312977458353), (3580, 0.013693511132599765), (1665, 0.013690560719744626), (688, 0.01367609468147453), (1360, 0.013636366427053334), (2232, 0.013634893441009929), (1183, 0.013626103642363135), (643, 0.013625988029667416), (3504, 0.013608708370153405), (4192, 0.013604915733595421), (1385, 0.01359843597849348), (276, 0.013595202378225365), (4658, 0.013592378126342307), (612, 0.013575962709132595), (3780, 0.013574471094496532), (866, 0.013569347500639416), (408, 0.013519908420245034), (2391, 0.013519721534331567), (738, 0.013507709207153433), (2023, 0.01350748914908773), (3886, 0.013507258583433258), (1518, 0.013480798687744083), (4502, 0.01347918200514809), (2375, 0.013471532361796299), (236, 0.013418793021084145), (1196, 0.013411142295792853), (1537, 0.013405759899231408), (4022, 0.013385522761638893), (1823, 0.013364754667360059), (227, 0.013353511011043167), (1225, 0.013315637083161563), (2465, 0.013312196153378619), (3177, 0.013303038670833444), (3854, 0.013299478225709108), (1081, 0.013295223378681957), (456, 0.013276169785155684), (2224, 0.013275155469171946), (835, 0.013266553043418818), (865, 0.013249956334344205), (3627, 0.013235643132495624), (472, 0.01322592592517154), (2607, 0.013175872392367846), (2631, 0.013169216699354409), (669, 0.013167762081922857), (1382, 0.013161204295391412), (1229, 0.013140430154333808), (4033, 0.01313840226509589), (515, 0.013134601221771307), (1695, 0.013125451179229588), (2531, 0.013112011841341583), (2798, 0.013110340937530211), (124, 0.013097140226115755), (1000, 0.013095430076329009), (3843, 0.013089611540452944), (743, 0.01307927092799643), (3021, 0.013074967410520017), (1029, 0.013071260448388288), (1595, 0.013068966731301732), (1833, 0.013049188264615956), (311, 0.013037387544317729), (3388, 0.013023579997270615), (1902, 0.013012827582639018), (1331, 0.013006261942494692), (199, 0.012980395999128046), (3153, 0.01294517238312723), (2055, 0.012931046551798523), (382, 0.012923355405102673), (3516, 0.01290460591136608), (2760, 0.01290206928482115), (1122, 0.012894575331888068), (2494, 0.012882995674387866), (149, 0.012881829974277918), (3667, 0.012872119693635768), (1521, 0.012868209148151295), (2393, 0.012864372072432809), (1982, 0.012862674433995212), (354, 0.012857202313882907), (3564, 0.012830040982570297), (4287, 0.01281395892925718), (3637, 0.012813398862769542), (1817, 0.012813285367768998), (1223, 0.012794992215043164), (1606, 0.012785160496983833), (1335, 0.012772936157382175), (147, 0.012765973998669064), (2366, 0.012742650151396235), (1290, 0.01271450844909777), (1237, 0.012714420600890671), (2602, 0.012688134486675173), (1050, 0.012686658224717113), (4469, 0.012678788908104682), (464, 0.012674787229064339), (4445, 0.012671496338079498), (637, 0.012658804673924776), (885, 0.012657299206978076), (3807, 0.012644458406415733), (251, 0.012635392855670679), (3330, 0.012630870443801921), (2065, 0.012624851201136138), (696, 0.012618513116191481), (2360, 0.012595218373027016), (2706, 0.012582550872801947), (187, 0.012576621472857765), (653, 0.012554924725187086), (4144, 0.01254647354761325), (1678, 0.012546205131819619), (3160, 0.012538445412993066), (1191, 0.012519435912859703), (1772, 0.012506285080925598), (1768, 0.012505823307628752), (2692, 0.012499153688449187), (816, 0.012493711243596361), (1476, 0.01245084073851594), (894, 0.012428911308273836), (1458, 0.012403084679433641), (3876, 0.012390605733020251), (3237, 0.012380388175384744), (948, 0.01237745130194452), (1472, 0.012360095841469158), (4242, 0.012346507714700623), (3739, 0.012340549606076185), (566, 0.01233715341496518), (497, 0.012336223772002872), (1838, 0.012321796103600815), (4137, 0.012319278223931725), (1634, 0.012316244842002059), (1257, 0.012308998969545232), (1891, 0.01230386553165024), (3315, 0.012284920482480404), (2727, 0.01227925668705166), (2612, 0.012264141168504175), (689, 0.012263097203986814), (2965, 0.012258420965972749), (1421, 0.012253927694590883), (2397, 0.012251764070672688), (1377, 0.012248348943970578), (4095, 0.012192992570246856), (2131, 0.012188774928328993), (1707, 0.012144402210293651), (3819, 0.012120845047827462), (1597, 0.012104958863508913), (2382, 0.012104574476118499), (3279, 0.012096019596834024), (578, 0.01208143418906713), (2402, 0.012077420384730305), (4356, 0.012056034863540394), (3535, 0.01205289459290773), (2939, 0.012047238716898952), (4610, 0.012043414840606084), (3674, 0.01203509005236079), (3756, 0.01203483112369664), (4152, 0.012033839967623552), (3646, 0.012005003882742494), (2461, 0.01198857421197564), (1058, 0.011976762212161042), (1084, 0.011974244819390526), (215, 0.0119648585319273), (1878, 0.011945272330830484), (325, 0.011942555951723482), (4724, 0.011915371377518809), (2464, 0.011915237976005518), (842, 0.011901091501756979), (2892, 0.011889192673833135), (1744, 0.011888172133202334), (3947, 0.011886423131986772), (3645, 0.011885732711606242), (3300, 0.011883857449434534), (4472, 0.011882920547268064), (3974, 0.011826155566751793), (3708, 0.011821842513258735), (1343, 0.011796010166905548), (655, 0.011784890916268498), (2143, 0.011775969510080208), (4321, 0.011770612732287852), (942, 0.011763339469766128), (1009, 0.011721445097561482), (1041, 0.011717491133304838), (1682, 0.011713602777178304), (1357, 0.011706137861204911), (3377, 0.011687374054290404), (3342, 0.011683213272993691), (1308, 0.011655696217295203), (4473, 0.011649959715958433), (2457, 0.011641405502466961), (4735, 0.011636761962724203), (3147, 0.01163236786748759), (2925, 0.011622065203090507), (2221, 0.011621889818476035), (2486, 0.011601732944358319), (4271, 0.01158063857345056), (1806, 0.011546627706736798), (368, 0.011541295588799207), (3453, 0.011529687917403499), (1815, 0.011520150903806668), (1827, 0.011468633854918371), (905, 0.011453944332278199), (461, 0.01145372154489406), (1148, 0.011452455699303992), (2908, 0.011442626968355935), (1543, 0.011437525259437323), (281, 0.011433195953238245), (4048, 0.011410245783951172), (3579, 0.011367818364006797), (3318, 0.011362846544979783), (4747, 0.011350728697269228), (1219, 0.011349879601065229), (2849, 0.011343669251796872), (410, 0.011329678513687276), (2845, 0.011318618748910256), (3312, 0.011316922889623897), (682, 0.011312052162599699), (981, 0.011303394140320992), (3652, 0.011300374647239434), (1591, 0.01128978115239025), (4118, 0.011288510328223852), (207, 0.011280426325138353), (463, 0.011280210037731043), (161, 0.011279704315805899), (1964, 0.011269402939985209), (2082, 0.011259360338304982), (1417, 0.01125064054879985), (1674, 0.011245141583526068), (224, 0.011230953803964449), (4725, 0.01123030778021838), (2240, 0.011210238448666147), (4335, 0.011209256255070407), (4727, 0.011207526601111809), (3327, 0.011188789460319988), (1764, 0.011166018099277534), (1186, 0.011151639696358758), (684, 0.011138162172240618), (2580, 0.011125309846690813), (2346, 0.011122143073198549), (1318, 0.011121671757564133), (4512, 0.01111339801222087), (837, 0.011104008817203508), (4247, 0.011092776703053767), (3373, 0.011084263644569702), (4656, 0.011055626361511533), (254, 0.011042894630193386), (242, 0.011029985247344222), (2933, 0.011023343446952702), (89, 0.011021674087831033), (1754, 0.011021080938137492), (1774, 0.011014177577372716), (2975, 0.011005160503548123), (4590, 0.011001466109613589), (683, 0.010983711490671903), (1701, 0.010977577660482445), (3192, 0.010966202421906034), (1371, 0.010930796874130148), (642, 0.010928322734954973), (3254, 0.010896873079769142), (1705, 0.010887039197167925), (1471, 0.01087831606929565), (4531, 0.010867933570125849), (3110, 0.010867064586630192), (712, 0.01085341902330878), (162, 0.010819137525400615), (1858, 0.010811537182581939), (180, 0.01081075473102296), (2546, 0.010799274327060994), (2281, 0.010795762320670123), (4436, 0.01077173284337634), (1365, 0.010751500110446613), (1736, 0.010750613059680917), (3586, 0.010749911891792956), (675, 0.010734819402177591), (2603, 0.010717050193019117), (1432, 0.010705210426494007), (1874, 0.010687344993058172), (2780, 0.010685379486471011), (4407, 0.010678921543626332), (2978, 0.010670759101401894), (2034, 0.010660075957598183), (1388, 0.010645693917844548), (2235, 0.010643495143690323), (1727, 0.010624291763270819), (418, 0.010616233816958776), (2132, 0.01060708054174164), (1735, 0.010590127142549827), (3855, 0.010580048728615149), (2126, 0.010552147802962313), (4233, 0.010550027519065797), (3095, 0.010541054874252023), (544, 0.010537916406216319), (1125, 0.010528132797035258), (2316, 0.010520170631054537), (1572, 0.010519495284568917), (209, 0.010517723843220195), (3245, 0.010508255069530877), (4557, 0.010502576664943532), (3334, 0.010494806254776624), (1845, 0.010484026182308037), (1950, 0.010478083509749837), (201, 0.0104775332496264), (1585, 0.01047566086510609), (1024, 0.010463799429433448), (719, 0.010449877870416069), (1234, 0.010446371249713217), (4199, 0.010445466680169), (4474, 0.0104429239677729), (654, 0.010436756122299112), (1832, 0.010435049230761247), (976, 0.010423256431716555), (1949, 0.010414379687225084), (3382, 0.010351069170182886), (1339, 0.010338867413180578), (2064, 0.010308482733646354), (244, 0.01029262573688027), (2080, 0.010284736063538807), (994, 0.010274830320669052), (931, 0.010262215866982945), (3155, 0.01025424433602745), (2944, 0.01024196082071754), (3670, 0.010222476875544449), (433, 0.010218545314541739), (1922, 0.010215075623941928), (1436, 0.010209000205659992), (2284, 0.010193654396649007), (1542, 0.010190771171405046), (309, 0.010190443466635257), (1677, 0.010160847534562856), (4000, 0.010160675391557735), (609, 0.010129502360157581), (1945, 0.010119158904616997), (2952, 0.010112230578340873), (1440, 0.010111400337857492), (869, 0.010090647243953817), (953, 0.010086339230062158), (1455, 0.010006903931538443), (172, 0.010000784272588145), (2756, 0.00998359270118528), (510, 0.009981484122328022), (2276, 0.009980763506944995), (1406, 0.009954641249145219), (2851, 0.009954246689121385), (494, 0.00995298935578485), (3199, 0.00994040180186256), (2781, 0.009936353402620498), (2918, 0.009906487660743788), (1937, 0.009884848005277296), (613, 0.009881979100271233), (4623, 0.009877601320928773), (2280, 0.00985167408966397), (1527, 0.009850335006093105), (2752, 0.009845247203251358), (1074, 0.009838284205866134), (3118, 0.009783906020112674), (4235, 0.009768427847671696), (2897, 0.009752572478541326), (396, 0.009751841049748165), (3582, 0.009743838835394765), (1231, 0.009734317712695935), (2206, 0.009730049198001639), (1063, 0.009704152301514639), (3610, 0.009699767957805541), (4442, 0.00969578530961199), (4481, 0.00969524898586988), (144, 0.009681492646280317), (3983, 0.009671395964799146), (1544, 0.009668459465010127), (1230, 0.00965998434493201), (287, 0.009651746151710815), (2054, 0.009630781034527636), (1068, 0.009622400499706406), (2791, 0.009616456581347778), (828, 0.009574834845436034), (2273, 0.009545760155998798), (3794, 0.009523084368008543), (3465, 0.009519682063846801), (915, 0.009501823215003063), (2884, 0.00947655293046695), (2751, 0.009456828685226982), (4553, 0.009452812220490698), (1314, 0.009443970118571739), (1630, 0.009442217256899725), (4086, 0.009438313919914714), (1854, 0.009434716430144648), (1797, 0.00942292645253625), (2110, 0.009413966492974856), (2187, 0.009410918004269532), (4325, 0.009394692363169643), (3497, 0.009382508208950141), (4450, 0.009377079267032426), (2119, 0.009353209717474203), (1680, 0.009349409794600838), (1776, 0.00933429684409156), (3842, 0.009326773759408607), (3267, 0.009324116850822317), (679, 0.009316646418774312), (2982, 0.009305545144654296), (2410, 0.009285314374439297), (4460, 0.009283896356981422), (916, 0.009264988424679684), (3941, 0.009232229174297774), (3070, 0.00922841413370723), (4165, 0.009224509628808969), (3117, 0.00922119891704755), (4207, 0.009205741590009838), (2742, 0.009203499912972583), (3109, 0.009198334282467238), (3001, 0.009180868992797967), (2921, 0.00917206764196858), (3860, 0.00915986060841087), (122, 0.009155624502883436), (874, 0.009149122495930013), (2874, 0.009124419459539807), (4164, 0.00911739141458954), (3711, 0.009097627285520098), (285, 0.009088901876680192), (148, 0.00905805122146073), (1816, 0.009030894084635716), (384, 0.009005927601214787), (1348, 0.009002216516599132), (3774, 0.00899978986987002), (3418, 0.008990890001669893), (695, 0.008983641861978779), (802, 0.008982238090898122), (4515, 0.008970808442461373), (2614, 0.008970363972408331), (4171, 0.008965107116648106), (4752, 0.008951351016272773), (4097, 0.008923183073021387), (4240, 0.008920033906333112), (4232, 0.008892716222388604), (3812, 0.0088730243669988), (2809, 0.008870801412788992), (2675, 0.00885784206677503), (4757, 0.008857143589492113), (4659, 0.008829178717420828), (1694, 0.008821765664317032), (824, 0.008816738479735443), (956, 0.008797428888668525), (1932, 0.008793742399356359), (4173, 0.008786456282478629), (3269, 0.008786111464728335), (4639, 0.008758747495343295), (2147, 0.008756616099848584), (3189, 0.008756216366908228), (891, 0.008746162685040661), (2963, 0.008745646868249173), (3208, 0.008736953168672248), (2913, 0.00872783586997171), (1737, 0.008727688800574203), (2790, 0.008714134876361336), (4574, 0.008692308084234908), (4096, 0.008683255084175702), (3830, 0.008667005729526795), (405, 0.00864894357284557), (2208, 0.008645689788521916), (797, 0.008644052811566333), (3596, 0.008642037580206001), (86, 0.00863911794063617), (517, 0.008636312632011145), (131, 0.008620871560863722), (1115, 0.008613708402874346), (3242, 0.008613708095768129), (1930, 0.008613145322847685), (66, 0.008606250648259537), (4045, 0.008594526524183872), (2330, 0.008592138101359104), (656, 0.008581500583662053), (2650, 0.008568361295018383), (3849, 0.008550258697326682), (2076, 0.008549831979977574), (3209, 0.00854410590744827), (1402, 0.008518653520434646), (845, 0.008480815241760142), (2449, 0.00847588139354513), (809, 0.008473551246909534), (1435, 0.008432449700216236), (2130, 0.008426057828291424), (3289, 0.008424449257010554), (971, 0.008415426532476556), (1411, 0.008392223890097947), (4089, 0.008386849980488857), (3018, 0.00838071621255255), (1233, 0.008380315790121372), (3321, 0.00837884782895841), (1557, 0.008375633400906805), (2396, 0.008369412385129914), (3792, 0.008364257320466409), (1369, 0.008364228756361978), (54, 0.00836239587417416), (3348, 0.00835952701054398), (1442, 0.008338125133558274), (528, 0.008337728837764725), (259, 0.008332577943688059), (4708, 0.008329000960120053), (3188, 0.00831143058392873), (1459, 0.008303121206472416), (556, 0.008302991053755565), (3427, 0.008295347386627277), (4388, 0.008291775182692846), (4218, 0.008287663186895985), (1320, 0.00828709318593713), (1330, 0.00828026335656264), (1915, 0.008268742698191675), (1256, 0.008260712215982286), (2120, 0.00825112300428833), (202, 0.008248619182296869), (42, 0.0082458707371177), (1783, 0.008243878066615693), (3926, 0.008228907817071387), (4073, 0.008227963796392788), (785, 0.008199137216828018), (1757, 0.008197178087055479), (938, 0.008192167083556846), (3090, 0.008189779118711599), (1857, 0.008179654395963049), (3966, 0.008160198103482846), (435, 0.008149082300311226), (3685, 0.008145512650366626), (4310, 0.008142780943152697), (3946, 0.008142458845515824), (322, 0.008141688574955447), (2239, 0.008141641407772657), (1561, 0.008140485354780014), (665, 0.00813863194731283), (1846, 0.008127798509062579), (2178, 0.008122860908004443), (859, 0.008117444530476426), (451, 0.008090302524743884), (4438, 0.008081930605382173), (3260, 0.008077248157278586), (1431, 0.008071059412120189), (757, 0.00806846781379178), (535, 0.00805644599562173), (315, 0.008051698661959848), (1118, 0.008045019450810549), (2571, 0.0080443342313149), (3912, 0.008039505798932665), (4197, 0.008038135532135542), (3390, 0.008037488451132868), (1284, 0.008033700189188872), (4035, 0.00801381635445898), (1657, 0.00801151795351829), (1913, 0.008010481242351031), (3121, 0.008008216873494275), (668, 0.008006350615589288), (1425, 0.0080055059679774), (846, 0.008005172266214491), (49, 0.007997244463182509), (3011, 0.007988072664231901), (466, 0.007987617479897402), (1610, 0.007986937577573641), (1353, 0.007982541603341399), (4600, 0.007975993216690942), (2699, 0.007969643388482195), (2322, 0.007968413857465185), (702, 0.007957244651304804), (1207, 0.007941937821805446), (1416, 0.007935927836698968), (713, 0.007924657577712494), (3932, 0.007916458014692264), (3985, 0.007904265029842959), (2245, 0.00788874758777777), (1673, 0.007884028962171134), (4110, 0.007881791225237963), (1086, 0.007880331765764949), (2728, 0.007875444929503919), (1457, 0.007874787996742467), (1654, 0.007870903912779904), (787, 0.00786794833176166), (2100, 0.007840445727009053), (486, 0.007833162817980166), (3246, 0.007824081928970567), (4274, 0.007812161249981346), (2135, 0.007808222928182961), (369, 0.007806053013576164), (2327, 0.00779996405304243), (492, 0.0077976322552711684), (9, 0.0077971375262432426), (45, 0.0077827966460017476), (767, 0.007779917590338803), (4569, 0.007778203617187824), (984, 0.007777745474081504), (3133, 0.007764968073564124), (240, 0.007761105127322032), (710, 0.00776045239130384), (1818, 0.007748871460453747), (4155, 0.007747020817652847), (1895, 0.007741121605926024), (4174, 0.007720895044615072), (1649, 0.007719522509241158), (1787, 0.007701890277681695), (2205, 0.007693172135353351), (1899, 0.007690401362546922), (4277, 0.007674213884466398), (1861, 0.007671603417778816), (3718, 0.007662940144211663), (1482, 0.007661313761870145), (4437, 0.007645641814173607), (895, 0.0076446825383490345), (338, 0.007642548847735603), (1714, 0.007641558156012179), (4186, 0.007635401584871999), (920, 0.007631454535889323), (2005, 0.007627280121433256), (306, 0.0076251748597549514), (2445, 0.007617924326185429), (2584, 0.007612923925045365), (511, 0.0076115515666729935), (1270, 0.0076011478941669436), (1197, 0.007597687432203307), (569, 0.007590114993545484), (324, 0.007589503220841629), (2129, 0.007579174529301867), (2203, 0.007577594063607684), (1157, 0.0075775782185516435), (1180, 0.007571218527211045), (2163, 0.007571176541139564), (2043, 0.007561172380291873), (3244, 0.007560146114744852), (577, 0.007553180738201987), (2315, 0.00754913691407255), (810, 0.0075440214771267), (1480, 0.007540103377920607), (1456, 0.00754009678755334), (820, 0.007526607936765025), (583, 0.007499593898496868), (3247, 0.0074970833128182755), (1987, 0.007496616782996397), (1384, 0.007488540468672917), (191, 0.007453190862279428), (4109, 0.007448372292541059), (4261, 0.007447630965306742), (2007, 0.007437413359938875), (2929, 0.007432142713551823), (2274, 0.007431512360049066), (3484, 0.007425563901320611), (898, 0.007410932506386866), (4468, 0.007382279095122172), (1312, 0.007379329736229167), (2074, 0.0073669538534816385), (3082, 0.007364288864847071), (0, 0.007362376297711399), (2749, 0.007360560221201825), (2539, 0.0073573061810009235), (892, 0.007348123639290567), (912, 0.007339976970695624), (1571, 0.007332282057502809), (1405, 0.007321060611030827), (75, 0.007321059685518814), (4353, 0.007301754007139867), (1745, 0.007301443981618597), (1978, 0.007272077976726193), (445, 0.007267085339554311), (1698, 0.007261375370100954), (1850, 0.007258866306260161), (64, 0.007253019458747786), (640, 0.007234145008119889), (334, 0.0072327345968361215), (1954, 0.007225144837367991), (2323, 0.007219673873396371), (545, 0.007215387126863054), (2822, 0.007205015338161459), (1090, 0.007165656053033956), (2460, 0.007146262882120006), (108, 0.007140286721135181), (2047, 0.007138461103392754), (2331, 0.0071265611385947164), (1309, 0.007116872971566495), (520, 0.007110027550913781), (58, 0.00710759378597762), (2842, 0.007098008853124707), (1639, 0.007076054873868274), (314, 0.007061279261677551), (1042, 0.007060643384575546), (2114, 0.007047169214450365), (2025, 0.007020015737301747), (3658, 0.007016777957632731), (1523, 0.00699011921970235), (288, 0.006981364093991261), (2326, 0.006975214518492451), (2985, 0.006951911130687535), (645, 0.006946564979090472), (3325, 0.006946297440635714), (3512, 0.006925541338454181), (1296, 0.006894015618264982), (394, 0.006887032095696392), (469, 0.006848200306055893), (1344, 0.0068164011106900645), (4598, 0.006813079002565609), (2678, 0.006811353652908811), (2022, 0.006789397514489309), (3552, 0.006783834379081612), (506, 0.006747855330638968), (1646, 0.006742566458451449), (1137, 0.006706622584432261), (2078, 0.006681645284789017), (2734, 0.0066631668548594895), (2013, 0.006617417827563928), (3178, 0.0065504727426112346), (294, 0.006544140327506454), (926, 0.006538722562358542), (4555, 0.006516819783714213), (3144, 0.006503536192492471), (4571, 0.006480630582181227), (3356, 0.006373408457058001), (2671, 0.0063418717607229185), (3925, 0.006284123823879305), (561, 0.0062021041987612635), (2636, 0.0061981078691744325), (735, 0.006178908058656535), (3276, 0.006161405706697855), (2529, 0.006129353714841545), (2998, 0.0061127827957648), (3291, 0.006096792227325409), (3750, 0.00608285596777366), (4082, 0.006077114630303321), (3458, 0.0060455255510801), (2490, 0.006037816447740816), (3257, 0.005999381861912553), (3421, 0.00597559658617237), (553, 0.005953048965334541), (2764, 0.0059403891171407475), (2870, 0.005928405243672762), (3051, 0.005901119259514064), (2379, 0.005894587779119962), (2832, 0.0058746568808238754), (3262, 0.0058589452305769394), (2768, 0.00585656451077208), (2568, 0.005823757338291356), (2349, 0.00582019210660857), (2655, 0.005783826461250799), (4617, 0.005751022787987219), (2643, 0.005741410128646798), (3166, 0.005736310759229301), (1919, 0.005726793019095866), (2883, 0.005725339032993837), (3990, 0.005713990257297352), (2775, 0.005712885648647574), (740, 0.005710664040943665), (3456, 0.005696410532939735), (627, 0.005679815555817045), (3635, 0.005675591119323982), (2889, 0.005674720312271175), (2407, 0.0056357606867663375), (2731, 0.005635718267232802), (4444, 0.005611206531463915), (2901, 0.005600599110696406), (2559, 0.005599233185852533), (3076, 0.0055691070890919675), (3479, 0.005545261575179857), (2255, 0.005533110529621538), (4484, 0.0055265727956795765), (3922, 0.0055125135486218104), (2423, 0.005501047454904384), (2257, 0.005500073873118547), (3140, 0.0054863731792458474), (4546, 0.005478286953310761), (2350, 0.005477033010695684), (3015, 0.005446798237634558), (3892, 0.005446570287417421), (2438, 0.005410780549821849), (3613, 0.005404618524549434), (2415, 0.005403254084177023), (4723, 0.005399526746021609), (3074, 0.005384312783411562), (3832, 0.005334225819953412), (2797, 0.005325269620290951), (3766, 0.005300748037145143), (2966, 0.005294669027850915), (2838, 0.005293953904726246), (3282, 0.005288998281755944), (1655, 0.005270922360326012), (4637, 0.005267570039846812), (3763, 0.005265079423561038), (2286, 0.005251078201445456), (3081, 0.005245956980016107), (1264, 0.00523948391429113), (2530, 0.005239122228370779), (2879, 0.005226325892125781), (1711, 0.005225177829911222), (1208, 0.005195172992891845), (4163, 0.005193297851757147), (4660, 0.005187216465792404), (3620, 0.005185941569812841), (4521, 0.0051834967727919295), (2778, 0.005170302650777688), (4490, 0.005168273332057334), (2834, 0.005152965028830855), (326, 0.005150465404993065), (2266, 0.005145109141331987), (3901, 0.005142365853345065), (2154, 0.005138157690511958), (3521, 0.0051333504526546), (3072, 0.0051236050293285455), (4243, 0.005118557013410334), (2890, 0.0051159319892027395), (4477, 0.005111681038246909), (4594, 0.005108968414738802), (4619, 0.005099029867268418), (4443, 0.005097441273677385), (670, 0.0050945052529590305), (2848, 0.005084340950749543), (2428, 0.005081792236355823), (3357, 0.005077787054432552), (1995, 0.005075175370006906), (3004, 0.005071514011898592), (3952, 0.005068468884584959), (3359, 0.005067293319828315), (3123, 0.005060423100138989), (3012, 0.0050507125646460024), (3302, 0.005050344806900307), (2388, 0.005046340950111647), (4117, 0.005044173829994139), (2772, 0.005043030668484804), (4632, 0.005040792089608792), (3165, 0.005038559226457098), (4244, 0.005023459679688342), (448, 0.005011216748845692), (925, 0.005008072837163326), (2748, 0.005007934602821926), (4412, 0.005003590699986591), (1885, 0.005002619421884162), (2570, 0.005002421369392217), (1049, 0.0050023921936916595), (2696, 0.004999908700724106), (4731, 0.004999797130893737), (2535, 0.004999303652983814), (2475, 0.004998458490004271), (2623, 0.004997611012421133), (4589, 0.004992355739263964), (2872, 0.004990449658116558), (436, 0.004988405932872082), (2986, 0.0049880102075541945), (2914, 0.0049861768525713964), (2437, 0.0049848083892994055), (2796, 0.004983576406717638), (3228, 0.004979647118624698), (3413, 0.004979516810078626), (1947, 0.004971930726206324), (1187, 0.004970658613647656), (1547, 0.004967579637512933), (3866, 0.004966713904718164), (3308, 0.0049654423615662505), (2459, 0.004956802874431581), (3062, 0.0049550118758773295), (1658, 0.0049490279413403745), (4706, 0.0049484611577181835), (4293, 0.004946482420209362), (2916, 0.004941280686886451), (419, 0.00493621172307693), (2134, 0.004929779767803135), (4701, 0.004928494639709393), (3680, 0.004919361544438901), (4713, 0.004917314727870983), (1748, 0.0049163698582909195), (4516, 0.004915688608089918), (3745, 0.004912766130696038), (2769, 0.004906959125537059), (2740, 0.004902286058172521), (1909, 0.0049009451878129235), (614, 0.004898305748595469), (2051, 0.004896747008922865), (3094, 0.004895972736608242), (2089, 0.004895386660084973), (3296, 0.004893495756157031), (813, 0.0048929629430757), (2229, 0.0048915020946264055), (985, 0.004889179777491714), (2702, 0.004883444703005614), (2625, 0.004881613203898164), (3248, 0.004880523639454569), (2881, 0.00487739457758826), (3903, 0.004876447856595935), (2974, 0.0048742000504762425), (3590, 0.004868637992455586), (3524, 0.004867190468169959), (4269, 0.004867020807368036), (4051, 0.004866674443425328), (4718, 0.004861299003084309), (4522, 0.004860960957797632), (3258, 0.0048559519074443894), (3754, 0.004855062671834742), (596, 0.004853502753554205), (4369, 0.0048511702815270015), (2664, 0.0048507060467374245), (3560, 0.0048484002834503145), (2478, 0.004847993100941622), (3032, 0.00483905782086278), (2411, 0.004834034615907627), (998, 0.004832975580780706), (3883, 0.0048299904480125005), (2302, 0.004824113615577318), (2162, 0.004819076566204886), (3425, 0.004818558554405255), (1383, 0.00481557995550059), (274, 0.004812190668127077), (999, 0.004805862127673152), (4575, 0.004805058124342553), (4160, 0.0048002594170863675), (2924, 0.00479838402465278), (4650, 0.004796889735561565), (4494, 0.004795700424285777), (3962, 0.004794789450889938), (2705, 0.004789079997872845), (4092, 0.004787403496274587), (3148, 0.004785348944162566), (2893, 0.004783210527372764), (1023, 0.0047814106587059325), (2049, 0.004781069583788415), (2260, 0.004780028281723183), (107, 0.00477785747477482), (3827, 0.004775511638329802), (3640, 0.0047751487027889615), (4087, 0.004771859908312741), (2108, 0.004771210991101193), (443, 0.004766658234695466), (4133, 0.004763885958827536), (4535, 0.00476143503012132), (857, 0.004759622864279707), (2943, 0.0047549963546285705), (1325, 0.004751737957194884), (3639, 0.004747308660053565), (4593, 0.004744940866292871), (3116, 0.004739275129721135), (1109, 0.004737506077288511), (208, 0.0047366119233121125), (2915, 0.004736042663288639), (3893, 0.004733264413201891), (3391, 0.004730935339107059), (2840, 0.00473012183882622), (62, 0.004726625877019128), (4699, 0.004724695766805245), (4101, 0.004720646712188967), (3196, 0.004715462161973514), (1924, 0.004715316097400462), (2629, 0.004713916306625541), (2579, 0.00471306295417653), (2560, 0.004712720496097956), (576, 0.0047126611589299), (2592, 0.004708760792132624), (4507, 0.004703496322962226), (3797, 0.0047027164037440556), (3618, 0.004700366142163192), (3417, 0.004698393622397535), (587, 0.004698360282620461), (4138, 0.004698278027971286), (716, 0.004696292851575181), (4734, 0.004695629143337485), (1349, 0.004694715809233201), (876, 0.004687616443063458), (12, 0.004686436498133637), (4113, 0.004685072172298097), (3984, 0.004682576643300453), (2116, 0.00468146421127274), (623, 0.0046785905052275705), (2436, 0.004678531395974108), (3146, 0.004677650784585686), (4624, 0.004674390666186287), (3408, 0.004673899209292518), (3037, 0.004671825479481983), (2755, 0.004670569597647724), (2223, 0.004668594040577796), (967, 0.004664073724712308), (3601, 0.004663486026245094), (3187, 0.004661579695020861), (1474, 0.0046611431117835195), (3902, 0.004660707476423068), (4116, 0.00465970529148091), (2394, 0.004659443146757864), (2159, 0.004658374727626628), (350, 0.0046577644112710355), (2555, 0.004655975657296077), (4098, 0.004653685789572816), (2782, 0.004653492110898262), (4024, 0.004652917828810333), (8, 0.00465288210797656), (4528, 0.004649696574409026), (3273, 0.004648470877168276), (2361, 0.004645582594863487), (3749, 0.00464330084785885), (1822, 0.004642881400320537), (3873, 0.004642527858106905), (4625, 0.004639965930166843), (1798, 0.004639635040106304), (3920, 0.004634241977134586), (4330, 0.004629072267388022), (3183, 0.00462792974130409), (2348, 0.004626546347245516), (1007, 0.004624448802527656), (3013, 0.00462317852002733), (1897, 0.004617143548706272), (3198, 0.004615488956149818), (3112, 0.004614494703960219), (1905, 0.0046135840535724846), (481, 0.004612025879009682), (4111, 0.004611928326621124), (4014, 0.004608696420751988), (3704, 0.004608458664152047), (318, 0.00460472907350347), (1896, 0.004599840580926172), (888, 0.004597367714088546), (3692, 0.004596729116746653), (3915, 0.004596546776629033), (2289, 0.004594924210620533), (4520, 0.00459299830391767), (3904, 0.004590342474929529), (41, 0.004589955925594688), (4079, 0.004589191712084322), (4249, 0.0045830371171636936), (2390, 0.004579572405382631), (1687, 0.0045792720695747155), (4259, 0.004579127299913706), (4419, 0.004578831676174781), (1907, 0.004575220859194013), (1866, 0.004574878963333349), (1685, 0.004573682683649895), (3406, 0.004570235864555087), (3235, 0.004569434640422756), (3527, 0.004568794999889385), (1513, 0.004563861284689988), (3845, 0.00456280933556354), (2821, 0.004562803087082905), (371, 0.004562498873465361), (1570, 0.0045591432784777425), (4722, 0.004555081773970111), (4046, 0.004554638414985767), (4643, 0.004551932393777139), (826, 0.004551290876217036), (1893, 0.004546058956830346), (1916, 0.004544707060013883), (342, 0.0045431769309261525), (3919, 0.004542269269351273), (2096, 0.004541368145019404), (4489, 0.0045375113064038694), (1188, 0.004536148989006582), (2601, 0.00453417532724345), (2344, 0.004533104052940199), (1182, 0.004531970653234898), (1851, 0.004529718518028499), (4601, 0.004529334170869814), (4371, 0.004529091021663471), (1350, 0.004527961236175153), (3097, 0.004526772742933085), (3349, 0.0045240318257742055), (774, 0.004523460424027057), (4123, 0.0045232319669385734), (493, 0.004522206949164864), (4357, 0.004521766231509657), (2911, 0.0045211551205850495), (74, 0.004516774453168558), (4517, 0.0045163090162982575), (2104, 0.004515121259321371), (2776, 0.004513862742311519), (3771, 0.004512918418110867), (903, 0.004512414309086911), (2999, 0.004512390037539976), (1454, 0.004511957847015061), (2088, 0.0045095141779862), (1364, 0.004508228771373824), (2477, 0.004506881654116701), (4430, 0.004506344259504951), (2067, 0.004505704476073878), (2926, 0.00450558977999725), (1951, 0.004502172263194209), (728, 0.004501081971971758), (2633, 0.004498532633426754), (34, 0.00449793528859241), (3511, 0.004497498078219894), (3075, 0.004496372940508359), (872, 0.004495860709780589), (2048, 0.004493056464293776), (792, 0.004492449863732463), (1960, 0.004492096424785287), (3493, 0.004489071450679584), (4038, 0.004488587605827735), (1324, 0.0044841332502727526), (4501, 0.004483610645478553), (470, 0.0044823218635565), (2712, 0.00448013648748602), (4629, 0.004478876947394249), (4422, 0.0044786962027162005), (3449, 0.004477838326799504), (4470, 0.0044767384539266585), (3496, 0.004476242019658409), (564, 0.004470881668346986), (1876, 0.0044698390927223886), (482, 0.004469402545564744), (2105, 0.004468287294330884), (192, 0.004465440107413368), (3353, 0.0044633873807561385), (952, 0.0044605528018986694), (930, 0.0044603590974269325), (761, 0.004459017290434371), (255, 0.00445890948400479), (3314, 0.004458778703834311), (3501, 0.004454164652353132), (844, 0.00445321122829238), (178, 0.004452186424946635), (2609, 0.004451891724924728), (3623, 0.004450555372922345), (2894, 0.004443752148502982), (2277, 0.004442394236866847), (4446, 0.004441422375319097), (4573, 0.004441381796906061), (3654, 0.00443788907626404), (3227, 0.00443737231232397), (1946, 0.004432162093894893), (1400, 0.004430156380759093), (23, 0.00442916506873972), (2386, 0.004427357544022615), (4566, 0.004426807981013049), (1286, 0.004426057129356006), (2091, 0.004423577985563961), (3184, 0.004422914629977418), (551, 0.004422845780217295), (1006, 0.004422775256199192), (3233, 0.004422319247916124), (3643, 0.0044200602691357085), (3809, 0.004417475195278181), (2554, 0.004414163536101751), (2319, 0.004413116606037613), (4420, 0.0044127930621253265), (652, 0.0044106523573133405), (2466, 0.004408270672413833), (2242, 0.004408197233852217), (1619, 0.004406724759374948), (430, 0.004405432014206983), (3241, 0.004403597085549341), (3551, 0.004402206412407997), (1475, 0.004401832603909751), (4336, 0.0044015477874687296), (4056, 0.004401267099147449), (783, 0.004398012198443737), (4668, 0.004395833119520463), (3214, 0.004395648468214029), (3765, 0.004391579945621429), (1083, 0.004387170327564547), (3526, 0.004383353469429024), (3689, 0.00438251141978243), (2405, 0.004381517822270629), (1722, 0.004378852313058246), (579, 0.004378718855856304), (2878, 0.00437733541604989), (4603, 0.004373090750418022), (3542, 0.004368312111348815), (1779, 0.0043666117044171655), (4025, 0.004366265964729363), (1413, 0.004366205029778575), (1645, 0.004364496560486799), (173, 0.004364021799653228), (4016, 0.004363243029019281), (3778, 0.004363020434013362), (4054, 0.004359190837626892), (4334, 0.004358738574281151), (479, 0.004358483424152231), (2668, 0.0043573498130866995), (2744, 0.004355431756449778), (1176, 0.004354792225887485), (4563, 0.004353173235245709), (636, 0.004351699704310414), (3125, 0.004351461460952443), (3182, 0.004351317424851724), (1931, 0.004348439473555667), (4533, 0.0043447804061997886), (169, 0.00434306740326246), (2295, 0.004342668867515344), (4178, 0.004341078149473411), (3707, 0.004338882260396919), (71, 0.004337503323074687), (1131, 0.004335292404381286), (504, 0.004329982410933304), (1179, 0.004329744877729348), (644, 0.0043278236892252955), (3882, 0.00432771435504496), (2746, 0.004327389478714315), (4284, 0.004326784191235233), (2977, 0.004326527638812238), (980, 0.004323653391190085), (2492, 0.004323487477700259), (3727, 0.004321972884128235), (4266, 0.004319390408821984), (2144, 0.004319035842821799), (1019, 0.004317038448422874), (3917, 0.004315471071381365), (660, 0.004314483107652864), (1192, 0.0043127739116013124), (238, 0.004309880127979577), (923, 0.004309029245377111), (897, 0.004308542801661554), (1163, 0.004306935825154364), (406, 0.0043024493018783815), (3571, 0.004301286365164914), (755, 0.0043006254993778765), (2632, 0.004300246660572193), (1983, 0.004299926141821038), (3436, 0.004298713870550266), (4255, 0.004297653174777286), (1077, 0.004297178886159943), (3673, 0.004296296023436763), (509, 0.004295942622847802), (2321, 0.004295888114520308), (697, 0.004290783729918833), (2155, 0.004290612725642651), (387, 0.0042883422131213865), (280, 0.004287544141676351), (3799, 0.004287013441176857), (3900, 0.004285706595244797), (2946, 0.004284662603266551), (3445, 0.004283953986980926), (1020, 0.004280491863736905), (2887, 0.004279582065830129), (1740, 0.00427634466760101), (198, 0.004276213460334351), (832, 0.004272592578695165), (3268, 0.0042719930515188334), (2972, 0.004271245847925987), (2745, 0.0042712010523385325), (2606, 0.004270730492985533), (2647, 0.00427001004148093), (2073, 0.004268023426531743), (3036, 0.004267115049228765), (2169, 0.004264810936168714), (2812, 0.004264767145786295), (1075, 0.004263282749478541), (3346, 0.00426158876849978), (3435, 0.004258616290856485), (1017, 0.00425780027864116), (4135, 0.004257632800589175), (2374, 0.00425711364596607), (3541, 0.004255301780021706), (4640, 0.004254741478661322), (3067, 0.004252946299361815), (867, 0.00425178067393624), (1102, 0.0042513955465002485), (693, 0.004246061113162139), (864, 0.004243840341680925), (4283, 0.004243332619827609), (1969, 0.004240693270292103), (19, 0.004240558936241065), (749, 0.004240154374462672), (969, 0.0042388668743097565), (698, 0.004238606548123277), (437, 0.004236509824094239), (1338, 0.004233886177038775), (1730, 0.004231750566207065), (769, 0.004229829394649073), (2045, 0.004229589072004036), (353, 0.004228894126632479), (3500, 0.004222974027128423), (2687, 0.004221850359502629), (4053, 0.004221344765424384), (2087, 0.004216319306433149), (2226, 0.004215066065808714), (2802, 0.00421354200796934), (750, 0.0042128977150872405), (490, 0.0042123190849222055), (2061, 0.004212260265782609), (3170, 0.004211138551038817), (4183, 0.0042092407875723185), (4036, 0.004209131139876226), (2980, 0.004205394419566778), (3811, 0.00420518824732747), (4511, 0.00420478977461332), (1882, 0.0042042463303678225), (3890, 0.004204173382900827), (3122, 0.004204040824442251), (3641, 0.0042039667604591435), (628, 0.004203852740173381), (2027, 0.004203086201418869), (3402, 0.004203022282928163), (1488, 0.004202075601966809), (2362, 0.004200910031302115), (1620, 0.004200328104253796), (2945, 0.004200124767755249), (1138, 0.0041995350338939925), (1422, 0.004197356404070644), (4362, 0.004197338581277145), (1313, 0.004196191581869009), (2121, 0.004194852979612991), (1170, 0.004194612662717072), (4670, 0.004192812470806082), (104, 0.004191019252935446), (3557, 0.004190988288714109), (400, 0.004189601205214242), (3784, 0.004188111970824759), (109, 0.004187027967389762), (114, 0.004181174491878177), (3195, 0.004179670320881931), (959, 0.0041796633682001485), (3151, 0.004176941151931515), (1483, 0.004175979334089677), (2593, 0.004173449594342594), (348, 0.0041729370611574045), (2779, 0.0041704099910562864), (2174, 0.00416976550538347), (4309, 0.004168367236457553), (4530, 0.004165295563420833), (2716, 0.0041635429179612115), (966, 0.0041606923630418706), (282, 0.004159963504245302), (4020, 0.004159877679119376), (1161, 0.004157302920954155), (1892, 0.004156878754323719), (1247, 0.00415684390894176), (727, 0.0041549783507446834), (1027, 0.004154575734457431), (2558, 0.004152195590789367), (3487, 0.004150086618868469), (1666, 0.0041462811833524425), (1598, 0.004146162381630856), (522, 0.0041459996384537465), (1021, 0.004142145782650915), (2496, 0.004142064856926542), (1710, 0.004141723693269049), (2430, 0.004136190058360959), (4394, 0.004136179335193238), (1438, 0.0041359584648763235), (1245, 0.00413356433400839), (598, 0.004130589804518564), (2642, 0.004127404983656269), (29, 0.004127305463587382), (126, 0.0041268088002541), (2069, 0.0041258816279239946), (374, 0.004125726861540932), (2068, 0.004123878655286004), (3498, 0.004122772625908971), (3433, 0.004120269232379499), (962, 0.004119719620892961), (373, 0.004116165561348981), (4069, 0.004115949904076155), (2907, 0.004115795241190569), (1060, 0.004115639488455366), (3953, 0.00411543315945078), (852, 0.004114924322249948), (2634, 0.004114870110110971), (1446, 0.004113343676461046), (818, 0.004111135890242906), (3734, 0.004110334068347979), (3696, 0.0041094939892595125), (1628, 0.0041087901888245916), (4345, 0.004108666320297598), (2995, 0.0041083639966571425), (2540, 0.00410435957694916), (838, 0.004104287384697821), (119, 0.004103486009092267), (1667, 0.004103141939396158), (61, 0.004102490741985224), (2029, 0.004101107102387427), (1510, 0.004100070110005047), (2553, 0.004099994191972295), (3706, 0.004098827143908054), (3407, 0.004098610732168594), (3898, 0.004098321425474719), (3220, 0.004097126880593329), (3050, 0.004096609487449356), (1030, 0.00409475073448569), (3379, 0.004092212492422434), (3558, 0.00409142325211911), (880, 0.004090368523126027), (1448, 0.004087486943603885), (221, 0.0040833394302172725), (127, 0.00408198642326221), (2674, 0.004081302963777544), (2473, 0.004078944024113096), (1481, 0.004077320245981329), (2117, 0.004075879211262479), (3194, 0.004073655596639229), (1002, 0.00407340364367631), (4085, 0.004071940537906783), (488, 0.00406912201517885), (2467, 0.004068153852632207), (4591, 0.004067324208324084), (2556, 0.004066727306331498), (3293, 0.004066526795520245), (4154, 0.004065348731534298), (4536, 0.0040608706554827135), (4205, 0.004059482954844595), (1519, 0.004058244916227002), (1796, 0.004058006300185416), (1864, 0.004053752381581179), (3826, 0.004053607934884873), (1001, 0.0040533432064118495), (471, 0.004051985153987745), (3660, 0.004050505161710133), (1819, 0.004049273179044142), (388, 0.004046301492182155), (3352, 0.004046089602090315), (2004, 0.004044445419078414), (3240, 0.004041604967258954), (3399, 0.004041396152972724), (1177, 0.004039430285992488), (2743, 0.004037666283597942), (116, 0.0040370339699542235), (132, 0.004036068315560251), (356, 0.004035258065512938), (1478, 0.0040337109037623265), (4382, 0.004033631416228428), (2653, 0.004030353942935541), (1220, 0.004027722512912569), (2527, 0.004027256485419913), (3028, 0.004025386053465946), (907, 0.004024060611922064), (4282, 0.004022442746008043), (31, 0.004014838748666894), (3278, 0.004014475595948375), (1582, 0.004014128839290912), (975, 0.004013722905060465), (2482, 0.00401126009678645), (2862, 0.004009591111800226), (1884, 0.004007532462815917), (1514, 0.004007360367823229), (4257, 0.004006871555624066), (3447, 0.00400480271331332), (372, 0.004003223046894088), (589, 0.004002496560712636), (3503, 0.00399990706485413), (1608, 0.003999187075953016), (742, 0.003997549153664756), (3669, 0.0039962108863398176), (4479, 0.003992004935972209), (2800, 0.003989799520309287), (1375, 0.003988584420710645), (4638, 0.00398801057093495), (1206, 0.003986977393681691), (355, 0.003985797742053452), (4523, 0.003984609269000891), (2453, 0.0039839858316494765), (1372, 0.00398377198296555), (2347, 0.003982990136302466), (594, 0.003978874025806683), (734, 0.003978086895914126), (963, 0.003978078582246728), (359, 0.003977467792739355), (2899, 0.003977144238775061), (900, 0.0039769782203414135), (18, 0.003976846254054549), (2149, 0.003976564383058781), (1217, 0.003971626247120388), (2598, 0.003969472029233441), (2920, 0.003964408428961532), (252, 0.003963828757641382), (1065, 0.003962213112330666), (1340, 0.003960870610964887), (3954, 0.003959672599831388), (886, 0.003958614836003597), (2201, 0.0039584134865430845), (1107, 0.003954299552250012), (608, 0.003953161173760577), (200, 0.003950869239598285), (2367, 0.003950679921266738), (3311, 0.003947388171525165), (32, 0.003946776202917866), (3910, 0.003935532398893683), (2741, 0.003933117633471867), (934, 0.003932071688129822), (2803, 0.00392918590155665), (4350, 0.003926917612771146), (218, 0.003925450190759446), (1605, 0.003925154459581975), (788, 0.003922350658475532), (1760, 0.003919380794495196), (4402, 0.003918997934397442), (1209, 0.003918452534722502), (3829, 0.003914894836632001), (2265, 0.003914672387326946), (3705, 0.0039138012181867835), (307, 0.003912275626237059), (1462, 0.003912269178247709), (3755, 0.003910581833907249), (590, 0.003910386159025126), (3027, 0.0039091403790936), (2301, 0.0039065383607145635), (2191, 0.0039029328294324732), (136, 0.0039025578352867322), (1503, 0.003902045699526948), (910, 0.003901591442961209), (1427, 0.003900658159073473), (944, 0.0038993330661733208), (1675, 0.003899016282050353), (3284, 0.0038957791421774805), (2399, 0.003891515502024108), (1273, 0.0038862244656246037), (183, 0.0038847528886138873), (1477, 0.0038817528110887973), (968, 0.003881463800920554), (2031, 0.003880819014829622), (1875, 0.0038800162504325354), (15, 0.003876412540552877), (184, 0.0038751875018037036), (103, 0.003873506243223161), (3839, 0.0038710886839444254), (495, 0.0038706270932595513), (416, 0.003869625553251395), (744, 0.0038695745066118807), (4429, 0.003867921457181307), (4143, 0.0038671222282100114), (4066, 0.003867072509780817), (3304, 0.0038651628003477565), (703, 0.003864685497965284), (1627, 0.0038632600634244973), (558, 0.003863061724642252), (1865, 0.003859355355133631), (951, 0.003857609133905261), (3913, 0.003852686596072928), (286, 0.003851817633780668), (957, 0.0038507470179152516), (1763, 0.003850561454509832), (1080, 0.003847047646735171), (2747, 0.0038466881370916865), (604, 0.003843817605279225), (2611, 0.0038410605337383065), (851, 0.0038404228985463437), (1690, 0.003840223028437696), (936, 0.0038385908747725355), (1719, 0.003837694288262941), (2011, 0.0038360754477967354), (3880, 0.003836032927577468), (3956, 0.0038356027295180038), (1539, 0.0038307992897604402), (2771, 0.003829655806262764), (722, 0.00382792517206074), (2591, 0.003827526039611622), (1830, 0.003823719130161213), (3137, 0.003823032876711762), (3767, 0.003822328717552407), (3474, 0.003820622106576323), (2338, 0.00381627087944985), (3380, 0.003813324654399402), (1934, 0.0038130182801746834), (2724, 0.003810648369039273), (1199, 0.0038062379136986), (364, 0.0038048949470986322), (519, 0.0038036426840524144), (815, 0.0037993618487609632), (3569, 0.0037990762105078756), (267, 0.0037990059212809377), (33, 0.0037984614929820076), (1977, 0.0037941016191387735), (1136, 0.0037937024540939065), (3065, 0.003787199230684741), (672, 0.0037868812876267447), (2520, 0.0037848399392318276), (4074, 0.003784661397625813), (1251, 0.0037840804387746846), (657, 0.0037817827257336273), (800, 0.0037783836725123095), (705, 0.0037728152085824388), (1423, 0.0037719945700607216), (3108, 0.0037707784791930765), (2976, 0.003758457208006837), (3928, 0.0037577157959199597), (222, 0.0037573671460815116), (3360, 0.003751365711994414), (3393, 0.0037472435495192967), (808, 0.0037461302435452845), (480, 0.003745479707063078), (3895, 0.0037413550709393755), (1616, 0.0037397223187511574), (1414, 0.003737564777111129), (194, 0.003737195460177292), (4733, 0.003736803131286737), (3657, 0.0037281152593143774), (3111, 0.0037254962297414863), (4636, 0.003719370273782715), (496, 0.0037175253983128477), (2509, 0.0037164393458001175), (1040, 0.0037151336895524176), (4411, 0.0037144838273884258), (2237, 0.0037143874952953013), (16, 0.003699593101596695), (4151, 0.0036986093988563107), (3331, 0.0036963525915345487), (165, 0.0036959202307294656), (60, 0.0036951297924985153), (4432, 0.0036946704925464634), (403, 0.0036913968486454213), (3096, 0.0036908124630852593), (190, 0.0036874394056613372), (3409, 0.003686987218022021), (611, 0.003684169778422294), (1370, 0.003683968346782706), (1215, 0.0036779776670253918), (3575, 0.0036750765092977387), (1088, 0.003673971665450333), (4156, 0.0036678825679162057), (732, 0.0036671644772065), (1241, 0.0036664602983163736), (861, 0.003666401232338962), (4626, 0.0036634962271534766), (3471, 0.0036609018930752754), (2876, 0.0036516714485290694), (4344, 0.003649771579333252), (3927, 0.003649493395119118), (269, 0.003648877401850321), (796, 0.003643055221330033), (1078, 0.0036426454167170176), (3200, 0.003640505255534067), (2211, 0.0036343719765444594), (1828, 0.0036340662601016356), (2359, 0.0036338522750578), (626, 0.0036334264194150547), (1415, 0.003633034301101888), (707, 0.0036296444897785745), (3301, 0.003625139400502185), (2621, 0.0036183706241844807), (924, 0.003616857754228176), (44, 0.0036159410227596593), (2127, 0.0036127348121490813), (3347, 0.0036036318507724815), (441, 0.003603536011762102), (442, 0.003603302715132398), (63, 0.0036028256290367975), (1743, 0.0035926356068865695), (142, 0.0035868487380144756), (3344, 0.003579940022672682), (2563, 0.003575354138851806), (3024, 0.003571379162296249), (3534, 0.0035687972223417755), (1356, 0.0035653221040494822), (2758, 0.0035623585791035523), (2039, 0.0035542683877718417), (3091, 0.0035468551135700733), (843, 0.0035377563006573054), (616, 0.0035321221206956435), (2697, 0.0035308986095747064), (1305, 0.0035295978461176024), (2441, 0.0035222341513495643), (2010, 0.003510507503771233), (113, 0.0035058473720946844), (1886, 0.0034888365498887716), (3875, 0.003482660678766357), (2844, 0.003479823106445052), (3152, 0.003471825276631268), (453, 0.0034686810305540098), (156, 0.0034664150951232977), (1989, 0.0034536493248037256), (1303, 0.0034436780704172193), (4674, 0.0034404739095237774), (2917, 0.0034113433049539365), (407, 0.0034099801803664414), (2474, 0.003404441727016076), (1871, 0.003397076630117311), (2766, 0.003392787162847866), (256, 0.003392198197873841), (351, 0.0033831752970029335), (1005, 0.0033760951591136723), (271, 0.0033710388426288745), (2767, 0.003357169847952071), (2469, 0.003356916803583266), (571, 0.003343483770762711), (296, 0.003335707453626298), (3316, 0.0033316478892058297), (607, 0.00331665299222845), (562, 0.0033106124731748367), (1403, 0.003290503017062632), (266, 0.0032775398962360184), (1648, 0.003274196908637851), (3546, 0.0032101457637243617), (7, 0.0032046369800714544), (831, 0.0031978076960246992), (3365, 0.00307091630321559), (129, 0.003004418267080541), (455, 0.002996308868534947), (858, 0.0029904662055597127), (1509, 0.0029672461028297775), (2443, 0.002883016739815823), (3835, 0.0027938896047692034), (3328, 0.0027852158759333694), (2534, 0.001963727013763861), (2, 0.0), (4, 0.0), (6, 0.0), (13, 0.0), (14, 0.0), (17, 0.0), (20, 0.0), (22, 0.0), (24, 0.0), (26, 0.0), (27, 0.0), (30, 0.0), (35, 0.0), (36, 0.0), (37, 0.0), (38, 0.0), (39, 0.0), (40, 0.0), (46, 0.0), (47, 0.0), (50, 0.0), (55, 0.0), (56, 0.0), (57, 0.0), (65, 0.0), (67, 0.0), (69, 0.0), (70, 0.0), (77, 0.0), (78, 0.0), (80, 0.0), (81, 0.0), (82, 0.0), (88, 0.0), (90, 0.0), (91, 0.0), (93, 0.0), (94, 0.0), (95, 0.0), (98, 0.0), (99, 0.0), (100, 0.0), (101, 0.0), (102, 0.0), (110, 0.0), (118, 0.0), (125, 0.0), (128, 0.0), (130, 0.0), (134, 0.0), (138, 0.0), (139, 0.0), (140, 0.0), (143, 0.0), (150, 0.0), (151, 0.0), (152, 0.0), (153, 0.0), (154, 0.0), (157, 0.0), (158, 0.0), (159, 0.0), (160, 0.0), (163, 0.0), (164, 0.0), (167, 0.0), (168, 0.0), (171, 0.0), (175, 0.0), (176, 0.0), (177, 0.0), (179, 0.0), (182, 0.0), (185, 0.0), (186, 0.0), (189, 0.0), (203, 0.0), (212, 0.0), (213, 0.0), (214, 0.0), (217, 0.0), (220, 0.0), (223, 0.0), (225, 0.0), (229, 0.0), (230, 0.0), (231, 0.0), (232, 0.0), (233, 0.0), (234, 0.0), (235, 0.0), (239, 0.0), (241, 0.0), (245, 0.0), (247, 0.0), (248, 0.0), (250, 0.0), (258, 0.0), (260, 0.0), (261, 0.0), (262, 0.0), (263, 0.0), (264, 0.0), (265, 0.0), (268, 0.0), (272, 0.0), (273, 0.0), (275, 0.0), (278, 0.0), (279, 0.0), (284, 0.0), (289, 0.0), (290, 0.0), (291, 0.0), (292, 0.0), (293, 0.0), (295, 0.0), (297, 0.0), (298, 0.0), (300, 0.0), (301, 0.0), (303, 0.0), (304, 0.0), (305, 0.0), (308, 0.0), (310, 0.0), (312, 0.0), (313, 0.0), (316, 0.0), (319, 0.0), (320, 0.0), (327, 0.0), (328, 0.0), (331, 0.0), (332, 0.0), (336, 0.0), (337, 0.0), (339, 0.0), (340, 0.0), (341, 0.0), (346, 0.0), (347, 0.0), (352, 0.0), (361, 0.0), (362, 0.0), (363, 0.0), (365, 0.0), (367, 0.0), (375, 0.0), (378, 0.0), (379, 0.0), (380, 0.0), (386, 0.0), (389, 0.0), (390, 0.0), (393, 0.0), (395, 0.0), (397, 0.0), (398, 0.0), (402, 0.0), (404, 0.0), (409, 0.0), (411, 0.0), (412, 0.0), (413, 0.0), (414, 0.0), (415, 0.0), (417, 0.0), (420, 0.0), (421, 0.0), (422, 0.0), (424, 0.0), (425, 0.0), (426, 0.0), (427, 0.0), (432, 0.0), (438, 0.0), (444, 0.0), (446, 0.0), (449, 0.0), (454, 0.0), (459, 0.0), (460, 0.0), (462, 0.0), (467, 0.0), (468, 0.0), (473, 0.0), (476, 0.0), (477, 0.0), (484, 0.0), (489, 0.0), (491, 0.0), (498, 0.0), (499, 0.0), (505, 0.0), (507, 0.0), (508, 0.0), (512, 0.0), (514, 0.0), (516, 0.0), (518, 0.0), (521, 0.0), (523, 0.0), (524, 0.0), (525, 0.0), (526, 0.0), (527, 0.0), (529, 0.0), (531, 0.0), (532, 0.0), (536, 0.0), (537, 0.0), (538, 0.0), (539, 0.0), (540, 0.0), (546, 0.0), (549, 0.0), (550, 0.0), (554, 0.0), (557, 0.0), (559, 0.0), (560, 0.0), (565, 0.0), (567, 0.0), (568, 0.0), (570, 0.0), (573, 0.0), (574, 0.0), (581, 0.0), (582, 0.0), (585, 0.0), (586, 0.0), (591, 0.0), (592, 0.0), (593, 0.0), (595, 0.0), (597, 0.0), (599, 0.0), (600, 0.0), (601, 0.0), (602, 0.0), (603, 0.0), (610, 0.0), (615, 0.0), (618, 0.0), (620, 0.0), (625, 0.0), (630, 0.0), (631, 0.0), (632, 0.0), (633, 0.0), (634, 0.0), (635, 0.0), (639, 0.0), (647, 0.0), (648, 0.0), (650, 0.0), (661, 0.0), (664, 0.0), (666, 0.0), (671, 0.0), (674, 0.0), (677, 0.0), (678, 0.0), (680, 0.0), (681, 0.0), (686, 0.0), (691, 0.0), (694, 0.0), (699, 0.0), (700, 0.0), (704, 0.0), (706, 0.0), (708, 0.0), (711, 0.0), (714, 0.0), (715, 0.0), (720, 0.0), (724, 0.0), (725, 0.0), (730, 0.0), (731, 0.0), (736, 0.0), (737, 0.0), (741, 0.0), (745, 0.0), (746, 0.0), (747, 0.0), (748, 0.0), (751, 0.0), (752, 0.0), (754, 0.0), (756, 0.0), (758, 0.0), (759, 0.0), (762, 0.0), (763, 0.0), (764, 0.0), (765, 0.0), (766, 0.0), (768, 0.0), (770, 0.0), (771, 0.0), (772, 0.0), (773, 0.0), (775, 0.0), (776, 0.0), (779, 0.0), (780, 0.0), (782, 0.0), (784, 0.0), (789, 0.0), (791, 0.0), (803, 0.0), (805, 0.0), (811, 0.0), (819, 0.0), (821, 0.0), (823, 0.0), (825, 0.0), (836, 0.0), (839, 0.0), (841, 0.0), (855, 0.0), (862, 0.0), (863, 0.0), (868, 0.0), (873, 0.0), (875, 0.0), (877, 0.0), (881, 0.0), (882, 0.0), (883, 0.0), (884, 0.0), (890, 0.0), (893, 0.0), (899, 0.0), (901, 0.0), (902, 0.0), (911, 0.0), (913, 0.0), (914, 0.0), (917, 0.0), (919, 0.0), (921, 0.0), (922, 0.0), (927, 0.0), (928, 0.0), (932, 0.0), (933, 0.0), (935, 0.0), (941, 0.0), (943, 0.0), (945, 0.0), (949, 0.0), (950, 0.0), (954, 0.0), (955, 0.0), (958, 0.0), (960, 0.0), (964, 0.0), (965, 0.0), (970, 0.0), (972, 0.0), (973, 0.0), (974, 0.0), (977, 0.0), (979, 0.0), (983, 0.0), (990, 0.0), (993, 0.0), (995, 0.0), (996, 0.0), (997, 0.0), (1003, 0.0), (1004, 0.0), (1008, 0.0), (1010, 0.0), (1011, 0.0), (1012, 0.0), (1013, 0.0), (1014, 0.0), (1016, 0.0), (1025, 0.0), (1031, 0.0), (1033, 0.0), (1037, 0.0), (1038, 0.0), (1039, 0.0), (1043, 0.0), (1045, 0.0), (1046, 0.0), (1047, 0.0), (1048, 0.0), (1051, 0.0), (1054, 0.0), (1055, 0.0), (1056, 0.0), (1057, 0.0), (1059, 0.0), (1066, 0.0), (1067, 0.0), (1069, 0.0), (1070, 0.0), (1073, 0.0), (1085, 0.0), (1087, 0.0), (1089, 0.0), (1091, 0.0), (1093, 0.0), (1094, 0.0), (1095, 0.0), (1096, 0.0), (1097, 0.0), (1098, 0.0), (1099, 0.0), (1100, 0.0), (1101, 0.0), (1104, 0.0), (1105, 0.0), (1106, 0.0), (1108, 0.0), (1110, 0.0), (1111, 0.0), (1112, 0.0), (1113, 0.0), (1114, 0.0), (1117, 0.0), (1120, 0.0), (1121, 0.0), (1124, 0.0), (1126, 0.0), (1127, 0.0), (1129, 0.0), (1133, 0.0), (1134, 0.0), (1135, 0.0), (1139, 0.0), (1142, 0.0), (1144, 0.0), (1145, 0.0), (1147, 0.0), (1149, 0.0), (1152, 0.0), (1154, 0.0), (1155, 0.0), (1156, 0.0), (1158, 0.0), (1159, 0.0), (1162, 0.0), (1164, 0.0), (1165, 0.0), (1166, 0.0), (1167, 0.0), (1168, 0.0), (1169, 0.0), (1171, 0.0), (1172, 0.0), (1174, 0.0), (1178, 0.0), (1181, 0.0), (1189, 0.0), (1190, 0.0), (1193, 0.0), (1194, 0.0), (1198, 0.0), (1201, 0.0), (1203, 0.0), (1204, 0.0), (1210, 0.0), (1211, 0.0), (1212, 0.0), (1213, 0.0), (1214, 0.0), (1218, 0.0), (1222, 0.0), (1226, 0.0), (1227, 0.0), (1228, 0.0), (1235, 0.0), (1238, 0.0), (1239, 0.0), (1240, 0.0), (1242, 0.0), (1243, 0.0), (1244, 0.0), (1246, 0.0), (1253, 0.0), (1254, 0.0), (1258, 0.0), (1259, 0.0), (1260, 0.0), (1262, 0.0), (1265, 0.0), (1266, 0.0), (1267, 0.0), (1268, 0.0), (1269, 0.0), (1271, 0.0), (1272, 0.0), (1274, 0.0), (1277, 0.0), (1278, 0.0), (1280, 0.0), (1281, 0.0), (1282, 0.0), (1287, 0.0), (1288, 0.0), (1289, 0.0), (1291, 0.0), (1293, 0.0), (1294, 0.0), (1295, 0.0), (1297, 0.0), (1298, 0.0), (1299, 0.0), (1301, 0.0), (1302, 0.0), (1307, 0.0), (1310, 0.0), (1311, 0.0), (1315, 0.0), (1316, 0.0), (1319, 0.0), (1321, 0.0), (1322, 0.0), (1323, 0.0), (1326, 0.0), (1327, 0.0), (1328, 0.0), (1329, 0.0), (1332, 0.0), (1333, 0.0), (1336, 0.0), (1341, 0.0), (1342, 0.0), (1345, 0.0), (1346, 0.0), (1355, 0.0), (1358, 0.0), (1359, 0.0), (1361, 0.0), (1362, 0.0), (1363, 0.0), (1366, 0.0), (1367, 0.0), (1368, 0.0), (1373, 0.0), (1374, 0.0), (1376, 0.0), (1380, 0.0), (1381, 0.0), (1386, 0.0), (1389, 0.0), (1390, 0.0), (1391, 0.0), (1392, 0.0), (1393, 0.0), (1395, 0.0), (1396, 0.0), (1397, 0.0), (1399, 0.0), (1404, 0.0), (1407, 0.0), (1409, 0.0), (1420, 0.0), (1426, 0.0), (1430, 0.0), (1433, 0.0), (1434, 0.0), (1437, 0.0), (1439, 0.0), (1441, 0.0), (1443, 0.0), (1445, 0.0), (1447, 0.0), (1449, 0.0), (1450, 0.0), (1451, 0.0), (1452, 0.0), (1453, 0.0), (1460, 0.0), (1464, 0.0), (1465, 0.0), (1467, 0.0), (1468, 0.0), (1469, 0.0), (1473, 0.0), (1479, 0.0), (1484, 0.0), (1485, 0.0), (1486, 0.0), (1487, 0.0), (1490, 0.0), (1491, 0.0), (1493, 0.0), (1494, 0.0), (1495, 0.0), (1496, 0.0), (1497, 0.0), (1499, 0.0), (1500, 0.0), (1501, 0.0), (1502, 0.0), (1504, 0.0), (1505, 0.0), (1507, 0.0), (1508, 0.0), (1511, 0.0), (1512, 0.0), (1515, 0.0), (1516, 0.0), (1520, 0.0), (1522, 0.0), (1525, 0.0), (1526, 0.0), (1529, 0.0), (1530, 0.0), (1531, 0.0), (1532, 0.0), (1535, 0.0), (1536, 0.0), (1538, 0.0), (1540, 0.0), (1545, 0.0), (1548, 0.0), (1549, 0.0), (1550, 0.0), (1552, 0.0), (1555, 0.0), (1556, 0.0), (1559, 0.0), (1560, 0.0), (1562, 0.0), (1563, 0.0), (1564, 0.0), (1567, 0.0), (1568, 0.0), (1569, 0.0), (1573, 0.0), (1574, 0.0), (1576, 0.0), (1578, 0.0), (1580, 0.0), (1583, 0.0), (1586, 0.0), (1588, 0.0), (1590, 0.0), (1593, 0.0), (1594, 0.0), (1596, 0.0), (1599, 0.0), (1600, 0.0), (1601, 0.0), (1602, 0.0), (1603, 0.0), (1604, 0.0), (1607, 0.0), (1609, 0.0), (1611, 0.0), (1612, 0.0), (1613, 0.0), (1615, 0.0), (1617, 0.0), (1618, 0.0), (1623, 0.0), (1625, 0.0), (1626, 0.0), (1631, 0.0), (1633, 0.0), (1635, 0.0), (1636, 0.0), (1638, 0.0), (1640, 0.0), (1641, 0.0), (1642, 0.0), (1644, 0.0), (1647, 0.0), (1650, 0.0), (1651, 0.0), (1652, 0.0), (1656, 0.0), (1659, 0.0), (1661, 0.0), (1663, 0.0), (1664, 0.0), (1668, 0.0), (1669, 0.0), (1670, 0.0), (1672, 0.0), (1676, 0.0), (1681, 0.0), (1684, 0.0), (1686, 0.0), (1688, 0.0), (1691, 0.0), (1692, 0.0), (1696, 0.0), (1697, 0.0), (1699, 0.0), (1700, 0.0), (1702, 0.0), (1708, 0.0), (1709, 0.0), (1712, 0.0), (1713, 0.0), (1715, 0.0), (1718, 0.0), (1720, 0.0), (1721, 0.0), (1723, 0.0), (1725, 0.0), (1726, 0.0), (1728, 0.0), (1729, 0.0), (1731, 0.0), (1732, 0.0), (1733, 0.0), (1734, 0.0), (1738, 0.0), (1741, 0.0), (1742, 0.0), (1746, 0.0), (1749, 0.0), (1750, 0.0), (1751, 0.0), (1753, 0.0), (1755, 0.0), (1758, 0.0), (1759, 0.0), (1761, 0.0), (1765, 0.0), (1766, 0.0), (1769, 0.0), (1770, 0.0), (1771, 0.0), (1773, 0.0), (1775, 0.0), (1778, 0.0), (1781, 0.0), (1784, 0.0), (1785, 0.0), (1786, 0.0), (1788, 0.0), (1789, 0.0), (1790, 0.0), (1791, 0.0), (1792, 0.0), (1794, 0.0), (1795, 0.0), (1799, 0.0), (1800, 0.0), (1801, 0.0), (1802, 0.0), (1803, 0.0), (1804, 0.0), (1805, 0.0), (1807, 0.0), (1808, 0.0), (1809, 0.0), (1810, 0.0), (1811, 0.0), (1812, 0.0), (1814, 0.0), (1825, 0.0), (1826, 0.0), (1829, 0.0), (1831, 0.0), (1834, 0.0), (1836, 0.0), (1837, 0.0), (1839, 0.0), (1841, 0.0), (1842, 0.0), (1843, 0.0), (1844, 0.0), (1849, 0.0), (1852, 0.0), (1855, 0.0), (1856, 0.0), (1859, 0.0), (1860, 0.0), (1863, 0.0), (1868, 0.0), (1870, 0.0), (1872, 0.0), (1873, 0.0), (1877, 0.0), (1879, 0.0), (1880, 0.0), (1881, 0.0), (1883, 0.0), (1888, 0.0), (1889, 0.0), (1894, 0.0), (1898, 0.0), (1900, 0.0), (1901, 0.0), (1903, 0.0), (1904, 0.0), (1906, 0.0), (1908, 0.0), (1910, 0.0), (1911, 0.0), (1914, 0.0), (1917, 0.0), (1921, 0.0), (1926, 0.0), (1927, 0.0), (1928, 0.0), (1929, 0.0), (1935, 0.0), (1938, 0.0), (1939, 0.0), (1941, 0.0), (1944, 0.0), (1948, 0.0), (1952, 0.0), (1953, 0.0), (1955, 0.0), (1956, 0.0), (1957, 0.0), (1959, 0.0), (1961, 0.0), (1962, 0.0), (1965, 0.0), (1972, 0.0), (1973, 0.0), (1974, 0.0), (1975, 0.0), (1976, 0.0), (1980, 0.0), (1984, 0.0), (1986, 0.0), (1988, 0.0), (1991, 0.0), (1994, 0.0), (1996, 0.0), (1999, 0.0), (2001, 0.0), (2002, 0.0), (2003, 0.0), (2006, 0.0), (2012, 0.0), (2014, 0.0), (2015, 0.0), (2017, 0.0), (2018, 0.0), (2020, 0.0), (2021, 0.0), (2028, 0.0), (2030, 0.0), (2032, 0.0), (2033, 0.0), (2036, 0.0), (2038, 0.0), (2041, 0.0), (2046, 0.0), (2050, 0.0), (2052, 0.0), (2057, 0.0), (2058, 0.0), (2059, 0.0), (2060, 0.0), (2063, 0.0), (2066, 0.0), (2071, 0.0), (2072, 0.0), (2077, 0.0), (2081, 0.0), (2084, 0.0), (2085, 0.0), (2086, 0.0), (2090, 0.0), (2092, 0.0), (2094, 0.0), (2095, 0.0), (2098, 0.0), (2099, 0.0), (2101, 0.0), (2106, 0.0), (2107, 0.0), (2109, 0.0), (2111, 0.0), (2113, 0.0), (2115, 0.0), (2123, 0.0), (2124, 0.0), (2125, 0.0), (2128, 0.0), (2133, 0.0), (2136, 0.0), (2137, 0.0), (2138, 0.0), (2139, 0.0), (2140, 0.0), (2141, 0.0), (2142, 0.0), (2145, 0.0), (2146, 0.0), (2148, 0.0), (2150, 0.0), (2151, 0.0), (2156, 0.0), (2160, 0.0), (2161, 0.0), (2164, 0.0), (2165, 0.0), (2166, 0.0), (2167, 0.0), (2168, 0.0), (2170, 0.0), (2171, 0.0), (2172, 0.0), (2173, 0.0), (2175, 0.0), (2177, 0.0), (2179, 0.0), (2180, 0.0), (2181, 0.0), (2182, 0.0), (2183, 0.0), (2184, 0.0), (2186, 0.0), (2189, 0.0), (2190, 0.0), (2192, 0.0), (2193, 0.0), (2197, 0.0), (2198, 0.0), (2200, 0.0), (2202, 0.0), (2204, 0.0), (2207, 0.0), (2209, 0.0), (2213, 0.0), (2218, 0.0), (2219, 0.0), (2220, 0.0), (2222, 0.0), (2225, 0.0), (2227, 0.0), (2228, 0.0), (2231, 0.0), (2233, 0.0), (2234, 0.0), (2236, 0.0), (2238, 0.0), (2241, 0.0), (2243, 0.0), (2244, 0.0), (2246, 0.0), (2247, 0.0), (2248, 0.0), (2249, 0.0), (2252, 0.0), (2253, 0.0), (2256, 0.0), (2258, 0.0), (2259, 0.0), (2261, 0.0), (2262, 0.0), (2263, 0.0), (2267, 0.0), (2268, 0.0), (2270, 0.0), (2278, 0.0), (2282, 0.0), (2283, 0.0), (2285, 0.0), (2288, 0.0), (2290, 0.0), (2291, 0.0), (2292, 0.0), (2293, 0.0), (2294, 0.0), (2296, 0.0), (2297, 0.0), (2298, 0.0), (2299, 0.0), (2300, 0.0), (2303, 0.0), (2304, 0.0), (2305, 0.0), (2306, 0.0), (2307, 0.0), (2308, 0.0), (2309, 0.0), (2310, 0.0), (2312, 0.0), (2314, 0.0), (2324, 0.0), (2325, 0.0), (2328, 0.0), (2329, 0.0), (2332, 0.0), (2333, 0.0), (2335, 0.0), (2336, 0.0), (2339, 0.0), (2341, 0.0), (2342, 0.0), (2343, 0.0), (2345, 0.0), (2351, 0.0), (2353, 0.0), (2354, 0.0), (2356, 0.0), (2357, 0.0), (2363, 0.0), (2364, 0.0), (2368, 0.0), (2369, 0.0), (2370, 0.0), (2371, 0.0), (2373, 0.0), (2376, 0.0), (2377, 0.0), (2378, 0.0), (2380, 0.0), (2381, 0.0), (2383, 0.0), (2385, 0.0), (2387, 0.0), (2389, 0.0), (2392, 0.0), (2395, 0.0), (2398, 0.0), (2401, 0.0), (2404, 0.0), (2408, 0.0), (2416, 0.0), (2417, 0.0), (2419, 0.0), (2420, 0.0), (2421, 0.0), (2424, 0.0), (2425, 0.0), (2426, 0.0), (2429, 0.0), (2431, 0.0), (2432, 0.0), (2433, 0.0), (2439, 0.0), (2440, 0.0), (2442, 0.0), (2446, 0.0), (2450, 0.0), (2451, 0.0), (2452, 0.0), (2454, 0.0), (2455, 0.0), (2456, 0.0), (2463, 0.0), (2470, 0.0), (2471, 0.0), (2472, 0.0), (2476, 0.0), (2480, 0.0), (2481, 0.0), (2483, 0.0), (2485, 0.0), (2491, 0.0), (2495, 0.0), (2497, 0.0), (2498, 0.0), (2499, 0.0), (2500, 0.0), (2501, 0.0), (2503, 0.0), (2504, 0.0), (2506, 0.0), (2507, 0.0), (2508, 0.0), (2510, 0.0), (2513, 0.0), (2515, 0.0), (2516, 0.0), (2518, 0.0), (2519, 0.0), (2521, 0.0), (2523, 0.0), (2524, 0.0), (2525, 0.0), (2532, 0.0), (2533, 0.0), (2536, 0.0), (2537, 0.0), (2542, 0.0), (2543, 0.0), (2544, 0.0), (2545, 0.0), (2547, 0.0), (2548, 0.0), (2551, 0.0), (2557, 0.0), (2561, 0.0), (2562, 0.0), (2564, 0.0), (2566, 0.0), (2567, 0.0), (2569, 0.0), (2572, 0.0), (2573, 0.0), (2574, 0.0), (2576, 0.0), (2577, 0.0), (2578, 0.0), (2582, 0.0), (2583, 0.0), (2585, 0.0), (2586, 0.0), (2589, 0.0), (2590, 0.0), (2594, 0.0), (2595, 0.0), (2596, 0.0), (2597, 0.0), (2599, 0.0), (2600, 0.0), (2604, 0.0), (2605, 0.0), (2608, 0.0), (2610, 0.0), (2613, 0.0), (2616, 0.0), (2619, 0.0), (2620, 0.0), (2624, 0.0), (2626, 0.0), (2627, 0.0), (2628, 0.0), (2630, 0.0), (2635, 0.0), (2637, 0.0), (2639, 0.0), (2640, 0.0), (2641, 0.0), (2644, 0.0), (2646, 0.0), (2651, 0.0), (2654, 0.0), (2656, 0.0), (2657, 0.0), (2658, 0.0), (2659, 0.0), (2663, 0.0), (2665, 0.0), (2666, 0.0), (2667, 0.0), (2669, 0.0), (2670, 0.0), (2672, 0.0), (2673, 0.0), (2676, 0.0), (2677, 0.0), (2679, 0.0), (2680, 0.0), (2681, 0.0), (2682, 0.0), (2683, 0.0), (2685, 0.0), (2686, 0.0), (2688, 0.0), (2689, 0.0), (2690, 0.0), (2691, 0.0), (2693, 0.0), (2694, 0.0), (2700, 0.0), (2701, 0.0), (2703, 0.0), (2704, 0.0), (2707, 0.0), (2708, 0.0), (2710, 0.0), (2713, 0.0), (2715, 0.0), (2717, 0.0), (2719, 0.0), (2721, 0.0), (2722, 0.0), (2723, 0.0), (2725, 0.0), (2726, 0.0), (2729, 0.0), (2730, 0.0), (2732, 0.0), (2733, 0.0), (2735, 0.0), (2737, 0.0), (2738, 0.0), (2750, 0.0), (2753, 0.0), (2759, 0.0), (2762, 0.0), (2763, 0.0), (2765, 0.0), (2773, 0.0), (2774, 0.0), (2783, 0.0), (2787, 0.0), (2788, 0.0), (2789, 0.0), (2792, 0.0), (2793, 0.0), (2794, 0.0), (2799, 0.0), (2801, 0.0), (2804, 0.0), (2805, 0.0), (2807, 0.0), (2810, 0.0), (2814, 0.0), (2815, 0.0), (2816, 0.0), (2818, 0.0), (2819, 0.0), (2820, 0.0), (2823, 0.0), (2824, 0.0), (2825, 0.0), (2827, 0.0), (2828, 0.0), (2829, 0.0), (2833, 0.0), (2835, 0.0), (2836, 0.0), (2837, 0.0), (2839, 0.0), (2843, 0.0), (2847, 0.0), (2850, 0.0), (2852, 0.0), (2853, 0.0), (2855, 0.0), (2856, 0.0), (2858, 0.0), (2860, 0.0), (2861, 0.0), (2863, 0.0), (2864, 0.0), (2865, 0.0), (2866, 0.0), (2867, 0.0), (2869, 0.0), (2873, 0.0), (2875, 0.0), (2880, 0.0), (2882, 0.0), (2885, 0.0), (2891, 0.0), (2895, 0.0), (2896, 0.0), (2898, 0.0), (2900, 0.0), (2902, 0.0), (2905, 0.0), (2906, 0.0), (2909, 0.0), (2912, 0.0), (2922, 0.0), (2923, 0.0), (2927, 0.0), (2928, 0.0), (2930, 0.0), (2935, 0.0), (2936, 0.0), (2938, 0.0), (2940, 0.0), (2941, 0.0), (2947, 0.0), (2948, 0.0), (2950, 0.0), (2951, 0.0), (2953, 0.0), (2954, 0.0), (2955, 0.0), (2957, 0.0), (2959, 0.0), (2960, 0.0), (2962, 0.0), (2964, 0.0), (2967, 0.0), (2970, 0.0), (2971, 0.0), (2973, 0.0), (2979, 0.0), (2983, 0.0), (2984, 0.0), (2987, 0.0), (2990, 0.0), (2992, 0.0), (2993, 0.0), (2994, 0.0), (2997, 0.0), (3000, 0.0), (3002, 0.0), (3003, 0.0), (3005, 0.0), (3007, 0.0), (3008, 0.0), (3009, 0.0), (3016, 0.0), (3017, 0.0), (3020, 0.0), (3022, 0.0), (3023, 0.0), (3029, 0.0), (3030, 0.0), (3031, 0.0), (3033, 0.0), (3035, 0.0), (3038, 0.0), (3039, 0.0), (3041, 0.0), (3042, 0.0), (3045, 0.0), (3046, 0.0), (3047, 0.0), (3048, 0.0), (3049, 0.0), (3052, 0.0), (3053, 0.0), (3054, 0.0), (3055, 0.0), (3057, 0.0), (3058, 0.0), (3059, 0.0), (3061, 0.0), (3064, 0.0), (3066, 0.0), (3068, 0.0), (3073, 0.0), (3077, 0.0), (3078, 0.0), (3079, 0.0), (3080, 0.0), (3083, 0.0), (3085, 0.0), (3088, 0.0), (3089, 0.0), (3092, 0.0), (3093, 0.0), (3098, 0.0), (3100, 0.0), (3101, 0.0), (3102, 0.0), (3103, 0.0), (3104, 0.0), (3105, 0.0), (3106, 0.0), (3107, 0.0), (3113, 0.0), (3114, 0.0), (3115, 0.0), (3124, 0.0), (3126, 0.0), (3127, 0.0), (3128, 0.0), (3129, 0.0), (3130, 0.0), (3131, 0.0), (3132, 0.0), (3134, 0.0), (3135, 0.0), (3136, 0.0), (3138, 0.0), (3139, 0.0), (3141, 0.0), (3143, 0.0), (3150, 0.0), (3156, 0.0), (3157, 0.0), (3159, 0.0), (3162, 0.0), (3163, 0.0), (3164, 0.0), (3172, 0.0), (3173, 0.0), (3175, 0.0), (3176, 0.0), (3180, 0.0), (3185, 0.0), (3186, 0.0), (3190, 0.0), (3191, 0.0), (3193, 0.0), (3197, 0.0), (3201, 0.0), (3202, 0.0), (3203, 0.0), (3204, 0.0), (3205, 0.0), (3206, 0.0), (3207, 0.0), (3211, 0.0), (3212, 0.0), (3216, 0.0), (3217, 0.0), (3222, 0.0), (3224, 0.0), (3225, 0.0), (3229, 0.0), (3230, 0.0), (3231, 0.0), (3236, 0.0), (3238, 0.0), (3239, 0.0), (3250, 0.0), (3251, 0.0), (3252, 0.0), (3253, 0.0), (3255, 0.0), (3256, 0.0), (3261, 0.0), (3263, 0.0), (3264, 0.0), (3266, 0.0), (3270, 0.0), (3271, 0.0), (3277, 0.0), (3280, 0.0), (3286, 0.0), (3287, 0.0), (3288, 0.0), (3290, 0.0), (3294, 0.0), (3295, 0.0), (3299, 0.0), (3307, 0.0), (3309, 0.0), (3310, 0.0), (3319, 0.0), (3320, 0.0), (3322, 0.0), (3323, 0.0), (3324, 0.0), (3329, 0.0), (3333, 0.0), (3335, 0.0), (3336, 0.0), (3338, 0.0), (3339, 0.0), (3340, 0.0), (3341, 0.0), (3345, 0.0), (3350, 0.0), (3351, 0.0), (3354, 0.0), (3358, 0.0), (3361, 0.0), (3362, 0.0), (3366, 0.0), (3368, 0.0), (3369, 0.0), (3372, 0.0), (3376, 0.0), (3378, 0.0), (3381, 0.0), (3383, 0.0), (3385, 0.0), (3387, 0.0), (3396, 0.0), (3397, 0.0), (3398, 0.0), (3400, 0.0), (3401, 0.0), (3404, 0.0), (3405, 0.0), (3410, 0.0), (3411, 0.0), (3412, 0.0), (3415, 0.0), (3419, 0.0), (3420, 0.0), (3424, 0.0), (3426, 0.0), (3428, 0.0), (3429, 0.0), (3430, 0.0), (3431, 0.0), (3432, 0.0), (3434, 0.0), (3438, 0.0), (3440, 0.0), (3442, 0.0), (3443, 0.0), (3444, 0.0), (3446, 0.0), (3448, 0.0), (3451, 0.0), (3452, 0.0), (3454, 0.0), (3455, 0.0), (3457, 0.0), (3459, 0.0), (3462, 0.0), (3463, 0.0), (3464, 0.0), (3466, 0.0), (3467, 0.0), (3468, 0.0), (3469, 0.0), (3470, 0.0), (3472, 0.0), (3473, 0.0), (3476, 0.0), (3478, 0.0), (3480, 0.0), (3481, 0.0), (3482, 0.0), (3485, 0.0), (3486, 0.0), (3489, 0.0), (3490, 0.0), (3491, 0.0), (3494, 0.0), (3495, 0.0), (3499, 0.0), (3502, 0.0), (3505, 0.0), (3507, 0.0), (3508, 0.0), (3509, 0.0), (3510, 0.0), (3513, 0.0), (3514, 0.0), (3515, 0.0), (3518, 0.0), (3519, 0.0), (3520, 0.0), (3522, 0.0), (3523, 0.0), (3528, 0.0), (3529, 0.0), (3530, 0.0), (3531, 0.0), (3532, 0.0), (3533, 0.0), (3536, 0.0), (3537, 0.0), (3538, 0.0), (3540, 0.0), (3543, 0.0), (3544, 0.0), (3545, 0.0), (3548, 0.0), (3549, 0.0), (3550, 0.0), (3555, 0.0), (3559, 0.0), (3561, 0.0), (3562, 0.0), (3565, 0.0), (3566, 0.0), (3567, 0.0), (3568, 0.0), (3570, 0.0), (3572, 0.0), (3573, 0.0), (3574, 0.0), (3576, 0.0), (3578, 0.0), (3581, 0.0), (3583, 0.0), (3584, 0.0), (3587, 0.0), (3588, 0.0), (3592, 0.0), (3595, 0.0), (3597, 0.0), (3598, 0.0), (3599, 0.0), (3600, 0.0), (3603, 0.0), (3604, 0.0), (3605, 0.0), (3606, 0.0), (3607, 0.0), (3608, 0.0), (3609, 0.0), (3611, 0.0), (3615, 0.0), (3616, 0.0), (3617, 0.0), (3619, 0.0), (3621, 0.0), (3622, 0.0), (3625, 0.0), (3628, 0.0), (3629, 0.0), (3630, 0.0), (3631, 0.0), (3632, 0.0), (3636, 0.0), (3644, 0.0), (3647, 0.0), (3648, 0.0), (3649, 0.0), (3650, 0.0), (3661, 0.0), (3662, 0.0), (3663, 0.0), (3665, 0.0), (3668, 0.0), (3671, 0.0), (3672, 0.0), (3676, 0.0), (3677, 0.0), (3678, 0.0), (3679, 0.0), (3681, 0.0), (3682, 0.0), (3686, 0.0), (3687, 0.0), (3688, 0.0), (3691, 0.0), (3693, 0.0), (3695, 0.0), (3697, 0.0), (3698, 0.0), (3700, 0.0), (3701, 0.0), (3702, 0.0), (3703, 0.0), (3709, 0.0), (3710, 0.0), (3712, 0.0), (3713, 0.0), (3714, 0.0), (3715, 0.0), (3716, 0.0), (3717, 0.0), (3719, 0.0), (3721, 0.0), (3722, 0.0), (3723, 0.0), (3724, 0.0), (3725, 0.0), (3729, 0.0), (3730, 0.0), (3733, 0.0), (3735, 0.0), (3736, 0.0), (3737, 0.0), (3738, 0.0), (3743, 0.0), (3744, 0.0), (3746, 0.0), (3747, 0.0), (3748, 0.0), (3752, 0.0), (3753, 0.0), (3757, 0.0), (3758, 0.0), (3759, 0.0), (3760, 0.0), (3761, 0.0), (3762, 0.0), (3764, 0.0), (3768, 0.0), (3770, 0.0), (3773, 0.0), (3775, 0.0), (3776, 0.0), (3779, 0.0), (3781, 0.0), (3782, 0.0), (3783, 0.0), (3785, 0.0), (3786, 0.0), (3787, 0.0), (3788, 0.0), (3789, 0.0), (3791, 0.0), (3793, 0.0), (3795, 0.0), (3796, 0.0), (3798, 0.0), (3800, 0.0), (3802, 0.0), (3803, 0.0), (3804, 0.0), (3805, 0.0), (3806, 0.0), (3810, 0.0), (3814, 0.0), (3815, 0.0), (3816, 0.0), (3817, 0.0), (3818, 0.0), (3820, 0.0), (3821, 0.0), (3823, 0.0), (3824, 0.0), (3825, 0.0), (3833, 0.0), (3834, 0.0), (3836, 0.0), (3837, 0.0), (3838, 0.0), (3840, 0.0), (3841, 0.0), (3844, 0.0), (3846, 0.0), (3847, 0.0), (3851, 0.0), (3852, 0.0), (3856, 0.0), (3857, 0.0), (3858, 0.0), (3859, 0.0), (3861, 0.0), (3863, 0.0), (3864, 0.0), (3865, 0.0), (3869, 0.0), (3870, 0.0), (3871, 0.0), (3872, 0.0), (3874, 0.0), (3877, 0.0), (3878, 0.0), (3879, 0.0), (3881, 0.0), (3885, 0.0), (3887, 0.0), (3889, 0.0), (3894, 0.0), (3896, 0.0), (3897, 0.0), (3899, 0.0), (3905, 0.0), (3906, 0.0), (3907, 0.0), (3908, 0.0), (3909, 0.0), (3914, 0.0), (3916, 0.0), (3918, 0.0), (3921, 0.0), (3923, 0.0), (3929, 0.0), (3930, 0.0), (3933, 0.0), (3934, 0.0), (3935, 0.0), (3936, 0.0), (3937, 0.0), (3938, 0.0), (3939, 0.0), (3940, 0.0), (3942, 0.0), (3943, 0.0), (3944, 0.0), (3945, 0.0), (3948, 0.0), (3949, 0.0), (3950, 0.0), (3957, 0.0), (3958, 0.0), (3963, 0.0), (3964, 0.0), (3965, 0.0), (3967, 0.0), (3968, 0.0), (3969, 0.0), (3970, 0.0), (3971, 0.0), (3972, 0.0), (3976, 0.0), (3977, 0.0), (3979, 0.0), (3980, 0.0), (3981, 0.0), (3986, 0.0), (3987, 0.0), (3988, 0.0), (3989, 0.0), (3991, 0.0), (3994, 0.0), (3995, 0.0), (3996, 0.0), (3997, 0.0), (3998, 0.0), (3999, 0.0), (4001, 0.0), (4002, 0.0), (4006, 0.0), (4007, 0.0), (4009, 0.0), (4010, 0.0), (4012, 0.0), (4013, 0.0), (4015, 0.0), (4017, 0.0), (4018, 0.0), (4019, 0.0), (4021, 0.0), (4026, 0.0), (4027, 0.0), (4028, 0.0), (4029, 0.0), (4030, 0.0), (4032, 0.0), (4034, 0.0), (4037, 0.0), (4039, 0.0), (4040, 0.0), (4041, 0.0), (4042, 0.0), (4043, 0.0), (4044, 0.0), (4047, 0.0), (4049, 0.0), (4050, 0.0), (4052, 0.0), (4055, 0.0), (4057, 0.0), (4058, 0.0), (4061, 0.0), (4062, 0.0), (4063, 0.0), (4064, 0.0), (4065, 0.0), (4070, 0.0), (4071, 0.0), (4072, 0.0), (4075, 0.0), (4076, 0.0), (4077, 0.0), (4078, 0.0), (4080, 0.0), (4083, 0.0), (4084, 0.0), (4090, 0.0), (4091, 0.0), (4093, 0.0), (4094, 0.0), (4099, 0.0), (4100, 0.0), (4102, 0.0), (4103, 0.0), (4104, 0.0), (4105, 0.0), (4106, 0.0), (4107, 0.0), (4112, 0.0), (4115, 0.0), (4119, 0.0), (4120, 0.0), (4122, 0.0), (4125, 0.0), (4126, 0.0), (4127, 0.0), (4129, 0.0), (4131, 0.0), (4132, 0.0), (4134, 0.0), (4136, 0.0), (4139, 0.0), (4140, 0.0), (4142, 0.0), (4145, 0.0), (4146, 0.0), (4147, 0.0), (4149, 0.0), (4150, 0.0), (4153, 0.0), (4157, 0.0), (4161, 0.0), (4162, 0.0), (4166, 0.0), (4167, 0.0), (4168, 0.0), (4170, 0.0), (4172, 0.0), (4175, 0.0), (4177, 0.0), (4179, 0.0), (4180, 0.0), (4181, 0.0), (4184, 0.0), (4185, 0.0), (4188, 0.0), (4190, 0.0), (4191, 0.0), (4193, 0.0), (4194, 0.0), (4195, 0.0), (4196, 0.0), (4198, 0.0), (4201, 0.0), (4204, 0.0), (4206, 0.0), (4208, 0.0), (4209, 0.0), (4210, 0.0), (4211, 0.0), (4212, 0.0), (4213, 0.0), (4214, 0.0), (4219, 0.0), (4220, 0.0), (4221, 0.0), (4222, 0.0), (4223, 0.0), (4224, 0.0), (4225, 0.0), (4226, 0.0), (4228, 0.0), (4229, 0.0), (4230, 0.0), (4234, 0.0), (4236, 0.0), (4237, 0.0), (4238, 0.0), (4239, 0.0), (4241, 0.0), (4245, 0.0), (4248, 0.0), (4250, 0.0), (4251, 0.0), (4253, 0.0), (4254, 0.0), (4258, 0.0), (4260, 0.0), (4264, 0.0), (4265, 0.0), (4270, 0.0), (4272, 0.0), (4273, 0.0), (4275, 0.0), (4276, 0.0), (4278, 0.0), (4279, 0.0), (4280, 0.0), (4281, 0.0), (4285, 0.0), (4289, 0.0), (4290, 0.0), (4292, 0.0), (4294, 0.0), (4296, 0.0), (4297, 0.0), (4298, 0.0), (4300, 0.0), (4301, 0.0), (4302, 0.0), (4303, 0.0), (4304, 0.0), (4305, 0.0), (4306, 0.0), (4307, 0.0), (4308, 0.0), (4312, 0.0), (4313, 0.0), (4314, 0.0), (4315, 0.0), (4316, 0.0), (4317, 0.0), (4318, 0.0), (4319, 0.0), (4320, 0.0), (4322, 0.0), (4323, 0.0), (4324, 0.0), (4326, 0.0), (4327, 0.0), (4328, 0.0), (4331, 0.0), (4332, 0.0), (4337, 0.0), (4338, 0.0), (4339, 0.0), (4340, 0.0), (4341, 0.0), (4342, 0.0), (4343, 0.0), (4346, 0.0), (4347, 0.0), (4348, 0.0), (4349, 0.0), (4351, 0.0), (4352, 0.0), (4354, 0.0), (4355, 0.0), (4358, 0.0), (4359, 0.0), (4360, 0.0), (4361, 0.0), (4363, 0.0), (4364, 0.0), (4365, 0.0), (4367, 0.0), (4370, 0.0), (4372, 0.0), (4373, 0.0), (4375, 0.0), (4376, 0.0), (4378, 0.0), (4381, 0.0), (4383, 0.0), (4384, 0.0), (4385, 0.0), (4386, 0.0), (4389, 0.0), (4390, 0.0), (4392, 0.0), (4393, 0.0), (4395, 0.0), (4396, 0.0), (4397, 0.0), (4398, 0.0), (4400, 0.0), (4405, 0.0), (4406, 0.0), (4408, 0.0), (4409, 0.0), (4413, 0.0), (4414, 0.0), (4415, 0.0), (4416, 0.0), (4417, 0.0), (4418, 0.0), (4421, 0.0), (4423, 0.0), (4424, 0.0), (4425, 0.0), (4426, 0.0), (4428, 0.0), (4431, 0.0), (4433, 0.0), (4439, 0.0), (4440, 0.0), (4441, 0.0), (4447, 0.0), (4449, 0.0), (4451, 0.0), (4452, 0.0), (4454, 0.0), (4455, 0.0), (4456, 0.0), (4457, 0.0), (4458, 0.0), (4459, 0.0), (4461, 0.0), (4462, 0.0), (4463, 0.0), (4464, 0.0), (4466, 0.0), (4467, 0.0), (4471, 0.0), (4476, 0.0), (4480, 0.0), (4482, 0.0), (4483, 0.0), (4486, 0.0), (4488, 0.0), (4491, 0.0), (4492, 0.0), (4493, 0.0), (4495, 0.0), (4496, 0.0), (4498, 0.0), (4499, 0.0), (4500, 0.0), (4505, 0.0), (4506, 0.0), (4508, 0.0), (4509, 0.0), (4513, 0.0), (4514, 0.0), (4518, 0.0), (4519, 0.0), (4524, 0.0), (4525, 0.0), (4526, 0.0), (4527, 0.0), (4529, 0.0), (4532, 0.0), (4534, 0.0), (4537, 0.0), (4538, 0.0), (4539, 0.0), (4540, 0.0), (4541, 0.0), (4543, 0.0), (4544, 0.0), (4547, 0.0), (4548, 0.0), (4549, 0.0), (4550, 0.0), (4552, 0.0), (4558, 0.0), (4559, 0.0), (4560, 0.0), (4561, 0.0), (4564, 0.0), (4565, 0.0), (4567, 0.0), (4568, 0.0), (4570, 0.0), (4572, 0.0), (4576, 0.0), (4577, 0.0), (4578, 0.0), (4579, 0.0), (4580, 0.0), (4582, 0.0), (4583, 0.0), (4585, 0.0), (4586, 0.0), (4588, 0.0), (4592, 0.0), (4595, 0.0), (4596, 0.0), (4597, 0.0), (4602, 0.0), (4604, 0.0), (4605, 0.0), (4606, 0.0), (4607, 0.0), (4608, 0.0), (4609, 0.0), (4611, 0.0), (4612, 0.0), (4613, 0.0), (4614, 0.0), (4615, 0.0), (4616, 0.0), (4618, 0.0), (4620, 0.0), (4621, 0.0), (4622, 0.0), (4627, 0.0), (4630, 0.0), (4631, 0.0), (4633, 0.0), (4634, 0.0), (4635, 0.0), (4642, 0.0), (4644, 0.0), (4645, 0.0), (4646, 0.0), (4647, 0.0), (4649, 0.0), (4651, 0.0), (4652, 0.0), (4653, 0.0), (4654, 0.0), (4655, 0.0), (4661, 0.0), (4662, 0.0), (4663, 0.0), (4665, 0.0), (4666, 0.0), (4667, 0.0), (4671, 0.0), (4672, 0.0), (4675, 0.0), (4676, 0.0), (4677, 0.0), (4678, 0.0), (4680, 0.0), (4681, 0.0), (4683, 0.0), (4685, 0.0), (4686, 0.0), (4687, 0.0), (4688, 0.0), (4689, 0.0), (4690, 0.0), (4691, 0.0), (4692, 0.0), (4693, 0.0), (4694, 0.0), (4695, 0.0), (4697, 0.0), (4698, 0.0), (4700, 0.0), (4702, 0.0), (4703, 0.0), (4704, 0.0), (4705, 0.0), (4707, 0.0), (4709, 0.0), (4711, 0.0), (4714, 0.0), (4715, 0.0), (4716, 0.0), (4717, 0.0), (4719, 0.0), (4720, 0.0), (4721, 0.0), (4728, 0.0), (4729, 0.0), (4730, 0.0), (4732, 0.0), (4737, 0.0), (4738, 0.0), (4740, 0.0), (4741, 0.0), (4742, 0.0), (4743, 0.0), (4744, 0.0), (4745, 0.0), (4746, 0.0), (4748, 0.0), (4749, 0.0), (4750, 0.0), (4751, 0.0), (4753, 0.0), (4754, 0.0), (4755, 0.0), (4758, 0.0), (4759, 0.0)]\n"
          ]
        }
      ]
    },
    {
      "source": [
        "#print the name of similar movies based on their index\n",
        "print('Top 30 recommadation/n')\n",
        "\n",
        "i=1\n",
        "for m in sorted_recommadation_score:\n",
        "    index=m[0] # Use m to access the movie index from the sorted list\n",
        "    title_from_index = movie_df[(movie_df.index==index)]['Movie_Title'].values[0] # Assuming 'movie_df' is your DataFrame\n",
        "    if(i<30):\n",
        "        print(i,'.',title_from_index)\n",
        "    i+=1"
      ],
      "cell_type": "code",
      "metadata": {
        "colab": {
          "base_uri": "https://localhost:8080/"
        },
        "id": "lOuxE-oYaxRY",
        "outputId": "8a5bbe21-3b88-4ba3-9796-91bfe1cccabf"
      },
      "execution_count": 87,
      "outputs": [
        {
          "output_type": "stream",
          "name": "stdout",
          "text": [
            "Top 30 recommadation/n\n",
            "1 . Dancer in the Dark\n",
            "2 . Manderlay\n",
            "3 . The Slaughter Rule\n",
            "4 . The Green Mile\n",
            "5 . Proof of Life\n",
            "6 . The Girl on the Train\n",
            "7 . Melancholia\n",
            "8 . Bang Bang Baby\n",
            "9 . March or Die\n",
            "10 . Crazy in Alabama\n",
            "11 . Windtalkers\n",
            "12 . Top Hat\n",
            "13 . Extreme Measures\n",
            "14 . Mississippi Mermaid\n",
            "15 . The Musketeer\n",
            "16 . Persepolis\n",
            "17 . Bad Company\n",
            "18 . Dylan Dog: Dead of Night\n",
            "19 . 8 Women\n",
            "20 . Willy Wonka & the Chocolate Factory\n",
            "21 . The Guru\n",
            "22 . The Negotiator\n",
            "23 . 16 Blocks\n",
            "24 . Pocketful of Miracles\n",
            "25 . xXx: State of the Union\n",
            "26 . Down in the Valley\n",
            "27 . The Killer Inside Me\n",
            "28 . The Naked Gun 2½: The Smell of Fear\n",
            "29 . Disturbia\n"
          ]
        }
      ]
    },
    {
      "cell_type": "markdown",
      "source": [
        "# **#Top 10 Movie Recommendation system**"
      ],
      "metadata": {
        "id": "aezbOJU9hj11"
      }
    },
    {
      "cell_type": "code",
      "source": [
        "from os import close\n",
        "movie_name=input('Enter your favourite movie name:')\n",
        "list_of_all_titles=movie_df['Movie_Title'].tolist()\n",
        "find_close_match=df.get_close_matches(movie_name,list_of_all_titles)\n",
        "close_match=find_close_match[0]\n",
        "index_of_movie=movie_df[movie_df.Movie_Title==close_match]['Movie_ID'].values[0]\n",
        "recommadation_score=list(enumerate(similarity[index_of_movie]))\n",
        "sorted_recommadation_score=sorted(recommadation_score,key=lambda x:x[1],reverse=True)\n",
        "print('top 10 suggested movies for you/n')\n",
        "i=1\n",
        "for movie in sorted_recommadation_score:\n",
        "    index=movie[0]\n",
        "    title_from_index=movie_df[movie_df.Movie_ID==index]['Movie_Title'].values\n",
        "    if (i<11):\n",
        "        print(i,'.',title_from_index )\n",
        "    i+=1\n"
      ],
      "metadata": {
        "colab": {
          "base_uri": "https://localhost:8080/"
        },
        "id": "kbn8sg34UTU_",
        "outputId": "06a9f2a5-bb4b-4a19-f0d5-f4ea927531a0"
      },
      "execution_count": 100,
      "outputs": [
        {
          "output_type": "stream",
          "name": "stdout",
          "text": [
            "Enter your favourite movie name:The Guru\n",
            "top 10 suggested movies for you/n\n",
            "1 . ['The Guru']\n",
            "2 . ['White Noise']\n",
            "3 . ['The Crime of Padre Amaro']\n",
            "4 . ['Georgia Rule']\n",
            "5 . ['Honey']\n",
            "6 . ['The Count of Monte Cristo']\n",
            "7 . ['Spun']\n",
            "8 . ['Tucker and Dale vs Evil']\n",
            "9 . ['The Yellow Handkerchief']\n",
            "10 . ['When the Lights Went Out']\n"
          ]
        }
      ]
    },
    {
      "cell_type": "code",
      "source": [],
      "metadata": {
        "id": "yHEDIABoUTXy"
      },
      "execution_count": null,
      "outputs": []
    },
    {
      "cell_type": "code",
      "source": [],
      "metadata": {
        "id": "sZ96EjzgUTZ8"
      },
      "execution_count": null,
      "outputs": []
    },
    {
      "cell_type": "code",
      "source": [],
      "metadata": {
        "id": "S9JHOtaNUTb1"
      },
      "execution_count": null,
      "outputs": []
    },
    {
      "cell_type": "code",
      "source": [],
      "metadata": {
        "id": "tRZ4uVnRUTdq"
      },
      "execution_count": null,
      "outputs": []
    },
    {
      "cell_type": "code",
      "source": [],
      "metadata": {
        "id": "oiG5AbaSUTfj"
      },
      "execution_count": null,
      "outputs": []
    },
    {
      "cell_type": "code",
      "source": [],
      "metadata": {
        "id": "evGTFbpEUThS"
      },
      "execution_count": null,
      "outputs": []
    },
    {
      "cell_type": "code",
      "source": [],
      "metadata": {
        "id": "K2orFA9JUTi3"
      },
      "execution_count": null,
      "outputs": []
    },
    {
      "cell_type": "code",
      "source": [],
      "metadata": {
        "id": "Jn6fCkBVUTkq"
      },
      "execution_count": null,
      "outputs": []
    },
    {
      "cell_type": "code",
      "source": [],
      "metadata": {
        "id": "ILQOjVuKUTmY"
      },
      "execution_count": null,
      "outputs": []
    },
    {
      "cell_type": "code",
      "source": [],
      "metadata": {
        "id": "-yeyVexMUToM"
      },
      "execution_count": null,
      "outputs": []
    },
    {
      "cell_type": "code",
      "source": [],
      "metadata": {
        "id": "E86D5wJbUTp2"
      },
      "execution_count": null,
      "outputs": []
    },
    {
      "cell_type": "code",
      "source": [],
      "metadata": {
        "id": "aFpABcwtUTxE"
      },
      "execution_count": null,
      "outputs": []
    },
    {
      "cell_type": "code",
      "source": [],
      "metadata": {
        "id": "5Cz7LkGbUTy9"
      },
      "execution_count": null,
      "outputs": []
    },
    {
      "cell_type": "code",
      "source": [],
      "metadata": {
        "id": "TOGXPByFUT0m"
      },
      "execution_count": null,
      "outputs": []
    },
    {
      "cell_type": "code",
      "source": [],
      "metadata": {
        "id": "qhZ7TDFeUT2q"
      },
      "execution_count": null,
      "outputs": []
    },
    {
      "cell_type": "code",
      "source": [],
      "metadata": {
        "id": "9xWnRHWqUT4Y"
      },
      "execution_count": null,
      "outputs": []
    },
    {
      "cell_type": "code",
      "source": [],
      "metadata": {
        "id": "Z0XgpafoUT6A"
      },
      "execution_count": null,
      "outputs": []
    },
    {
      "cell_type": "code",
      "source": [],
      "metadata": {
        "id": "TASSNG1BUT7x"
      },
      "execution_count": null,
      "outputs": []
    },
    {
      "cell_type": "code",
      "source": [],
      "metadata": {
        "id": "NcdG6h4TUT9e"
      },
      "execution_count": null,
      "outputs": []
    },
    {
      "cell_type": "code",
      "source": [],
      "metadata": {
        "id": "ZjNCXL4lUT_3"
      },
      "execution_count": null,
      "outputs": []
    },
    {
      "cell_type": "code",
      "source": [],
      "metadata": {
        "id": "Z1uOEGT-UULa"
      },
      "execution_count": null,
      "outputs": []
    },
    {
      "cell_type": "code",
      "source": [],
      "metadata": {
        "id": "wo11GcAVUUQG"
      },
      "execution_count": null,
      "outputs": []
    },
    {
      "cell_type": "code",
      "source": [],
      "metadata": {
        "id": "Myv_19rMUUSr"
      },
      "execution_count": null,
      "outputs": []
    },
    {
      "cell_type": "code",
      "source": [],
      "metadata": {
        "id": "YW1DQAzQUUU1"
      },
      "execution_count": null,
      "outputs": []
    },
    {
      "cell_type": "code",
      "source": [],
      "metadata": {
        "id": "HNB7r9opUUXK"
      },
      "execution_count": null,
      "outputs": []
    },
    {
      "cell_type": "code",
      "source": [],
      "metadata": {
        "id": "PHGYyzzAUUbw"
      },
      "execution_count": null,
      "outputs": []
    },
    {
      "cell_type": "code",
      "source": [],
      "metadata": {
        "id": "yEagv6k_UUes"
      },
      "execution_count": null,
      "outputs": []
    },
    {
      "cell_type": "code",
      "source": [],
      "metadata": {
        "id": "oxYTaVzVUUgL"
      },
      "execution_count": null,
      "outputs": []
    },
    {
      "cell_type": "code",
      "source": [],
      "metadata": {
        "id": "E6pHmd1yUUkp"
      },
      "execution_count": null,
      "outputs": []
    },
    {
      "cell_type": "code",
      "source": [],
      "metadata": {
        "id": "wow3VjyRS8i2"
      },
      "execution_count": null,
      "outputs": []
    }
  ]
}